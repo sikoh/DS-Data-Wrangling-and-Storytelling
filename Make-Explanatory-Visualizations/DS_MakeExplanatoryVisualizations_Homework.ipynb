{
  "cells": [
    {
      "cell_type": "markdown",
      "metadata": {
        "id": "view-in-github",
        "colab_type": "text"
      },
      "source": [
        "<a href=\"https://colab.research.google.com/github/sikoh/DS-Data-Wrangling-and-Storytelling/blob/main/Make-Explanatory-Visualizations/DS_MakeExplanatoryVisualizations_Homework.ipynb\" target=\"_parent\"><img src=\"https://colab.research.google.com/assets/colab-badge.svg\" alt=\"Open In Colab\"/></a>"
      ]
    },
    {
      "cell_type": "markdown",
      "metadata": {
        "id": "-8-trVo__vRE"
      },
      "source": [
        "# Data Science - Unit 1 Sprint 1 Module 4\n",
        "\n",
        "## Make Explanatory Visualizations\n",
        "\n",
        "### Module Learning Objectives\n",
        "\n",
        "- Identify the appropriate visualization type for a particular variable type and research question\n",
        "- Use Matplotlib to visualize distributions and relationships with continuous and discrete variables\n",
        "- Add emphasis and annotations to transform visualizations from exploratory to explanatory\n",
        "- Remove clutter from visualizations\n",
        "- Identify misleading visualizations and how to fix them\n",
        "\n",
        "### Notebook points: 5"
      ]
    },
    {
      "cell_type": "markdown",
      "metadata": {
        "id": "9harOhCr93VC"
      },
      "source": [
        "### Introduction\n",
        "\n",
        "The first few modules in this Sprint have focused on exploring datasets, manipulating DataFrames, and creating new features. Now we're going to create some visualizations!\n",
        "\n",
        "### Dataset Description\n",
        "\n",
        "Researchers recorded data on sleep duration as well as a set of ecological and constitutional variables for a selection of mammal species.\n",
        "\n",
        "The data dictionary can be accessed here: https://github.com/bloominstituteoftechnology/data-science-practice-datasets/tree/main/unit_1/Sleep in the READ ME file.\n",
        "\n",
        "*Source: Allison, T. and Cicchetti, D. (1976), \"Sleep in Mammals: Ecological and Constitutional Correlates\", Science, November 12, vol. 194, pp. 732-734.*\n"
      ]
    },
    {
      "cell_type": "markdown",
      "metadata": {
        "id": "8LPohEc5sv7J"
      },
      "source": [
        "**Task 1** -  Import the `sleep.csv` file and load it as a DataFrame named `Sleep`.\n",
        "* Don't forget to include any import statements you need to create a DataFrame from a .csv file\n",
        "* The `sleep.csv` file can be accessed using `sleep_url` which is provided for you\n",
        "* Load the `sleep.csv` file and as a DataFrame named `Sleep`\n",
        "* Print the first 5 rows of `Sleep`"
      ]
    },
    {
      "cell_type": "code",
      "execution_count": 1,
      "metadata": {
        "colab": {
          "base_uri": "https://localhost:8080/",
          "height": 206
        },
        "collapsed": true,
        "deletable": false,
        "id": "ihNRKzhzs7_C",
        "nbgrader": {
          "cell_type": "code",
          "checksum": "e9868996bc4efd7948e8d04c9b4d44bd",
          "grade": false,
          "grade_id": "cell-565969801f9af810",
          "locked": false,
          "schema_version": 3,
          "solution": true,
          "task": false
        },
        "outputId": "0af6e43e-5998-452c-ffcf-8579550c2519"
      },
      "outputs": [
        {
          "output_type": "execute_result",
          "data": {
            "text/plain": [
              "                      Animal      Body   Brain  SWsleep  Parasleep  Totsleep  \\\n",
              "0  African_giant_pouched_rat     1.000     6.6      6.3        2.0       8.3   \n",
              "1             Asian_elephant  2547.000  4603.0      2.1        1.8       3.9   \n",
              "2                     Baboon    10.550   179.5      9.1        0.7       9.8   \n",
              "3              Big_brown_bat     0.023     0.3     15.8        3.9      19.7   \n",
              "4            Brazilian_tapir   160.000   169.0      5.2        1.0       6.2   \n",
              "\n",
              "   Life   Gest  Pred  Exposure  Danger  \n",
              "0   4.5   42.0     3         1       3  \n",
              "1  69.0  624.0     3         5       4  \n",
              "2  27.0  180.0     4         4       4  \n",
              "3  19.0   35.0     1         1       1  \n",
              "4  30.4  392.0     4         5       4  "
            ],
            "text/html": [
              "\n",
              "  <div id=\"df-79e50f0d-6b32-4687-bf06-3037ec69445e\" class=\"colab-df-container\">\n",
              "    <div>\n",
              "<style scoped>\n",
              "    .dataframe tbody tr th:only-of-type {\n",
              "        vertical-align: middle;\n",
              "    }\n",
              "\n",
              "    .dataframe tbody tr th {\n",
              "        vertical-align: top;\n",
              "    }\n",
              "\n",
              "    .dataframe thead th {\n",
              "        text-align: right;\n",
              "    }\n",
              "</style>\n",
              "<table border=\"1\" class=\"dataframe\">\n",
              "  <thead>\n",
              "    <tr style=\"text-align: right;\">\n",
              "      <th></th>\n",
              "      <th>Animal</th>\n",
              "      <th>Body</th>\n",
              "      <th>Brain</th>\n",
              "      <th>SWsleep</th>\n",
              "      <th>Parasleep</th>\n",
              "      <th>Totsleep</th>\n",
              "      <th>Life</th>\n",
              "      <th>Gest</th>\n",
              "      <th>Pred</th>\n",
              "      <th>Exposure</th>\n",
              "      <th>Danger</th>\n",
              "    </tr>\n",
              "  </thead>\n",
              "  <tbody>\n",
              "    <tr>\n",
              "      <th>0</th>\n",
              "      <td>African_giant_pouched_rat</td>\n",
              "      <td>1.000</td>\n",
              "      <td>6.6</td>\n",
              "      <td>6.3</td>\n",
              "      <td>2.0</td>\n",
              "      <td>8.3</td>\n",
              "      <td>4.5</td>\n",
              "      <td>42.0</td>\n",
              "      <td>3</td>\n",
              "      <td>1</td>\n",
              "      <td>3</td>\n",
              "    </tr>\n",
              "    <tr>\n",
              "      <th>1</th>\n",
              "      <td>Asian_elephant</td>\n",
              "      <td>2547.000</td>\n",
              "      <td>4603.0</td>\n",
              "      <td>2.1</td>\n",
              "      <td>1.8</td>\n",
              "      <td>3.9</td>\n",
              "      <td>69.0</td>\n",
              "      <td>624.0</td>\n",
              "      <td>3</td>\n",
              "      <td>5</td>\n",
              "      <td>4</td>\n",
              "    </tr>\n",
              "    <tr>\n",
              "      <th>2</th>\n",
              "      <td>Baboon</td>\n",
              "      <td>10.550</td>\n",
              "      <td>179.5</td>\n",
              "      <td>9.1</td>\n",
              "      <td>0.7</td>\n",
              "      <td>9.8</td>\n",
              "      <td>27.0</td>\n",
              "      <td>180.0</td>\n",
              "      <td>4</td>\n",
              "      <td>4</td>\n",
              "      <td>4</td>\n",
              "    </tr>\n",
              "    <tr>\n",
              "      <th>3</th>\n",
              "      <td>Big_brown_bat</td>\n",
              "      <td>0.023</td>\n",
              "      <td>0.3</td>\n",
              "      <td>15.8</td>\n",
              "      <td>3.9</td>\n",
              "      <td>19.7</td>\n",
              "      <td>19.0</td>\n",
              "      <td>35.0</td>\n",
              "      <td>1</td>\n",
              "      <td>1</td>\n",
              "      <td>1</td>\n",
              "    </tr>\n",
              "    <tr>\n",
              "      <th>4</th>\n",
              "      <td>Brazilian_tapir</td>\n",
              "      <td>160.000</td>\n",
              "      <td>169.0</td>\n",
              "      <td>5.2</td>\n",
              "      <td>1.0</td>\n",
              "      <td>6.2</td>\n",
              "      <td>30.4</td>\n",
              "      <td>392.0</td>\n",
              "      <td>4</td>\n",
              "      <td>5</td>\n",
              "      <td>4</td>\n",
              "    </tr>\n",
              "  </tbody>\n",
              "</table>\n",
              "</div>\n",
              "    <div class=\"colab-df-buttons\">\n",
              "\n",
              "  <div class=\"colab-df-container\">\n",
              "    <button class=\"colab-df-convert\" onclick=\"convertToInteractive('df-79e50f0d-6b32-4687-bf06-3037ec69445e')\"\n",
              "            title=\"Convert this dataframe to an interactive table.\"\n",
              "            style=\"display:none;\">\n",
              "\n",
              "  <svg xmlns=\"http://www.w3.org/2000/svg\" height=\"24px\" viewBox=\"0 -960 960 960\">\n",
              "    <path d=\"M120-120v-720h720v720H120Zm60-500h600v-160H180v160Zm220 220h160v-160H400v160Zm0 220h160v-160H400v160ZM180-400h160v-160H180v160Zm440 0h160v-160H620v160ZM180-180h160v-160H180v160Zm440 0h160v-160H620v160Z\"/>\n",
              "  </svg>\n",
              "    </button>\n",
              "\n",
              "  <style>\n",
              "    .colab-df-container {\n",
              "      display:flex;\n",
              "      gap: 12px;\n",
              "    }\n",
              "\n",
              "    .colab-df-convert {\n",
              "      background-color: #E8F0FE;\n",
              "      border: none;\n",
              "      border-radius: 50%;\n",
              "      cursor: pointer;\n",
              "      display: none;\n",
              "      fill: #1967D2;\n",
              "      height: 32px;\n",
              "      padding: 0 0 0 0;\n",
              "      width: 32px;\n",
              "    }\n",
              "\n",
              "    .colab-df-convert:hover {\n",
              "      background-color: #E2EBFA;\n",
              "      box-shadow: 0px 1px 2px rgba(60, 64, 67, 0.3), 0px 1px 3px 1px rgba(60, 64, 67, 0.15);\n",
              "      fill: #174EA6;\n",
              "    }\n",
              "\n",
              "    .colab-df-buttons div {\n",
              "      margin-bottom: 4px;\n",
              "    }\n",
              "\n",
              "    [theme=dark] .colab-df-convert {\n",
              "      background-color: #3B4455;\n",
              "      fill: #D2E3FC;\n",
              "    }\n",
              "\n",
              "    [theme=dark] .colab-df-convert:hover {\n",
              "      background-color: #434B5C;\n",
              "      box-shadow: 0px 1px 3px 1px rgba(0, 0, 0, 0.15);\n",
              "      filter: drop-shadow(0px 1px 2px rgba(0, 0, 0, 0.3));\n",
              "      fill: #FFFFFF;\n",
              "    }\n",
              "  </style>\n",
              "\n",
              "    <script>\n",
              "      const buttonEl =\n",
              "        document.querySelector('#df-79e50f0d-6b32-4687-bf06-3037ec69445e button.colab-df-convert');\n",
              "      buttonEl.style.display =\n",
              "        google.colab.kernel.accessAllowed ? 'block' : 'none';\n",
              "\n",
              "      async function convertToInteractive(key) {\n",
              "        const element = document.querySelector('#df-79e50f0d-6b32-4687-bf06-3037ec69445e');\n",
              "        const dataTable =\n",
              "          await google.colab.kernel.invokeFunction('convertToInteractive',\n",
              "                                                    [key], {});\n",
              "        if (!dataTable) return;\n",
              "\n",
              "        const docLinkHtml = 'Like what you see? Visit the ' +\n",
              "          '<a target=\"_blank\" href=https://colab.research.google.com/notebooks/data_table.ipynb>data table notebook</a>'\n",
              "          + ' to learn more about interactive tables.';\n",
              "        element.innerHTML = '';\n",
              "        dataTable['output_type'] = 'display_data';\n",
              "        await google.colab.output.renderOutput(dataTable, element);\n",
              "        const docLink = document.createElement('div');\n",
              "        docLink.innerHTML = docLinkHtml;\n",
              "        element.appendChild(docLink);\n",
              "      }\n",
              "    </script>\n",
              "  </div>\n",
              "\n",
              "\n",
              "<div id=\"df-cac6bcb0-5d3a-4091-91c6-9f359dee5dd0\">\n",
              "  <button class=\"colab-df-quickchart\" onclick=\"quickchart('df-cac6bcb0-5d3a-4091-91c6-9f359dee5dd0')\"\n",
              "            title=\"Suggest charts.\"\n",
              "            style=\"display:none;\">\n",
              "\n",
              "<svg xmlns=\"http://www.w3.org/2000/svg\" height=\"24px\"viewBox=\"0 0 24 24\"\n",
              "     width=\"24px\">\n",
              "    <g>\n",
              "        <path d=\"M19 3H5c-1.1 0-2 .9-2 2v14c0 1.1.9 2 2 2h14c1.1 0 2-.9 2-2V5c0-1.1-.9-2-2-2zM9 17H7v-7h2v7zm4 0h-2V7h2v10zm4 0h-2v-4h2v4z\"/>\n",
              "    </g>\n",
              "</svg>\n",
              "  </button>\n",
              "\n",
              "<style>\n",
              "  .colab-df-quickchart {\n",
              "      --bg-color: #E8F0FE;\n",
              "      --fill-color: #1967D2;\n",
              "      --hover-bg-color: #E2EBFA;\n",
              "      --hover-fill-color: #174EA6;\n",
              "      --disabled-fill-color: #AAA;\n",
              "      --disabled-bg-color: #DDD;\n",
              "  }\n",
              "\n",
              "  [theme=dark] .colab-df-quickchart {\n",
              "      --bg-color: #3B4455;\n",
              "      --fill-color: #D2E3FC;\n",
              "      --hover-bg-color: #434B5C;\n",
              "      --hover-fill-color: #FFFFFF;\n",
              "      --disabled-bg-color: #3B4455;\n",
              "      --disabled-fill-color: #666;\n",
              "  }\n",
              "\n",
              "  .colab-df-quickchart {\n",
              "    background-color: var(--bg-color);\n",
              "    border: none;\n",
              "    border-radius: 50%;\n",
              "    cursor: pointer;\n",
              "    display: none;\n",
              "    fill: var(--fill-color);\n",
              "    height: 32px;\n",
              "    padding: 0;\n",
              "    width: 32px;\n",
              "  }\n",
              "\n",
              "  .colab-df-quickchart:hover {\n",
              "    background-color: var(--hover-bg-color);\n",
              "    box-shadow: 0 1px 2px rgba(60, 64, 67, 0.3), 0 1px 3px 1px rgba(60, 64, 67, 0.15);\n",
              "    fill: var(--button-hover-fill-color);\n",
              "  }\n",
              "\n",
              "  .colab-df-quickchart-complete:disabled,\n",
              "  .colab-df-quickchart-complete:disabled:hover {\n",
              "    background-color: var(--disabled-bg-color);\n",
              "    fill: var(--disabled-fill-color);\n",
              "    box-shadow: none;\n",
              "  }\n",
              "\n",
              "  .colab-df-spinner {\n",
              "    border: 2px solid var(--fill-color);\n",
              "    border-color: transparent;\n",
              "    border-bottom-color: var(--fill-color);\n",
              "    animation:\n",
              "      spin 1s steps(1) infinite;\n",
              "  }\n",
              "\n",
              "  @keyframes spin {\n",
              "    0% {\n",
              "      border-color: transparent;\n",
              "      border-bottom-color: var(--fill-color);\n",
              "      border-left-color: var(--fill-color);\n",
              "    }\n",
              "    20% {\n",
              "      border-color: transparent;\n",
              "      border-left-color: var(--fill-color);\n",
              "      border-top-color: var(--fill-color);\n",
              "    }\n",
              "    30% {\n",
              "      border-color: transparent;\n",
              "      border-left-color: var(--fill-color);\n",
              "      border-top-color: var(--fill-color);\n",
              "      border-right-color: var(--fill-color);\n",
              "    }\n",
              "    40% {\n",
              "      border-color: transparent;\n",
              "      border-right-color: var(--fill-color);\n",
              "      border-top-color: var(--fill-color);\n",
              "    }\n",
              "    60% {\n",
              "      border-color: transparent;\n",
              "      border-right-color: var(--fill-color);\n",
              "    }\n",
              "    80% {\n",
              "      border-color: transparent;\n",
              "      border-right-color: var(--fill-color);\n",
              "      border-bottom-color: var(--fill-color);\n",
              "    }\n",
              "    90% {\n",
              "      border-color: transparent;\n",
              "      border-bottom-color: var(--fill-color);\n",
              "    }\n",
              "  }\n",
              "</style>\n",
              "\n",
              "  <script>\n",
              "    async function quickchart(key) {\n",
              "      const quickchartButtonEl =\n",
              "        document.querySelector('#' + key + ' button');\n",
              "      quickchartButtonEl.disabled = true;  // To prevent multiple clicks.\n",
              "      quickchartButtonEl.classList.add('colab-df-spinner');\n",
              "      try {\n",
              "        const charts = await google.colab.kernel.invokeFunction(\n",
              "            'suggestCharts', [key], {});\n",
              "      } catch (error) {\n",
              "        console.error('Error during call to suggestCharts:', error);\n",
              "      }\n",
              "      quickchartButtonEl.classList.remove('colab-df-spinner');\n",
              "      quickchartButtonEl.classList.add('colab-df-quickchart-complete');\n",
              "    }\n",
              "    (() => {\n",
              "      let quickchartButtonEl =\n",
              "        document.querySelector('#df-cac6bcb0-5d3a-4091-91c6-9f359dee5dd0 button');\n",
              "      quickchartButtonEl.style.display =\n",
              "        google.colab.kernel.accessAllowed ? 'block' : 'none';\n",
              "    })();\n",
              "  </script>\n",
              "</div>\n",
              "    </div>\n",
              "  </div>\n"
            ]
          },
          "metadata": {},
          "execution_count": 1
        }
      ],
      "source": [
        "# Task 1\n",
        "\n",
        "# Access sleep.csv with this url\n",
        "sleep_url = 'https://raw.githubusercontent.com/bloominstituteoftechnology/data-science-practice-datasets/main/unit_1/Sleep/Sleep.csv'\n",
        "\n",
        "# Read in the sleep.csv file included above as a DataFrame named Sleep and print the first 5 rows.\n",
        "# Don't forget any necessary import statements.\n",
        "\n",
        "# YOUR CODE HERE\n",
        "#raise NotImplementedError()\n",
        "import pandas as pd\n",
        "\n",
        "Sleep = pd.read_csv(sleep_url)\n",
        "\n",
        "# View the DataFrame\n",
        "Sleep.head()"
      ]
    },
    {
      "cell_type": "code",
      "source": [
        "Sleep.shape"
      ],
      "metadata": {
        "colab": {
          "base_uri": "https://localhost:8080/"
        },
        "id": "cp6bJIkJ3CEN",
        "outputId": "34441ba3-3c9c-4e9f-fef2-cc2e7e8d8c2e"
      },
      "execution_count": 2,
      "outputs": [
        {
          "output_type": "execute_result",
          "data": {
            "text/plain": [
              "(42, 11)"
            ]
          },
          "metadata": {},
          "execution_count": 2
        }
      ]
    },
    {
      "cell_type": "code",
      "execution_count": null,
      "metadata": {
        "deletable": false,
        "editable": false,
        "id": "btcEJXxCMixT",
        "nbgrader": {
          "cell_type": "code",
          "checksum": "4993033fb98caa40114c4ed8f2788d64",
          "grade": true,
          "grade_id": "cell-22e1084a89e39897",
          "locked": true,
          "points": 1,
          "schema_version": 3,
          "solution": false,
          "task": false
        }
      },
      "outputs": [],
      "source": [
        "# Task 1 - Test\n",
        "\n",
        "assert isinstance(Sleep, pd.DataFrame), 'Have you created a DataFrame named `Sleep` (check your capitalization)?'\n",
        "assert len(Sleep) == 42\n"
      ]
    },
    {
      "cell_type": "markdown",
      "metadata": {
        "id": "R03kMCWNumQQ"
      },
      "source": [
        "**Task 2** - Plot a histogram of `Parasleep`, which is the number of hours of dreaming sleep each mammal slept during a 24-hour period.\n",
        "* The import statements to `import matplotlib.pyplot as plt` and `import seaborn as sns` are included for you.\n",
        "* Use the template below and **replace the #### as specified in the instructions**\n",
        "* Plot a histogram of `Parasleep` from the `Sleep` DataFrame\n",
        "* The x-axis label should read `'Total hours of dreaming sleep'`\n",
        "* The y-label should read `'Frequency`'\n",
        "* The title should read `'Daily dreaming sleep in mammal species'`\n",
        "\n",
        "**Note:** UNCOMMENT code lines to complete the plotting task"
      ]
    },
    {
      "cell_type": "code",
      "execution_count": null,
      "metadata": {
        "id": "l_otHLWgStmT"
      },
      "outputs": [],
      "source": [
        "# Task 2\n",
        "\n",
        "# UNCOMMENT the code lines to complete the Task\n",
        "\n",
        "# Import matplotlib and seaborn\n",
        "import matplotlib.pyplot as plt\n",
        "import seaborn as sns\n",
        "\n",
        "fig, ax = plt.subplots()\n",
        "\n",
        "# Plot a histogram of Parasleep from the Sleep DataFrame\n",
        "#ax.hist(####)\n",
        "\n",
        "# Specify the axis labels and plot title\n",
        "#ax.set_xlabel(####)\n",
        "#ax.set_####('Frequency')\n",
        "####_title('Daily dreaming sleep in mammal species')\n",
        "\n",
        "plt.show()"
      ]
    },
    {
      "cell_type": "code",
      "execution_count": null,
      "metadata": {
        "deletable": false,
        "id": "RrmIA3F493VF",
        "nbgrader": {
          "cell_type": "code",
          "checksum": "92e82f5e0e2aac0cda080c17b6e8c091",
          "grade": false,
          "grade_id": "cell-a99053d0685466ef",
          "locked": false,
          "schema_version": 3,
          "solution": true,
          "task": false
        }
      },
      "outputs": [],
      "source": [
        "# Task 2 SOLUTION\n",
        "\n",
        "# IGNORE this cell - your code is completed above\n",
        "# You will see this solution when you submit the notebook\n",
        "\n",
        "# YOUR CODE HERE\n",
        "#raise NotImplementedError()"
      ]
    },
    {
      "cell_type": "markdown",
      "metadata": {
        "id": "AyNFAYzYjFSA"
      },
      "source": [
        "**Task 3** - Prepare `Sleep` data for plotting\n",
        "\n",
        "* Create a subset of `Sleep` that includes only records of mammals in `Danger` category 1.  Name this DataFrame `Danger_1`\n",
        "* Create a subset of `Sleep` that includes only records of mammals in `Danger` category 5.  Name this DataFrame `Danger_5`"
      ]
    },
    {
      "cell_type": "code",
      "execution_count": null,
      "metadata": {
        "deletable": false,
        "id": "thH2y_ik93VG",
        "nbgrader": {
          "cell_type": "code",
          "checksum": "1f4529bed205ff7e5a13e4f441f07ce3",
          "grade": false,
          "grade_id": "cell-337cd8cb51d5f637",
          "locked": false,
          "schema_version": 3,
          "solution": true,
          "task": false
        }
      },
      "outputs": [],
      "source": [
        "# Task 3\n",
        "\n",
        "# Set up danger category 1 and danger category 5\n",
        "\n",
        "# YOUR CODE HERE\n",
        "raise NotImplementedError()\n",
        "\n",
        "# View your DataFrames\n",
        "print(Danger_1.head())\n",
        "print(Danger_5.head())"
      ]
    },
    {
      "cell_type": "code",
      "execution_count": null,
      "metadata": {
        "deletable": false,
        "editable": false,
        "id": "fTa9GpVD93VG",
        "nbgrader": {
          "cell_type": "code",
          "checksum": "88d595666a3c45fbcf3850d663c3cb95",
          "grade": true,
          "grade_id": "cell-c3505d0306800048",
          "locked": true,
          "points": 1,
          "schema_version": 3,
          "solution": false,
          "task": false
        }
      },
      "outputs": [],
      "source": [
        "# Task 3 - Test\n",
        "\n",
        "assert isinstance(Danger_1, pd.DataFrame), 'Have you created a DataFrame named Danger_1 (check your capitalization)?'\n",
        "assert isinstance(Danger_5, pd.DataFrame), 'Have you created a DataFrame named Danger_5 (check your capitalization)?'\n"
      ]
    },
    {
      "cell_type": "markdown",
      "metadata": {
        "id": "IlBlDifc93VH"
      },
      "source": [
        "**Task 4** - Sort the `Sleep` DataFrame\n",
        "\n",
        "* Sort the `Sleep` DataFrame by `Gest`.  Name the sorted DataFrame `Sleep_sorted`"
      ]
    },
    {
      "cell_type": "code",
      "execution_count": null,
      "metadata": {
        "deletable": false,
        "id": "f_LquzlJ93VI",
        "nbgrader": {
          "cell_type": "code",
          "checksum": "963aea91dcb91264e6921df9de0a98c1",
          "grade": false,
          "grade_id": "cell-c0ab45b6dbe40522",
          "locked": false,
          "schema_version": 3,
          "solution": true,
          "task": false
        }
      },
      "outputs": [],
      "source": [
        "# Task 4\n",
        "\n",
        "# Sort Sleep by Gest\n",
        "\n",
        "# YOUR CODE HERE\n",
        "raise NotImplementedError()\n",
        "\n",
        "# View the results\n",
        "Sleep_sorted.head()"
      ]
    },
    {
      "cell_type": "code",
      "execution_count": null,
      "metadata": {
        "deletable": false,
        "editable": false,
        "id": "H0QfbTcM93VI",
        "nbgrader": {
          "cell_type": "code",
          "checksum": "bf3b5e3150f9da749b042add79d97f04",
          "grade": true,
          "grade_id": "cell-7420f399f5d1cef9",
          "locked": true,
          "points": 1,
          "schema_version": 3,
          "solution": false,
          "task": false
        }
      },
      "outputs": [],
      "source": [
        "# Task 4 - Test\n",
        "\n",
        "assert Sleep_sorted.iloc[0, 0] == 'N_American_opossum', 'Double-check your DataFrame sorting'\n",
        "\n",
        "### No hidden tests"
      ]
    },
    {
      "cell_type": "markdown",
      "metadata": {
        "id": "ORR-VG_Uylsb"
      },
      "source": [
        "**Task 5** - Plot a line plot of `Parasleep` by `Gest`, the gestational time for each mammal.\n",
        "\n",
        "Use the template below and **replace the #### as specified in the instructions**\n",
        "\n",
        "* Plot a line plot using the `Sleep_sorted` DataFrame with each mammal's value of `Gest` on the x-axis and each mammal's value of `Parasleep` on the y-axis.\n",
        "* In the `plot` statment, specify `'o'` for the marker, `'dashdot'` for the linestyle and `'b'` for the color.\n",
        "* Label and title the graph using the statements provided for you.\n",
        "\n",
        "**The plotting code will not be autograded** but it is still required for completing the project."
      ]
    },
    {
      "cell_type": "code",
      "execution_count": null,
      "metadata": {
        "id": "Xmx0jTIuxYfC"
      },
      "outputs": [],
      "source": [
        "# Task 5 - Plotting\n",
        "\n",
        "# UNCOMMENT the code lines to complete the Task\n",
        "\n",
        "fig, ax = plt.subplots()\n",
        "\n",
        "#ax.plot(####,\n",
        "#    ####,\n",
        "#    marker=####,\n",
        "#    linestyle=####,\n",
        "#    color=####)\n",
        "\n",
        "#ax.set_xlabel('Gestational time (days)')\n",
        "#ax.set_ylabel('Dreaming sleep (hours)')\n",
        "#ax.set_title('The Relationship of Gestational Time to Dreaming Sleep in Mammals')\n",
        "\n",
        "plt.show()"
      ]
    },
    {
      "cell_type": "code",
      "execution_count": null,
      "metadata": {
        "deletable": false,
        "id": "Khm6WiEg93VJ",
        "nbgrader": {
          "cell_type": "code",
          "checksum": "07f0c3c63ce7d8ff2d1981ee280aa5fd",
          "grade": false,
          "grade_id": "cell-eed45d8b40814c93",
          "locked": false,
          "schema_version": 3,
          "solution": true,
          "task": false
        }
      },
      "outputs": [],
      "source": [
        "# Task 5 SOLUTION\n",
        "\n",
        "# IGNORE this cell - your code is completed above\n",
        "# You will see this solution when you submit the notebook\n",
        "\n",
        "# YOUR CODE HERE\n",
        "#raise NotImplementedError()"
      ]
    },
    {
      "cell_type": "markdown",
      "metadata": {
        "id": "Qr2ji9Pp93VJ"
      },
      "source": [
        "**Task 6a** - Create a normalized DataFrame\n",
        "\n",
        "* Use `value_counts` with `normalize=True` to calculate the proportion of mammals in the `Sleep` DataFrame that are in each `Danger` category.  **Save your results in a DataFrame named `Danger_prop`**.\n",
        "* Calculate the percent of mammals in each `Danger` category by multiplying `Danger_prop` by 100 and naming the results `Danger_pct`."
      ]
    },
    {
      "cell_type": "code",
      "execution_count": null,
      "metadata": {
        "deletable": false,
        "nbgrader": {
          "cell_type": "code",
          "checksum": "3b21254d4f20ea5f6e0b1a9eb6f2f9e3",
          "grade": true,
          "grade_id": "cell-f72fc346a6ef5258",
          "locked": false,
          "points": 0,
          "schema_version": 3,
          "solution": true,
          "task": false
        },
        "id": "XE_KKtJO1ZUV"
      },
      "outputs": [],
      "source": [
        "# YOUR CODE HERE\n",
        "raise NotImplementedError()"
      ]
    },
    {
      "cell_type": "code",
      "execution_count": null,
      "metadata": {
        "deletable": false,
        "editable": false,
        "nbgrader": {
          "cell_type": "code",
          "checksum": "d3d6d41a39c9b9720883ee7cd522ecd1",
          "grade": false,
          "grade_id": "cell-762d1e7c98d01577",
          "locked": true,
          "schema_version": 3,
          "solution": false,
          "task": false
        },
        "id": "aepxy6fs1ZUV"
      },
      "outputs": [],
      "source": [
        "assert isinstance(Danger_prop, pd.DataFrame), 'Have you created a DataFrame named Danger_prop?'\n",
        "assert isinstance(Danger_pct, pd.DataFrame), 'Have you created a DataFrame named Danger_pct?'\n"
      ]
    },
    {
      "cell_type": "markdown",
      "metadata": {
        "id": "dpVOCB7HWmae"
      },
      "source": [
        "**Task 6b** - Plot the percent of animals in each `danger` category using a pie chart.\n",
        "\n",
        "* Plot a pie chart using the `Danger` variable from the `Danger_pct` DataFrame.  \n",
        "* Set the labels of the plot using `Danger_pct.index`\n",
        "* Some other graphical parameters as well as the plot title have been set for you.\n",
        "\n",
        "**The plotting code will not be autograded** but it is still required for completing the project."
      ]
    },
    {
      "cell_type": "code",
      "execution_count": null,
      "metadata": {
        "id": "fnxAA79A1ZUW"
      },
      "outputs": [],
      "source": []
    },
    {
      "cell_type": "code",
      "execution_count": null,
      "metadata": {
        "id": "-WIrvK5P1278"
      },
      "outputs": [],
      "source": [
        "# Task 6b - Plotting\n",
        "\n",
        "# UNCOMMENT the code lines to complete the Task\n",
        "\n",
        "# Create the pie chart\n",
        "\n",
        "fig, ax = plt.subplots()\n",
        "\n",
        "#ax.pie(####, labels=####, autopct='%1.1f%%', startangle=90)\n",
        "#ax.set_title('Percent of mammals in each danger category')\n",
        "\n",
        "plt.show()"
      ]
    },
    {
      "cell_type": "code",
      "execution_count": null,
      "metadata": {
        "id": "hKJ1G8fi1ZUX"
      },
      "outputs": [],
      "source": []
    },
    {
      "cell_type": "code",
      "execution_count": null,
      "metadata": {
        "deletable": false,
        "id": "uHpXwcEF93VL",
        "nbgrader": {
          "cell_type": "code",
          "checksum": "ed19a41c7483753736b29842885e9177",
          "grade": false,
          "grade_id": "cell-ade272759a14cda0",
          "locked": false,
          "schema_version": 3,
          "solution": true,
          "task": false
        }
      },
      "outputs": [],
      "source": [
        "# Task 6b SOLUTION\n",
        "\n",
        "# IGNORE this cell - your code is completed above\n",
        "# You will see this solution when you submit the notebook\n",
        "\n",
        "# YOUR CODE HERE\n",
        "#raise NotImplementedError()"
      ]
    },
    {
      "cell_type": "markdown",
      "metadata": {
        "id": "KjpEzt8993VL"
      },
      "source": [
        "**Task 7** - Create a new feature\n",
        "\n",
        "* Use `.loc` to create a new feature in `Sleep` called `Short life` that takes on the values:\n",
        "    * 1 if the mammal's lifespan is less than 30 years long\n",
        "    * 0 if the mammal's lifespan is 30 years or longer\n",
        "* Use `.value_counts()` to calculate the frequency of `Short life`.  **Save your results to a DataFrame named `Life_counts`**"
      ]
    },
    {
      "cell_type": "code",
      "execution_count": null,
      "metadata": {
        "deletable": false,
        "id": "rVCZbe9c93VL",
        "nbgrader": {
          "cell_type": "code",
          "checksum": "90299f3783dbd94d9f1d6a44aaf7ebc1",
          "grade": false,
          "grade_id": "cell-eea76e97d9e1d059",
          "locked": false,
          "schema_version": 3,
          "solution": true,
          "task": false
        }
      },
      "outputs": [],
      "source": [
        "# Task 7\n",
        "\n",
        "# YOUR CODE HERE\n",
        "raise NotImplementedError()\n",
        "\n",
        "# View the results\n",
        "Life_counts.head()\n"
      ]
    },
    {
      "cell_type": "code",
      "execution_count": null,
      "metadata": {
        "deletable": false,
        "editable": false,
        "id": "Cv94OoPq93VL",
        "nbgrader": {
          "cell_type": "code",
          "checksum": "0c12fff76ae5517a7ca083e8d3deaff5",
          "grade": true,
          "grade_id": "cell-ce26aa435b114a62",
          "locked": true,
          "points": 1,
          "schema_version": 3,
          "solution": false,
          "task": false
        }
      },
      "outputs": [],
      "source": [
        "# Task 7 - Test\n",
        "\n",
        "assert 'Short life' in Sleep.columns, 'Have you created the new feature column?'\n",
        "assert isinstance(Life_counts, pd.DataFrame), 'Have you created a DataFrame named Life_counts?'\n"
      ]
    },
    {
      "cell_type": "markdown",
      "metadata": {
        "id": "GAKb2bwr5I6l"
      },
      "source": [
        "**Task 8** - Plot the number of mammals in the `Sleep` dataset that had short (< 30 year) and long (> 30 year) lifespans.\n",
        "\n",
        "* Use `.catplot()` with `kind='count'` to plot the frequency of `Short life`.\n",
        "* Other graphical parameters, axis labels, and the title have been set for you.\n",
        "\n",
        "**The plotting code will not be autograded** but it is still required for completing the project."
      ]
    },
    {
      "cell_type": "code",
      "execution_count": null,
      "metadata": {
        "id": "NDxvzUSp9D15"
      },
      "outputs": [],
      "source": [
        "# Task 8 - Plotting\n",
        "\n",
        "# UNCOMMENT the code lines to complete the Task\n",
        "\n",
        "#sns.catplot(x='########',data=#######,kind='######')\n",
        "\n",
        "plt.ylabel('Frequency')\n",
        "plt.xlabel('Mammal lifespan')\n",
        "plt.title('Number of Mammals with Long and Short Life Expectancies')\n",
        "plt.xticks(ticks=[0,1], labels=['Lifespan >=30 years', 'Lifespan < 30 years'])\n",
        "\n",
        "plt.show()"
      ]
    },
    {
      "cell_type": "code",
      "execution_count": null,
      "metadata": {
        "deletable": false,
        "id": "dbX6eEOE93VM",
        "nbgrader": {
          "cell_type": "code",
          "checksum": "4398d5f38155d6d1b0cc9396c076762a",
          "grade": false,
          "grade_id": "cell-485432aaba3752cd",
          "locked": false,
          "schema_version": 3,
          "solution": true,
          "task": false
        }
      },
      "outputs": [],
      "source": [
        "# Task 8 - Plotting\n",
        "\n",
        "# IGNORE this cell - your code is completed above\n",
        "# You will see this solution when you submit the notebook\n",
        "\n",
        "# YOUR CODE HERE\n",
        "#raise NotImplementedError()"
      ]
    }
  ],
  "metadata": {
    "colab": {
      "provenance": [],
      "include_colab_link": true
    },
    "kernelspec": {
      "display_name": "Python 3",
      "language": "python",
      "name": "python3"
    },
    "language_info": {
      "codemirror_mode": {
        "name": "ipython",
        "version": 3
      },
      "file_extension": ".py",
      "mimetype": "text/x-python",
      "name": "python",
      "nbconvert_exporter": "python",
      "pygments_lexer": "ipython3",
      "version": "3.8.8"
    }
  },
  "nbformat": 4,
  "nbformat_minor": 0
}