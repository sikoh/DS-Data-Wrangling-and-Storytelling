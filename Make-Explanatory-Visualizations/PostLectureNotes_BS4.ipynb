{
  "nbformat": 4,
  "nbformat_minor": 0,
  "metadata": {
    "colab": {
      "name": "PostLectureNotes_BS4.ipynb",
      "version": "0.3.2",
      "provenance": [],
      "collapsed_sections": [],
      "include_colab_link": true
    },
    "language_info": {
      "codemirror_mode": {
        "name": "ipython",
        "version": 3
      },
      "file_extension": ".py",
      "mimetype": "text/x-python",
      "name": "python",
      "nbconvert_exporter": "python",
      "pygments_lexer": "ipython3",
      "version": "3.7.1"
    },
    "kernelspec": {
      "display_name": "Python 3",
      "language": "python",
      "name": "python3"
    }
  "cells": [
    {
      "cell_type": "markdown",
      "metadata": {
        "id": "view-in-github",
        "colab_type": "text"
      },
    },
    {
      "cell_type": "markdown",
      "metadata": {
        "colab_type": "text",
        "id": "-8-trVo__vRE"
      },
      "source": [
        "\n",
        "# Make Explanatory Visualizations\n",
        "\n",
        "### Objectives\n",
        "\n",
        "- identify misleading visualizations and how to fix them\n",
        "- use Seaborn to visualize distributions and relationships with continuous and discrete variables\n",
        "- add emphasis and annotations to transform visualizations from exploratory to explanatory\n",
        "- remove clutter from visualizations\n",
        "\n",
        "### Links\n",
        "\n",
        "- [How to Spot Visualization Lies](https://flowingdata.com/2017/02/09/how-to-spot-visualization-lies/)\n",
        "- [Visual Vocabulary - Vega Edition](http://ft.com/vocabulary)\n",
        "- [Choosing a Python Visualization Tool flowchart](http://pbpython.com/python-vis-flowchart.html)\n",
        "- [Searborn example gallery](http://seaborn.pydata.org/examples/index.html) & [tutorial](http://seaborn.pydata.org/tutorial.html)\n",
        "- [Strong Titles Are The Biggest Bang for Your Buck](http://stephanieevergreen.com/strong-titles/)\n",
        "- [Remove to improve (the data-ink ratio)](https://www.darkhorseanalytics.com/blog/data-looks-better-naked)\n",
        "- [How to Generate FiveThirtyEight Graphs in Python](https://www.dataquest.io/blog/making-538-plots/)"
      ]
    },
    {
      "cell_type": "markdown",
      "metadata": {
        "id": "s-24T844-8qv",
        "colab_type": "text"
      },
      "source": [
        "# Avoid Misleading Visualizations\n",
        "\n",
        "Did you find/discuss any interesting misleading visualizations in your Walkie Talkie?"
      ]
    },
    {
      "cell_type": "markdown",
      "metadata": {
        "id": "Qzxt9ntsNjs0",
        "colab_type": "text"
      },
      "source": [
        "## What makes a visualization misleading?\n",
        "\n",
        "[5 Ways Writers Use Misleading Graphs To Manipulate You](https://venngage.com/blog/misleading-graphs/)"
      ]
    },
    {
      "cell_type": "markdown",
      "metadata": {
        "id": "q7_DUiENNvxk",
        "colab_type": "text"
      },
      "source": [
        "## Two y-axes\n",
        "\n",
        "<img src=\"https://kieranhealy.org/files/misc/two-y-by-four-sm.jpg\" width=\"800\">\n",
        " \n",
        " Other Examples: \n",
        " - [Spurious Correlations](https://tylervigen.com/spurious-correlations)\n",
        " - <https://blog.datawrapper.de/dualaxis/>\n",
        " - <https://kieranhealy.org/blog/archives/2016/01/16/two-y-axes/>\n",
        " - <http://www.storytellingwithdata.com/blog/2016/2/1/be-gone-dual-y-axis>"
      ]
    },
    {
      "cell_type": "markdown",
      "metadata": {
        "id": "oIijNBDMNv2k",
        "colab_type": "text"
      },
      "source": [
        "##  Y-axis doesn't start at zero.\n",
        "\n",
        "<img src=\"https://i.pinimg.com/originals/22/53/a9/2253a944f54bb61f1983bc076ff33cdd.jpg\" width=\"600\">"
      ]
    },
    {
      "cell_type": "markdown",
      "metadata": {
        "id": "ISB2p8vZNv6r",
        "colab_type": "text"
      },
      "source": [
        "## Pie Charts are bad\n",
        "\n",
        "<img src=\"https://i1.wp.com/flowingdata.com/wp-content/uploads/2009/11/Fox-News-pie-chart.png?fit=620%2C465&ssl=1\" width=\"600\">"
      ]
    },
    {
      "cell_type": "markdown",
      "metadata": {
        "id": "67CsAzu1NwBJ",
        "colab_type": "text"
      },
      "source": [
        "## Pie charts that omit data are extra bad\n",
        " \n",
        "- A guy makes a misleading chart that goes viral\n",
        "\n",
        " What does this chart imply at first glance? You don't want your user to have to do a lot of work in order to be able to interpret you graph correctly. You want that first-glance conclusions to be the correct ones.\n",
        "\n",
        " <img src=\"https://pbs.twimg.com/media/DiaiTLHWsAYAEEX?format=jpg&name=medium\" width='600'>\n",
        " \n",
        " <https://twitter.com/michaelbatnick/status/1019680856837849090?lang=en>\n",
        " \n",
        "- It gets picked up by overworked journalists (assuming incompetency before malice)\n",
        " \n",
        " <https://www.marketwatch.com/story/this-1-chart-puts-mega-techs-trillions-of-market-value-into-eye-popping-perspective-2018-07-18>\n",
        " \n",
        "- Even after the chart's implications have been refuted, it's hard a bad (although compelling) visualization from being passed around.\n",
        "\n",
        " <https://www.linkedin.com/pulse/good-bad-pie-charts-karthik-shashidhar/>\n",
        "\n",
        "**[\"yea I understand a pie chart was probably not the best choice to present this data.\"](https://twitter.com/michaelbatnick/status/1037036440494985216)**"
      ]
    },
    {
      "cell_type": "markdown",
      "metadata": {
        "id": "FYXmlToEOOTC",
        "colab_type": "text"
      },
      "source": [
        "## Pie Charts that compare unrelated things are next-level extra bad\n",
        "\n",
        "<img src=\"http://www.painting-with-numbers.com/download/document/186/170403+Legalizing+Marijuana+Graph.jpg\" width=\"600\">\n"
      ]
    },
    {
      "cell_type": "markdown",
      "metadata": {
        "id": "IwtMQpY_QFUw",
        "colab_type": "text"
      },
      "source": [
        "## Be careful about how you use volume to represent quantities:\n",
        "\n",
        "radius vs diameter vs volume\n",
        "\n",
        "<img src=\"https://static1.squarespace.com/static/5bfc8dbab40b9d7dd9054f41/t/5c32d86e0ebbe80a25873249/1546836082961/5474039-25383714-thumbnail.jpg?format=1500w\" width=\"600\">"
      ]
    },
    {
      "cell_type": "markdown",
      "metadata": {
        "id": "tTuAWjSBRsc7",
        "colab_type": "text"
      },
      "source": [
        "## Don't cherrypick timelines or specific subsets of your data:\n",
        "\n",
        "<img src=\"https://wattsupwiththat.com/wp-content/uploads/2019/02/Figure-1-1.png\" width=\"600\">\n",
        "\n",
        "Look how specifically the writer has selected what years to show in the legend on the right side.\n",
        "\n",
        "<https://wattsupwiththat.com/2019/02/24/strong-arctic-sea-ice-growth-this-year/>\n",
        "\n",
        "Try the tool that was used to make the graphic for yourself\n",
        "\n",
        "<http://nsidc.org/arcticseaicenews/charctic-interactive-sea-ice-graph/>\n",
        "                                                                                           "
      ]
    },
    {
      "cell_type": "markdown",
      "metadata": {
        "id": "Xs13S7p4Srme",
        "colab_type": "text"
      },
      "source": [
        "## Use Relative units rather than Absolute Units\n",
        "\n",
        "<img src=\"https://imgs.xkcd.com/comics/heatmap_2x.png\" width=\"600\">"
      ]
    },
    {
      "cell_type": "markdown",
      "metadata": {
        "id": "CIMt5OiuTlrr",
        "colab_type": "text"
      },
      "source": [
        "## Avoid 3D graphs unless having the extra dimension is effective\n",
        "\n",
        "Usually you can Split 3D graphs into multiple 2D graphs\n",
        "\n",
        "3D graphs that are interactive can be very cool. (See Plotly and Bokeh)\n",
        "\n",
        "<img src=\"https://thumbor.forbes.com/thumbor/1280x868/https%3A%2F%2Fblogs-images.forbes.com%2Fthumbnails%2Fblog_1855%2Fpt_1855_811_o.jpg%3Ft%3D1339592470\" width=\"600\">"
      ]
    },
    {
      "cell_type": "markdown",
      "metadata": {
        "id": "GATMu9IqUlIj",
        "colab_type": "text"
      },
      "source": [
        "## Don't go against typical conventions\n",
        "\n",
        "<img src=\"http://www.callingbullshit.org/twittercards/tools_misleading_axes.png\" width=\"600\">"
      ]
    },
    {
      "cell_type": "markdown",
      "metadata": {
        "id": "g6bKgZ0m_ynS",
        "colab_type": "text"
      },
      "source": [
        "# Tips for choosing an appropriate visualization:"
      ]
    },
    {
      "cell_type": "markdown",
      "metadata": {
        "id": "WtBsVnO4VHiJ",
        "colab_type": "text"
      },
      "source": [
        "## Use Appropriate \"Visual Vocabulary\"\n",
        "\n",
        "[Visual Vocabulary - Vega Edition](http://ft.com/vocabulary)"
      ]
    },
    {
      "cell_type": "markdown",
      "metadata": {
        "id": "H_QM9FHqVT7T",
        "colab_type": "text"
      },
      "source": [
        "## What are the properties of your data?\n",
        "- Is your primary variable of interest continuous or discrete?\n",
        "- Is in wide or long (tidy) format?\n",
        "- Does your visualization involve multiple variables?\n",
        "- How many dimensions do you need to include on your plot?\n",
        "\n",
        "Can you express the main idea of your visualization in a single sentence?\n",
        "\n",
        "How hard does your visualization make the user work in order to draw the intended conclusion?"
      ]
    },
    {
      "cell_type": "markdown",
      "metadata": {
        "id": "5EqXxnJeB89_",
        "colab_type": "text"
      },
      "source": [
        "## Which Visualization tool is most appropriate? \n",
        "\n",
        "[Choosing a Python Visualization Tool flowchart](http://pbpython.com/python-vis-flowchart.html)"
      ]
    },
    {
      "cell_type": "markdown",
      "metadata": {
        "id": "q-UgGMYEySOg",
        "colab_type": "text"
      },
      "source": [
        "## Simple Web Scraper with IMDb"
      ]
    },
    {
      "cell_type": "code",
      "metadata": {
        "id": "lv2lM99EyUtD",
        "colab_type": "code",
        "colab": {
          "base_uri": "https://localhost:8080/",
          "height": 487
        },
        "outputId": "f0b9368d-a292-4fb7-f7da-58dddb50a499"
      },
      "source": [
        "from requests import get\n",
        "\n",
        "url = 'https://www.imdb.com/title/tt6105098/ratings?ref_=tt_ov_rt'\n",
        "response = get(url)\n",
        "print(response.text[:500])"
      ],
      "execution_count": 1,
      "outputs": [
        {
          "output_type": "stream",
          "text": [
            "\n",
            "\n",
            "\n",
            "\n",
            "\n",
            "\n",
            "\n",
            "\n",
            "\n",
            "\n",
            "<!DOCTYPE html>\n",
            "<html\n",
            "    xmlns:og=\"http://ogp.me/ns#\"\n",
            "    xmlns:fb=\"http://www.facebook.com/2008/fbml\">\n",
            "    <head>\n",
            "         \n",
            "        <meta charset=\"utf-8\">\n",
            "        <meta http-equiv=\"X-UA-Compatible\" content=\"IE=edge\">\n",
            "\n",
            "    <meta name=\"apple-itunes-app\" content=\"app-id=342792525, app-argument=imdb:///title/tt6105098?src=mdot\">\n",
            "\n",
            "\n",
            "\n",
            "        <script type=\"text/javascript\">var IMDbTimer={starttime: new Date().getTime(),pt:'java'};</script>\n",
            "\n",
            "<script>\n",
            "    if (typeof uet == 'function') {\n",
            "     \n"
          ],
          "name": "stdout"
        }
      ]
    },
    {
      "cell_type": "code",
      "metadata": {
        "id": "0vJ3mWB9y4Af",
        "colab_type": "code",
        "colab": {
          "base_uri": "https://localhost:8080/",
          "height": 34
        },
        "outputId": "f3bebf12-cf64-41fb-dcfd-b5dac83f1679"
      },
      "source": [
        "from bs4 import BeautifulSoup\n",
        "\n",
        "html_soup = BeautifulSoup(response.text, 'html.parser')\n",
        "type(html_soup)"
      ],
      "execution_count": 2,
      "outputs": [
        {
          "output_type": "execute_result",
          "data": {
            "text/plain": [
              "bs4.BeautifulSoup"
            ]
          },
          "metadata": {
            "tags": []
          },
          "execution_count": 2
        }
      ]
    },
    {
      "cell_type": "code",
      "metadata": {
        "id": "oMMqSjH8zbNx",
        "colab_type": "code",
        "colab": {
          "base_uri": "https://localhost:8080/",
          "height": 185
        },
        "outputId": "b6068a39-876d-402a-d440-44bed0c955c9"
      },
      "source": [
        "vote_container = html_soup.find_all('div', class_ ='leftAligned')\n",
        "vote_container[1:11]"
      ],
      "execution_count": 4,
      "outputs": [
        {
          "output_type": "execute_result",
          "data": {
            "text/plain": [
              "[<div class=\"leftAligned\">10,342</div>,\n",
              " <div class=\"leftAligned\">6,524</div>,\n",
              " <div class=\"leftAligned\">11,859</div>,\n",
              " <div class=\"leftAligned\">12,549</div>,\n",
              " <div class=\"leftAligned\">6,731</div>,\n",
              " <div class=\"leftAligned\">3,098</div>,\n",
              " <div class=\"leftAligned\">1,435</div>,\n",
              " <div class=\"leftAligned\">988</div>,\n",
              " <div class=\"leftAligned\">752</div>,\n",
              " <div class=\"leftAligned\">2,540</div>]"
            ]
          },
          "metadata": {
            "tags": []
          },
          "execution_count": 4
        }
      ]
    },
    {
      "cell_type": "code",
      "metadata": {
        "id": "M1s9CDoV0J0V",
        "colab_type": "code",
        "colab": {
          "base_uri": "https://localhost:8080/",
          "height": 185
        },
        "outputId": "f13884a8-69f6-4ceb-e98c-793e90fb0fbf"
      },
      "source": [
        "votes = [containers.text for containers in vote_container][1:11]\n",
        "votes"
      ],
      "execution_count": 11,
      "outputs": [
        {
          "output_type": "execute_result",
          "data": {
            "text/plain": [
              "['10,342',\n",
              " '6,524',\n",
              " '11,859',\n",
              " '12,549',\n",
              " '6,731',\n",
              " '3,098',\n",
              " '1,435',\n",
              " '988',\n",
              " '752',\n",
              " '2,540']"
            ]
          },
          "metadata": {
            "tags": []
          },
          "execution_count": 11
        }
      ]
    },
    {
      "cell_type": "code",
      "metadata": {
        "id": "zAptqAKz0hic",
        "colab_type": "code",
        "colab": {
          "base_uri": "https://localhost:8080/",
          "height": 54
        },
        "outputId": "af81aa2b-f10d-41de-c052-575519cda0d4"
      },
      "source": [
        "urls = ['https://www.imdb.com/title/tt6105098/ratings?ref_=tt_ov_rt',     # Lion King (2019)\n",
        "        'https://www.imdb.com/title/tt0110357/ratings?ref_=tt_ov_rt',     # Lion King (1994)\n",
        "        'https://www.imdb.com/title/tt6139732/ratings?ref_=tt_ov_rt',     # Aladdin (2019)\n",
        "        'https://www.imdb.com/title/tt0103639/ratings?ref_=tt_ov_rt']     # Aladdin (1992) w/ Robin Williams\n",
        "\n",
        "\n",
        "votes_list = []\n",
        "for url in urls:\n",
        "    # Get raw HTML response\n",
        "    response = get(url)\n",
        "    \n",
        "    # Convert to BS Object\n",
        "    html_soup = BeautifulSoup(response.text, 'html.parser')\n",
        "    \n",
        "    # Find vote containers and extract star ratings\n",
        "    vote_containers = html_soup.find_all('div', class_ = 'leftAligned')\n",
        "    votes = [containers.text for containers in vote_containers][1:11]\n",
        "        \n",
        "    # Append to initial list\n",
        "    votes_list.append(votes)\n",
        "    \n",
        "print(votes_list)"
      ],
      "execution_count": 29,
      "outputs": [
        {
          "output_type": "stream",
          "text": [
            "[['10,342', '6,524', '11,859', '12,549', '6,731', '3,098', '1,435', '988', '752', '2,540'], ['254,453', '219,091', '213,498', '100,708', '33,076', '13,241', '5,345', '3,010', '1,968', '4,949'], ['14,758', '11,724', '22,615', '20,195', '8,567', '3,317', '1,496', '910', '659', '2,382'], ['58,902', '61,215', '111,111', '61,554', '20,591', '7,056', '2,594', '1,197', '690', '1,248']]\n"
          ],
          "name": "stdout"
        }
      ]
    },
    {
      "cell_type": "code",
      "metadata": {
        "id": "DTws7xob1PJx",
        "colab_type": "code",
        "colab": {
          "base_uri": "https://localhost:8080/",
          "height": 343
        },
        "outputId": "6ff80ad7-bff5-4edf-9534-c88fe13f1e1d"
      },
      "source": [
        "import pandas as pd\n",
        "\n",
        "movies = ['The Lion King (2019)', 'The Lion King (1994)', 'Aladdin (2019)', 'Aladdin (1992)']\n",
        "\n",
        "df = pd.DataFrame(votes_list)\n",
        "df = df.T\n",
        "df.columns = movies\n",
        "df = df.apply(lambda x: x.str.replace(',',''))\n",
        "df['Star Rating'] = range(1,11)[::-1]\n",
        "df"
      ],
      "execution_count": 30,
      "outputs": [
        {
          "output_type": "execute_result",
          "data": {
            "text/html": [
              "<div>\n",
              "<style scoped>\n",
              "    .dataframe tbody tr th:only-of-type {\n",
              "        vertical-align: middle;\n",
              "    }\n",
              "\n",
              "    .dataframe tbody tr th {\n",
              "        vertical-align: top;\n",
              "    }\n",
              "\n",
              "    .dataframe thead th {\n",
              "        text-align: right;\n",
              "    }\n",
              "</style>\n",
              "<table border=\"1\" class=\"dataframe\">\n",
              "  <thead>\n",
              "    <tr style=\"text-align: right;\">\n",
              "      <th></th>\n",
              "      <th>The Lion King (2019)</th>\n",
              "      <th>The Lion King (1994)</th>\n",
              "      <th>Aladdin (2019)</th>\n",
              "      <th>Aladdin (1992)</th>\n",
              "      <th>Star Rating</th>\n",
              "    </tr>\n",
              "  </thead>\n",
              "  <tbody>\n",
              "    <tr>\n",
              "      <th>0</th>\n",
              "      <td>10342</td>\n",
              "      <td>254453</td>\n",
              "      <td>14758</td>\n",
              "      <td>58902</td>\n",
              "      <td>10</td>\n",
              "    </tr>\n",
              "    <tr>\n",
              "      <th>1</th>\n",
              "      <td>6524</td>\n",
              "      <td>219091</td>\n",
              "      <td>11724</td>\n",
              "      <td>61215</td>\n",
              "      <td>9</td>\n",
              "    </tr>\n",
              "    <tr>\n",
              "      <th>2</th>\n",
              "      <td>11859</td>\n",
              "      <td>213498</td>\n",
              "      <td>22615</td>\n",
              "      <td>111111</td>\n",
              "      <td>8</td>\n",
              "    </tr>\n",
              "    <tr>\n",
              "      <th>3</th>\n",
              "      <td>12549</td>\n",
              "      <td>100708</td>\n",
              "      <td>20195</td>\n",
              "      <td>61554</td>\n",
              "      <td>7</td>\n",
              "    </tr>\n",
              "    <tr>\n",
              "      <th>4</th>\n",
              "      <td>6731</td>\n",
              "      <td>33076</td>\n",
              "      <td>8567</td>\n",
              "      <td>20591</td>\n",
              "      <td>6</td>\n",
              "    </tr>\n",
              "    <tr>\n",
              "      <th>5</th>\n",
              "      <td>3098</td>\n",
              "      <td>13241</td>\n",
              "      <td>3317</td>\n",
              "      <td>7056</td>\n",
              "      <td>5</td>\n",
              "    </tr>\n",
              "    <tr>\n",
              "      <th>6</th>\n",
              "      <td>1435</td>\n",
              "      <td>5345</td>\n",
              "      <td>1496</td>\n",
              "      <td>2594</td>\n",
              "      <td>4</td>\n",
              "    </tr>\n",
              "    <tr>\n",
              "      <th>7</th>\n",
              "      <td>988</td>\n",
              "      <td>3010</td>\n",
              "      <td>910</td>\n",
              "      <td>1197</td>\n",
              "      <td>3</td>\n",
              "    </tr>\n",
              "    <tr>\n",
              "      <th>8</th>\n",
              "      <td>752</td>\n",
              "      <td>1968</td>\n",
              "      <td>659</td>\n",
              "      <td>690</td>\n",
              "      <td>2</td>\n",
              "    </tr>\n",
              "    <tr>\n",
              "      <th>9</th>\n",
              "      <td>2540</td>\n",
              "      <td>4949</td>\n",
              "      <td>2382</td>\n",
              "      <td>1248</td>\n",
              "      <td>1</td>\n",
              "    </tr>\n",
              "  </tbody>\n",
              "</table>\n",
              "</div>"
            ],
            "text/plain": [
              "  The Lion King (2019) The Lion King (1994)  ... Aladdin (1992) Star Rating\n",
              "0                10342               254453  ...          58902          10\n",
              "1                 6524               219091  ...          61215           9\n",
              "2                11859               213498  ...         111111           8\n",
              "3                12549               100708  ...          61554           7\n",
              "4                 6731                33076  ...          20591           6\n",
              "5                 3098                13241  ...           7056           5\n",
              "6                 1435                 5345  ...           2594           4\n",
              "7                  988                 3010  ...           1197           3\n",
              "8                  752                 1968  ...            690           2\n",
              "9                 2540                 4949  ...           1248           1\n",
              "\n",
              "[10 rows x 5 columns]"
            ]
          },
          "metadata": {
            "tags": []
          },
          "execution_count": 30
        }
      ]
    },
    {
      "cell_type": "code",
      "metadata": {
        "id": "jW0tk5Q61zZT",
        "colab_type": "code",
        "colab": {
          "base_uri": "https://localhost:8080/",
          "height": 1000
        },
        "outputId": "cc1e61d5-4639-41f9-8a0b-6c7d63e57cc6"
      },
      "source": [
        "# Convert df into tidy-format\n",
        "df_tidy = df.melt(id_vars='Star Rating')\n",
        "df_tidy = df_tidy.rename(columns={'variable': 'Movie', 'value': 'Number of Votes'})\n",
        "df_tidy['Number of Votes'] = pd.to_numeric(df_tidy['Number of Votes'])\n",
        "df_tidy"
      ],
      "execution_count": 31,
      "outputs": [
        {
          "output_type": "execute_result",
          "data": {
            "text/html": [
              "<div>\n",
              "<style scoped>\n",
              "    .dataframe tbody tr th:only-of-type {\n",
              "        vertical-align: middle;\n",
              "    }\n",
              "\n",
              "    .dataframe tbody tr th {\n",
              "        vertical-align: top;\n",
              "    }\n",
              "\n",
              "    .dataframe thead th {\n",
              "        text-align: right;\n",
              "    }\n",
              "</style>\n",
              "<table border=\"1\" class=\"dataframe\">\n",
              "  <thead>\n",
              "    <tr style=\"text-align: right;\">\n",
              "      <th></th>\n",
              "      <th>Star Rating</th>\n",
              "      <th>Movie</th>\n",
              "      <th>Number of Votes</th>\n",
              "    </tr>\n",
              "  </thead>\n",
              "  <tbody>\n",
              "    <tr>\n",
              "      <th>0</th>\n",
              "      <td>10</td>\n",
              "      <td>The Lion King (2019)</td>\n",
              "      <td>10342</td>\n",
              "    </tr>\n",
              "    <tr>\n",
              "      <th>1</th>\n",
              "      <td>9</td>\n",
              "      <td>The Lion King (2019)</td>\n",
              "      <td>6524</td>\n",
              "    </tr>\n",
              "    <tr>\n",
              "      <th>2</th>\n",
              "      <td>8</td>\n",
              "      <td>The Lion King (2019)</td>\n",
              "      <td>11859</td>\n",
              "    </tr>\n",
              "    <tr>\n",
              "      <th>3</th>\n",
              "      <td>7</td>\n",
              "      <td>The Lion King (2019)</td>\n",
              "      <td>12549</td>\n",
              "    </tr>\n",
              "    <tr>\n",
              "      <th>4</th>\n",
              "      <td>6</td>\n",
              "      <td>The Lion King (2019)</td>\n",
              "      <td>6731</td>\n",
              "    </tr>\n",
              "    <tr>\n",
              "      <th>5</th>\n",
              "      <td>5</td>\n",
              "      <td>The Lion King (2019)</td>\n",
              "      <td>3098</td>\n",
              "    </tr>\n",
              "    <tr>\n",
              "      <th>6</th>\n",
              "      <td>4</td>\n",
              "      <td>The Lion King (2019)</td>\n",
              "      <td>1435</td>\n",
              "    </tr>\n",
              "    <tr>\n",
              "      <th>7</th>\n",
              "      <td>3</td>\n",
              "      <td>The Lion King (2019)</td>\n",
              "      <td>988</td>\n",
              "    </tr>\n",
              "    <tr>\n",
              "      <th>8</th>\n",
              "      <td>2</td>\n",
              "      <td>The Lion King (2019)</td>\n",
              "      <td>752</td>\n",
              "    </tr>\n",
              "    <tr>\n",
              "      <th>9</th>\n",
              "      <td>1</td>\n",
              "      <td>The Lion King (2019)</td>\n",
              "      <td>2540</td>\n",
              "    </tr>\n",
              "    <tr>\n",
              "      <th>10</th>\n",
              "      <td>10</td>\n",
              "      <td>The Lion King (1994)</td>\n",
              "      <td>254453</td>\n",
              "    </tr>\n",
              "    <tr>\n",
              "      <th>11</th>\n",
              "      <td>9</td>\n",
              "      <td>The Lion King (1994)</td>\n",
              "      <td>219091</td>\n",
              "    </tr>\n",
              "    <tr>\n",
              "      <th>12</th>\n",
              "      <td>8</td>\n",
              "      <td>The Lion King (1994)</td>\n",
              "      <td>213498</td>\n",
              "    </tr>\n",
              "    <tr>\n",
              "      <th>13</th>\n",
              "      <td>7</td>\n",
              "      <td>The Lion King (1994)</td>\n",
              "      <td>100708</td>\n",
              "    </tr>\n",
              "    <tr>\n",
              "      <th>14</th>\n",
              "      <td>6</td>\n",
              "      <td>The Lion King (1994)</td>\n",
              "      <td>33076</td>\n",
              "    </tr>\n",
              "    <tr>\n",
              "      <th>15</th>\n",
              "      <td>5</td>\n",
              "      <td>The Lion King (1994)</td>\n",
              "      <td>13241</td>\n",
              "    </tr>\n",
              "    <tr>\n",
              "      <th>16</th>\n",
              "      <td>4</td>\n",
              "      <td>The Lion King (1994)</td>\n",
              "      <td>5345</td>\n",
              "    </tr>\n",
              "    <tr>\n",
              "      <th>17</th>\n",
              "      <td>3</td>\n",
              "      <td>The Lion King (1994)</td>\n",
              "      <td>3010</td>\n",
              "    </tr>\n",
              "    <tr>\n",
              "      <th>18</th>\n",
              "      <td>2</td>\n",
              "      <td>The Lion King (1994)</td>\n",
              "      <td>1968</td>\n",
              "    </tr>\n",
              "    <tr>\n",
              "      <th>19</th>\n",
              "      <td>1</td>\n",
              "      <td>The Lion King (1994)</td>\n",
              "      <td>4949</td>\n",
              "    </tr>\n",
              "    <tr>\n",
              "      <th>20</th>\n",
              "      <td>10</td>\n",
              "      <td>Aladdin (2019)</td>\n",
              "      <td>14758</td>\n",
              "    </tr>\n",
              "    <tr>\n",
              "      <th>21</th>\n",
              "      <td>9</td>\n",
              "      <td>Aladdin (2019)</td>\n",
              "      <td>11724</td>\n",
              "    </tr>\n",
              "    <tr>\n",
              "      <th>22</th>\n",
              "      <td>8</td>\n",
              "      <td>Aladdin (2019)</td>\n",
              "      <td>22615</td>\n",
              "    </tr>\n",
              "    <tr>\n",
              "      <th>23</th>\n",
              "      <td>7</td>\n",
              "      <td>Aladdin (2019)</td>\n",
              "      <td>20195</td>\n",
              "    </tr>\n",
              "    <tr>\n",
              "      <th>24</th>\n",
              "      <td>6</td>\n",
              "      <td>Aladdin (2019)</td>\n",
              "      <td>8567</td>\n",
              "    </tr>\n",
              "    <tr>\n",
              "      <th>25</th>\n",
              "      <td>5</td>\n",
              "      <td>Aladdin (2019)</td>\n",
              "      <td>3317</td>\n",
              "    </tr>\n",
              "    <tr>\n",
              "      <th>26</th>\n",
              "      <td>4</td>\n",
              "      <td>Aladdin (2019)</td>\n",
              "      <td>1496</td>\n",
              "    </tr>\n",
              "    <tr>\n",
              "      <th>27</th>\n",
              "      <td>3</td>\n",
              "      <td>Aladdin (2019)</td>\n",
              "      <td>910</td>\n",
              "    </tr>\n",
              "    <tr>\n",
              "      <th>28</th>\n",
              "      <td>2</td>\n",
              "      <td>Aladdin (2019)</td>\n",
              "      <td>659</td>\n",
              "    </tr>\n",
              "    <tr>\n",
              "      <th>29</th>\n",
              "      <td>1</td>\n",
              "      <td>Aladdin (2019)</td>\n",
              "      <td>2382</td>\n",
              "    </tr>\n",
              "    <tr>\n",
              "      <th>30</th>\n",
              "      <td>10</td>\n",
              "      <td>Aladdin (1992)</td>\n",
              "      <td>58902</td>\n",
              "    </tr>\n",
              "    <tr>\n",
              "      <th>31</th>\n",
              "      <td>9</td>\n",
              "      <td>Aladdin (1992)</td>\n",
              "      <td>61215</td>\n",
              "    </tr>\n",
              "    <tr>\n",
              "      <th>32</th>\n",
              "      <td>8</td>\n",
              "      <td>Aladdin (1992)</td>\n",
              "      <td>111111</td>\n",
              "    </tr>\n",
              "    <tr>\n",
              "      <th>33</th>\n",
              "      <td>7</td>\n",
              "      <td>Aladdin (1992)</td>\n",
              "      <td>61554</td>\n",
              "    </tr>\n",
              "    <tr>\n",
              "      <th>34</th>\n",
              "      <td>6</td>\n",
              "      <td>Aladdin (1992)</td>\n",
              "      <td>20591</td>\n",
              "    </tr>\n",
              "    <tr>\n",
              "      <th>35</th>\n",
              "      <td>5</td>\n",
              "      <td>Aladdin (1992)</td>\n",
              "      <td>7056</td>\n",
              "    </tr>\n",
              "    <tr>\n",
              "      <th>36</th>\n",
              "      <td>4</td>\n",
              "      <td>Aladdin (1992)</td>\n",
              "      <td>2594</td>\n",
              "    </tr>\n",
              "    <tr>\n",
              "      <th>37</th>\n",
              "      <td>3</td>\n",
              "      <td>Aladdin (1992)</td>\n",
              "      <td>1197</td>\n",
              "    </tr>\n",
              "    <tr>\n",
              "      <th>38</th>\n",
              "      <td>2</td>\n",
              "      <td>Aladdin (1992)</td>\n",
              "      <td>690</td>\n",
              "    </tr>\n",
              "    <tr>\n",
              "      <th>39</th>\n",
              "      <td>1</td>\n",
              "      <td>Aladdin (1992)</td>\n",
              "      <td>1248</td>\n",
              "    </tr>\n",
              "  </tbody>\n",
              "</table>\n",
              "</div>"
            ],
            "text/plain": [
              "    Star Rating                 Movie  Number of Votes\n",
              "0            10  The Lion King (2019)            10342\n",
              "1             9  The Lion King (2019)             6524\n",
              "2             8  The Lion King (2019)            11859\n",
              "3             7  The Lion King (2019)            12549\n",
              "4             6  The Lion King (2019)             6731\n",
              "5             5  The Lion King (2019)             3098\n",
              "6             4  The Lion King (2019)             1435\n",
              "7             3  The Lion King (2019)              988\n",
              "8             2  The Lion King (2019)              752\n",
              "9             1  The Lion King (2019)             2540\n",
              "10           10  The Lion King (1994)           254453\n",
              "11            9  The Lion King (1994)           219091\n",
              "12            8  The Lion King (1994)           213498\n",
              "13            7  The Lion King (1994)           100708\n",
              "14            6  The Lion King (1994)            33076\n",
              "15            5  The Lion King (1994)            13241\n",
              "16            4  The Lion King (1994)             5345\n",
              "17            3  The Lion King (1994)             3010\n",
              "18            2  The Lion King (1994)             1968\n",
              "19            1  The Lion King (1994)             4949\n",
              "20           10        Aladdin (2019)            14758\n",
              "21            9        Aladdin (2019)            11724\n",
              "22            8        Aladdin (2019)            22615\n",
              "23            7        Aladdin (2019)            20195\n",
              "24            6        Aladdin (2019)             8567\n",
              "25            5        Aladdin (2019)             3317\n",
              "26            4        Aladdin (2019)             1496\n",
              "27            3        Aladdin (2019)              910\n",
              "28            2        Aladdin (2019)              659\n",
              "29            1        Aladdin (2019)             2382\n",
              "30           10        Aladdin (1992)            58902\n",
              "31            9        Aladdin (1992)            61215\n",
              "32            8        Aladdin (1992)           111111\n",
              "33            7        Aladdin (1992)            61554\n",
              "34            6        Aladdin (1992)            20591\n",
              "35            5        Aladdin (1992)             7056\n",
              "36            4        Aladdin (1992)             2594\n",
              "37            3        Aladdin (1992)             1197\n",
              "38            2        Aladdin (1992)              690\n",
              "39            1        Aladdin (1992)             1248"
            ]
          },
          "metadata": {
            "tags": []
          },
          "execution_count": 31
        }
      ]
    },
    {
      "cell_type": "code",
      "metadata": {
        "id": "a1-eLL964ASQ",
        "colab_type": "code",
        "colab": {
          "base_uri": "https://localhost:8080/",
          "height": 195
        },
        "outputId": "5ccfca81-dc9c-41f3-f962-240f9ff6a9cf"
      },
      "source": [
        "df_tidy['Vote Percent'] = df_tidy.groupby('Movie')['Number of Votes'].apply(lambda x: x / x.sum() * 100)\n",
        "df_tidy.head()"
      ],
      "execution_count": 32,
      "outputs": [
        {
          "output_type": "execute_result",
          "data": {
            "text/html": [
              "<div>\n",
              "<style scoped>\n",
              "    .dataframe tbody tr th:only-of-type {\n",
              "        vertical-align: middle;\n",
              "    }\n",
              "\n",
              "    .dataframe tbody tr th {\n",
              "        vertical-align: top;\n",
              "    }\n",
              "\n",
              "    .dataframe thead th {\n",
              "        text-align: right;\n",
              "    }\n",
              "</style>\n",
              "<table border=\"1\" class=\"dataframe\">\n",
              "  <thead>\n",
              "    <tr style=\"text-align: right;\">\n",
              "      <th></th>\n",
              "      <th>Star Rating</th>\n",
              "      <th>Movie</th>\n",
              "      <th>Number of Votes</th>\n",
              "      <th>Vote Percent</th>\n",
              "    </tr>\n",
              "  </thead>\n",
              "  <tbody>\n",
              "    <tr>\n",
              "      <th>0</th>\n",
              "      <td>10</td>\n",
              "      <td>The Lion King (2019)</td>\n",
              "      <td>10342</td>\n",
              "      <td>18.201978</td>\n",
              "    </tr>\n",
              "    <tr>\n",
              "      <th>1</th>\n",
              "      <td>9</td>\n",
              "      <td>The Lion King (2019)</td>\n",
              "      <td>6524</td>\n",
              "      <td>11.482277</td>\n",
              "    </tr>\n",
              "    <tr>\n",
              "      <th>2</th>\n",
              "      <td>8</td>\n",
              "      <td>The Lion King (2019)</td>\n",
              "      <td>11859</td>\n",
              "      <td>20.871907</td>\n",
              "    </tr>\n",
              "    <tr>\n",
              "      <th>3</th>\n",
              "      <td>7</td>\n",
              "      <td>The Lion King (2019)</td>\n",
              "      <td>12549</td>\n",
              "      <td>22.086311</td>\n",
              "    </tr>\n",
              "    <tr>\n",
              "      <th>4</th>\n",
              "      <td>6</td>\n",
              "      <td>The Lion King (2019)</td>\n",
              "      <td>6731</td>\n",
              "      <td>11.846598</td>\n",
              "    </tr>\n",
              "  </tbody>\n",
              "</table>\n",
              "</div>"
            ],
            "text/plain": [
              "   Star Rating                 Movie  Number of Votes  Vote Percent\n",
              "0           10  The Lion King (2019)            10342     18.201978\n",
              "1            9  The Lion King (2019)             6524     11.482277\n",
              "2            8  The Lion King (2019)            11859     20.871907\n",
              "3            7  The Lion King (2019)            12549     22.086311\n",
              "4            6  The Lion King (2019)             6731     11.846598"
            ]
          },
          "metadata": {
            "tags": []
          },
          "execution_count": 32
        }
      ]
    },
    {
      "cell_type": "code",
      "metadata": {
        "id": "ZDKIUT_Z2zSD",
        "colab_type": "code",
        "colab": {
          "base_uri": "https://localhost:8080/",
          "height": 168
        },
        "outputId": "95655e49-b355-4076-ef56-48fe9fd6a07c"
      },
      "source": [
        "df_tidy.info()"
      ],
      "execution_count": 33,
      "outputs": [
        {
          "output_type": "stream",
          "text": [
            "<class 'pandas.core.frame.DataFrame'>\n",
            "RangeIndex: 40 entries, 0 to 39\n",
            "Data columns (total 4 columns):\n",
            "Star Rating        40 non-null int64\n",
            "Movie              40 non-null object\n",
            "Number of Votes    40 non-null int64\n",
            "Vote Percent       40 non-null float64\n",
            "dtypes: float64(1), int64(2), object(1)\n",
            "memory usage: 1.3+ KB\n"
          ],
          "name": "stdout"
        }
      ]
    },
    {
      "cell_type": "code",
      "metadata": {
        "id": "yEzjoWGa3IUF",
        "colab_type": "code",
        "colab": {
          "base_uri": "https://localhost:8080/",
          "height": 873
        },
        "outputId": "0953d2be-3b9c-4af1-ca0e-ec3522d62586"
      },
      "source": [
        "import seaborn as sns\n",
        "\n",
        "sns.catplot(x='Star Rating', y='Vote Percent', col='Movie', col_wrap=2, height=6, kind='bar', data=df_tidy);"
      ],
      "execution_count": 34,
      "outputs": [
        {
          "output_type": "display_data",
          "data": {
            "image/png": "iVBORw0KGgoAAAANSUhEUgAAA1gAAANYCAYAAADZn0yoAAAABHNCSVQICAgIfAhkiAAAAAlwSFlz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\nAgAAGImCBQAAMBIFCwAAYCT/F7W3/AAdCJIoAAAAAElFTkSuQmCC\n",
            "text/plain": [
              "<Figure size 864x864 with 4 Axes>"
            ]
          },
          "metadata": {
            "tags": []
          }
        }
      ]
    },
    {
      "cell_type": "markdown",
      "metadata": {
        "id": "5_na7Oy3NGKA",
        "colab_type": "text"
      },
      "source": [
        "# Making Explanatory Visualizations with Seaborn"
      ]
    },
    {
      "cell_type": "markdown",
      "metadata": {
        "id": "ORUwQD6F-VYg",
        "colab_type": "text"
      },
      "source": [
        "Today we will reproduce this [example by FiveThirtyEight:](https://fivethirtyeight.com/features/al-gores-new-movie-exposes-the-big-flaw-in-online-movie-ratings/)\n",
        "\n"
      ]
    },
    {
      "cell_type": "code",
      "metadata": {
        "colab_type": "code",
        "id": "ya_w5WORGs-n",
        "outputId": "958e110e-e503-4f8d-e50a-8092b4626d1e",
        "colab": {
          "base_uri": "https://localhost:8080/",
          "height": 355
        }
      },
      "source": [
        "from IPython.display import display, Image\n",
        "\n",
        "url = 'https://fivethirtyeight.com/wp-content/uploads/2017/09/mehtahickey-inconvenient-0830-1.png'\n",
        "example = Image(url=url, width=400)\n",
        "\n",
        "display(example)"
      ],
      "execution_count": 35,
      "outputs": [
        {
          "output_type": "display_data",
          "data": {
            "text/html": [
              "<img src=\"https://fivethirtyeight.com/wp-content/uploads/2017/09/mehtahickey-inconvenient-0830-1.png\" width=\"400\"/>"
            ],
            "text/plain": [
              "<IPython.core.display.Image object>"
            ]
          },
          "metadata": {
            "tags": []
          }
        }
      ]
    },
    {
      "cell_type": "markdown",
      "metadata": {
        "colab_type": "text",
        "id": "HP4DALiRG3sC"
      },
      "source": [
        "Using this data: https://github.com/fivethirtyeight/data/tree/master/inconvenient-sequel"
      ]
    },
    {
      "cell_type": "markdown",
      "metadata": {
        "colab_type": "text",
        "id": "HioPkYtUG03B"
      },
      "source": [
        "Links\n",
        "- [Strong Titles Are The Biggest Bang for Your Buck](http://stephanieevergreen.com/strong-titles/)\n",
        "- [Remove to improve (the data-ink ratio)](https://www.darkhorseanalytics.com/blog/data-looks-better-naked)\n",
        "- [How to Generate FiveThirtyEight Graphs in Python](https://www.dataquest.io/blog/making-538-plots/)"
      ]
    },
    {
      "cell_type": "markdown",
      "metadata": {
        "colab_type": "text",
        "id": "0w_iMnQ6-VoQ"
      },
      "source": [
        "## Make prototypes\n",
        "\n",
        "This  helps us understand the problem"
      ]
    },
    {
      "cell_type": "code",
      "metadata": {
        "colab_type": "code",
        "id": "5uz0eEaEN-GO",
        "colab": {
          "base_uri": "https://localhost:8080/",
          "height": 285
        },
        "outputId": "52136d06-21a5-4a26-e117-4446c37277d4"
      },
      "source": [
        "%matplotlib inline\n",
        "import matplotlib.pyplot as plt\n",
        "import numpy as np\n",
        "import pandas as pd\n",
        "\n",
        "plt.style.use('fivethirtyeight')\n",
        "\n",
        "fake = pd.Series([38, 3, 2, 1, 2, 4, 6, 5, 5, 33], \n",
        "                 index=range(1,11))\n",
        "\n",
        "fake.plot.bar(color='C1', width=0.9);"
      ],
      "execution_count": 36,
      "outputs": [
        {
          "output_type": "display_data",
          "data": {
            "image/png": "iVBORw0KGgoAAAANSUhEUgAAAZsAAAEMCAYAAAAS+xsDAAAABHNCSVQICAgIfAhkiAAAAAlwSFlz\nAAALEgAACxIB0t1+/AAAADl0RVh0U29mdHdhcmUAbWF0cGxvdGxpYiB2ZXJzaW9uIDMuMC4zLCBo\ndHRwOi8vbWF0cGxvdGxpYi5vcmcvnQurowAAG7xJREFUeJzt3X9Q1HXix/EX4IEEGJTLioU4yhpi\nnBgeFh1mpqiDIqadmTdHntcP7C6dslM6rGws5Gq4vEmIRB1v7IcN0A+cTr0Syh/4o84b70SvPS05\nLkKyNgXl6Fy+fzTtHJey2O57Yfk+HzNM7uf94f15fVD21Wc/n/1sgMPh6BAAAAYF9nQAAEDfR9kA\nAIyjbAAAxlE2AADjKBsAgHGUDQDAOMoGAGBcny0bu93e0xE6IU/XyNO13pZH6n2ZyNO1ns7TZ8sG\nANB7UDYAAOMoGwCAcZQNAMA4ygYAYBxlAwAwjrIBABhH2QAAjKNsAADG9evpABcTnjPB4znGePj9\nLZtqPM4AAPgGRzYAAOMoGwCAcZQNAMA4ygYAYBxlAwAwjrIBABhH2QAAjKNsAADGUTYAAOMoGwCA\ncZQNAMA4ygYAYJzbslm3bp3S0tIUGxur2NhYTZ48Wdu3b3eN5+bmKjIystPXpEmTjIYGAPgXt3d9\nHjx4sFauXKnhw4fL6XTqlVde0fz581VTU6Prr79ekjRhwgSVlpa6vic4ONhcYgCA33FbNpmZmZ0e\nr1ixQuvXr9fBgwddZRMSEiKr1WomIQDA713WOZsLFy6ooqJCra2tSk1NdS2vra1VfHy8UlJS9OCD\nD6q5udnrQQEA/ivA4XB0uFvpyJEjysjIUFtbm8LCwrRu3TpNmTJFklRRUaHQ0FDFxcWpvr5eq1at\nktPpVE1NjUJCQi45p91uv+TYmFX3fI9d8a5D+et6OgIA+A2bzdbleLfKpr29XQ0NDTpz5ozefPNN\nbdq0SVu3blViYuJ31m1sbFRSUpI2bNigrKys7xXaG5/U6Slvf1Kn3W53+5fhS+TpGnnc622ZyNO1\nns7TrY+FDg4O1rBhwyRJycnJ+vOf/6zi4mI9//zz31k3JiZGgwcP1okTJ7ybFADgt77X+2ycTqfa\n29svOnb69Gk1NjZywQAAwMXtkc0TTzyhjIwMXXPNNWppaVF5ebl2796t1157TS0tLVq9erWysrJk\ntVpVX1+vJ598UhaLRdOnT/dFfgCAH3BbNk1NTbr33nt16tQpDRgwQKNGjVJ5ebluu+02nT9/XnV1\ndXr11Vf11VdfyWq1Kj09XRs3blRERIQv8gMA/IDbsikpKbnkWGhoqCorK70aCADQ93BvNACAcZQN\nAMA4ygYAYBxlAwAwjrIBABjXrTsIAAB6lqe38Rrj4fY9vYUXRzYAAOMoGwCAcZQNAMA4ygYAYBxl\nAwAwjrIBABhH2QAAjKNsAADGUTYAAOMoGwCAcZQNAMA4ygYAYBxlAwAwzm3ZrFu3TmlpaYqNjVVs\nbKwmT56s7du3u8Y7OjpUUFCghIQEDRo0SJmZmTp69KjR0AAA/+K2bAYPHqyVK1fqvffeU3V1tcaP\nH6/58+frb3/7myRpzZo1Wrt2rQoLC7Vz505ZLBbNmjVLZ8+eNR4eAOAf3JZNZmamJk+erGHDhik+\nPl4rVqxQeHi4Dh48qI6ODpWUlGjJkiWaOXOmEhMTVVJSopaWFpWXl/siPwDAD1zWh6dduHBBb7zx\nhlpbW5WamqqTJ0+qqalJEydOdK0TGhqqtLQ07d+/XwsWLLjkXHa7/ZJjnn7Ijzd0la83zekJ8nSN\nPO71tkx9OU9PPy+62xebzdbleLfK5siRI8rIyFBbW5vCwsK0efNmjRo1Svv375ckWSyWTutbLBY1\nNjZ6FKyneTuf3W7vVftMnq6Rx73elok8Znm6L90qG5vNpl27dunMmTN68803lZubq61bt3q0YQDA\n/x/duvQ5ODhYw4YNU3Jysh5//HElJSWpuLhYVqtVktTc3Nxp/ebmZkVHR3s/LQDAL32v99k4nU61\nt7crLi5OVqtV1dXVrrG2tjbV1tZq3LhxXgsJAPBvbl9Ge+KJJ5SRkaFrrrnGdZXZ7t279dprrykg\nIEC5ubkqKiqSzWZTfHy8nn32WYWFhWnOnDm+yA8A8ANuy6apqUn33nuvTp06pQEDBmjUqFEqLy/X\nbbfdJklavHixzp8/r0ceeUQOh0MpKSmqrKxURESE8fAAAP/gtmxKSkq6HA8ICFBeXp7y8vK8FgoA\n0LdwbzQAgHGUDQDAOMoGAGAcZQMAMI6yAQAYR9kAAIyjbAAAxlE2AADjKBsAgHGUDQDAOMoGAGAc\nZQMAMI6yAQAYR9kAAIyjbAAAxlE2AADjKBsAgHGUDQDAOLdlU1RUpFtvvVWxsbEaPny45s6dq7q6\nuk7r5ObmKjIystPXpEmTjIUGAPiXfu5W2L17txYuXKgbbrhBHR0devrpp5Wdna39+/crKirKtd6E\nCRNUWlrqehwcHGwmMQDA77gtm8rKyk6PS0tLNWTIEO3bt0/Tpk1zLQ8JCZHVavV+QgCA37vsczYt\nLS1yOp2KjIzstLy2tlbx8fFKSUnRgw8+qObmZq+FBAD4twCHw9FxOd9w99136/jx46qpqVFQUJAk\nqaKiQqGhoYqLi1N9fb1WrVolp9OpmpoahYSEXHQeu91+yW2MWXXP5UQy4lD+up6OAAAuPf286O45\n0WazdTnu9mW0//boo49q37592rZtm6toJGn27NmuP48aNUrJyclKSkrS9u3blZWV9b2C9TRv57Pb\n7b1qn8nTNfK419sykccsT/el22WTl5enyspKVVVVaejQoV2uGxMTo8GDB+vEiRMehQMA9A3dKptl\ny5bp9ddfV1VVlUaMGOF2/dOnT6uxsZELBgAAkrpRNkuXLtWWLVu0efNmRUZGqqmpSZIUFham8PBw\ntbS0aPXq1crKypLValV9fb2efPJJWSwWTZ8+3fgOAAB6P7dlU1ZWJkmaOXNmp+XLli1TXl6egoKC\nVFdXp1dffVVfffWVrFar0tPTtXHjRkVERJhJDQDwK27LxuFwdDkeGhr6nffiAADw37g3GgDAOMoG\nAGAcZQMAMI6yAQAYR9kAAIyjbAAAxlE2AADjKBsAgHGUDQDAOMoGAGAcZQMAMI6yAQAYR9kAAIyj\nbAAAxlE2AADjKBsAgHGUDQDAOMoGAGCc27IpKirSrbfeqtjYWA0fPlxz585VXV1dp3U6OjpUUFCg\nhIQEDRo0SJmZmTp69Kix0AAA/+K2bHbv3q2FCxdq+/bteuutt9SvXz9lZ2fryy+/dK2zZs0arV27\nVoWFhdq5c6csFotmzZqls2fPGg0PAPAP/dytUFlZ2elxaWmphgwZon379mnatGnq6OhQSUmJlixZ\nopkzZ0qSSkpKZLPZVF5ergULFphJDgDwG5d9zqalpUVOp1ORkZGSpJMnT6qpqUkTJ050rRMaGqq0\ntDTt37/fe0kBAH7L7ZHN/1q+fLmSkpKUmpoqSWpqapIkWSyWTutZLBY1NjZech673X7JsTGXG8qA\nrvL1pjk9QZ6ukce93papL+fp6edFd/tis9m6HL+ssnn00Ue1b98+bdu2TUFBQZfzrZcdrKd5O5/d\nbu9V+0yerpHHvd6WiTxmebov3X4ZLS8vTxUVFXrrrbc0dOhQ13Kr1SpJam5u7rR+c3OzoqOjPQoH\nAOgbulU2y5YtcxXNiBEjOo3FxcXJarWqurrataytrU21tbUaN26cd9MCAPyS25fRli5dqi1btmjz\n5s2KjIx0naMJCwtTeHi4AgIClJubq6KiItlsNsXHx+vZZ59VWFiY5syZY3wHAAC9n9uyKSsrkyTX\nZc3fWrZsmfLy8iRJixcv1vnz5/XII4/I4XAoJSVFlZWVioiIMBAZAOBv3JaNw+FwO0lAQIDy8vJc\n5QMAwH/j3mgAAOMoGwCAcZQNAMA4ygYAYBxlAwAwjrIBABhH2QAAjKNsAADGUTYAAOMoGwCAcZQN\nAMA4ygYAYBxlAwAwjrIBABhH2QAAjKNsAADGUTYAAOMoGwCAcd0qmz179ujOO+/UyJEjFRkZqZde\neqnTeG5uriIjIzt9TZo0yUhgAID/6dedlVpbW5WYmKh58+bp/vvvv+g6EyZMUGlpqetxcHCwdxIC\nAPxet8omIyNDGRkZkqRFixZddJ2QkBBZrVbvJQMA9BleO2dTW1ur+Ph4paSk6MEHH1Rzc7O3pgYA\n+LluHdm4M2nSJM2YMUNxcXGqr6/XqlWrlJWVpZqaGoWEhFz0e+x2+yXnG+ONUB7qKl9vmtMT5Oka\nedzrbZn6cp6efl50ty82m63Lca+UzezZs11/HjVqlJKTk5WUlKTt27crKyvrewXrad7OZ7fbe9U+\nk6dr5HGvt2Uij1me7ouRS59jYmI0ePBgnThxwsT0AAA/Y6RsTp8+rcbGRi4YAABI6ubLaC0tLa6j\nFKfTqYaGBh0+fFhRUVGKiorS6tWrlZWVJavVqvr6ej355JOyWCyaPn260fAAAP/QrSObQ4cOafz4\n8Ro/frzOnz+vgoICjR8/Xk8//bSCgoJUV1enu+66S2PHjlVubq7i4+O1Y8cORUREmM4PAPAD3Tqy\nSU9Pl8PhuOR4ZWWl1wIBAPoe7o0GADCOsgEAGEfZAACMo2wAAMZRNgAA4ygbAIBxlA0AwDjKBgBg\nHGUDADCOsgEAGEfZAACMo2wAAMZRNgAA4ygbAIBxlA0AwDjKBgBgHGUDADCOsgEAGEfZAACM61bZ\n7NmzR3feeadGjhypyMhIvfTSS53GOzo6VFBQoISEBA0aNEiZmZk6evSokcAAAP/TrbJpbW1VYmKi\nVq9erdDQ0O+Mr1mzRmvXrlVhYaF27twpi8WiWbNm6ezZs14PDADwP90qm4yMDD322GOaOXOmAgM7\nf0tHR4dKSkq0ZMkSzZw5U4mJiSopKVFLS4vKy8uNhAYA+Jd+nk5w8uRJNTU1aeLEia5loaGhSktL\n0/79+7VgwYKLfp/dbr/knGM8DeUFXeXrTXN6gjxdI497vS1TX87T08+L7vbFZrN1Oe5x2TQ1NUmS\nLBZLp+UWi0WNjY3fO1hP83Y+u93eq/aZPF0jj3u9LRN5zPJ0X7gaDQBgnMdlY7VaJUnNzc2dljc3\nNys6OtrT6QEAfYDHZRMXFyer1arq6mrXsra2NtXW1mrcuHGeTg8A6AO6dc6mpaVFJ06ckCQ5nU41\nNDTo8OHDioqKUmxsrHJzc1VUVCSbzab4+Hg9++yzCgsL05w5c4yGBwD4h26VzaFDhzRjxgzX44KC\nAhUUFGjevHkqKSnR4sWLdf78eT3yyCNyOBxKSUlRZWWlIiIijAUHAPiPbpVNenq6HA7HJccDAgKU\nl5envLw8rwUDAPQdXI0GADCOsgEAGEfZAACMo2wAAMZRNgAA4ygbAIBxlA0AwDjKBgBgHGUDADCO\nsgEAGEfZAACMo2wAAMZRNgAA4ygbAIBxlA0AwDjKBgBgXLc+PA1A3xKeM8HjOcZ4+P0tm2o8zgD/\nwZENAMA4r5RNQUGBIiMjO32NGDHCG1MDAPoAr72MZrPZtHXrVtfjoKAgb00NAPBzXiubfv36yWq1\nems6AEAf4rWy+eSTT5SQkKDg4GCNHTtWjz32mIYOHXrJ9e12+yXHPD3x6A1d5etNc3qCPF3ry3l6\n2+/YmFX3eDyfp/t0KH9d5/k8zOT1PB7O5yl3//5sNluX414pm7Fjx6q4uFg2m02ff/65nnnmGWVk\nZGjfvn266qqrvlewnubtfHa7vVftM3m6Rh7zetv+kKdrnubxStlMnjy50+OxY8cqOTlZL7/8sn75\ny196YxMAAD9m5NLn8PBwJSQk6MSJEyamBwD4GSNl09bWJrvdzgUDAABJXnoZLT8/X1OnTtW1117r\nOmdz7tw5zZs3zxvTAwD8nFfK5tNPP9UvfvELnT59WgMHDtTYsWP1pz/9SUOGDPHG9IDf8/T2MN64\nEonbw6AneaVsNmzY4I1pAAB9FPdGAwAYR9kAAIyjbAAAxlE2AADj+PC0burpq4m4kgiAP+PIBgBg\nHGUDADCOsgEAGEfZAACMo2wAAMZxNZqf4uq4rvX0z0fq/T8jwJc4sgEAGEfZAACMo2wAAMZRNgAA\n4ygbAIBxXI0Gr+jpq7+48gvo3TiyAQAY59WyKSsr0w9/+ENZrVbdcsst2rt3rzenBwD4Ka+VTWVl\npZYvX66HH35Y77//vlJTU3XHHXfon//8p7c2AQDwU14rm7Vr1+quu+5STk6OrrvuOj3zzDOyWq3a\nsGGDtzYBAPBTAQ6Ho8PTSdrb2xUTE6P169crOzvbtXzp0qWqq6vT22+/7ekmAAB+zCtHNqdPn9aF\nCxdksVg6LbdYLDp16pQ3NgEA8GNcjQYAMM4rZXP11VcrKChIzc3NnZY3NzcrOjraG5sAAPgxr5RN\ncHCwkpOTVV1d3Wl5dXW1xo0b541NAAD8mNfuIPDAAw/ovvvuU0pKisaNG6cNGzbos88+04IFC7y1\nCQCAn/Ja2dx+++364osv9Mwzz6ipqUkjR47Ua6+9piFDhnhrE+jDvv76a/3gBz/o6RgADPHKpc+A\npywWi3bv3q3rrruup6MAl+2zzz7T+vXrtW/fPjU1NSkwMFBxcXHKzMzU/PnzFRQU1NMRe1yfL5uG\nhgYVFBRo7dq1Ptumw+HQ/v37FRkZqdTUVAUEBLjGWltb9fzzz2vZsmU+y1NXV6eDBw8qNTVVI0eO\n1LFjx1RcXKx///vfmjt3riZOnOizLL/+9a8vurysrExz5sxRZGSkJOm3v/2tzzL9N4fDoZdfflkn\nTpyQ1WrVvHnzdO211/ps+3v37pXFYpHNZpP0zc+lrKxMDQ0Nio2N1T333KOf//znPssjSXPnztXt\nt9+u7OxshYSE+HTbF+N0OlVUVKQPPvhAU6ZM0YIFC7R582b97ne/k9Pp1IwZM5Sfn6/g4GCf5Dl0\n6JBmzpypYcOGKTQ0VAcOHNCcOXP09ddf691331VCQoLKy8sVERHhkzy9VZ8vm7/+9a+65ZZb9MUX\nX/hke0ePHlV2drY+//xzOZ1OjR49Wn/4wx9cLyeeOnVKCQkJPsuzY8cOzZ8/X+Hh4Tp37pw2b96s\n+++/X0lJSXI6ndqzZ48qKio0YcIEn+SJiorS9ddfryuvvLLT8j179mjMmDG64oorFBAQoKqqKp/k\nSUhI0N69e3XVVVfpk08+0ZQpU+R0OpWQkCC73a5z587pnXfe0YgRI3yS56abblJhYaHGjx+vdevW\naeXKlbrvvvs0YsQI2e12vfjii1qxYoXuuecen+SRvvk7CwgI0IABAzR37lzl5OQoMTHRZ9v/X6tW\nrVJZWZmmTZumXbt2ad68eSorK9MDDzygwMBAFRcX6+6771Z+fr5P8kydOlUTJkzQ8uXLJUlbtmzR\nunXr9M4778jhcGjGjBlKS0tTYWGhT/J8q7W1VeXl5dq/f7/r/Y7R0dG68cYbNXv2bIWFhfk0j9+X\nzSuvvNLl+LdHNr56cr/zzjvVr18/lZaW6uzZs1q+fLkOHDigqqoqDR8+3Odlk5GRofHjxys/P18V\nFRV6+OGHtXDhQq1YsUKStHLlSv3lL3/R66+/7pM8RUVF2rRpk9auXasf//jHruUDBw7U7t27lZCQ\n4JMc34qKitJHH30ki8WihQsXqqmpSVu2bFFYWJja2tqUk5Oj/v37a9OmTT7JM2jQIB04cEBDhgxR\nenq6cnNzddddd7nG33jjDT311FM6ePCgT/JI3/yM3nvvPe3YsUObN29WfX29brjhBuXk5Gj27Nm6\n4oorfJZFkkaPHq3CwkJNnTpVx44dU1paml544QX95Cc/kSRVVVXpscce06FDh3ySJyYmRrW1tRo6\ndKikb468rFarjhw5oujoaFVXV2vRokU6evSoT/JI0rFjxzRr1iy1tLQoLS3N9Yb75uZm1dbWKjw8\nXJWVlT79ffP7somKinL93/DFOJ1OtbW1+ezJPT4+XlVVVRo5cqRr2aOPPqrXX39dVVVVGjBggE/L\nZsiQIaqpqdGwYcPkdDoVHR2td999V6NHj5b0zUts2dnZ+uijj3ySR5IOHjyoe++9V7NmzVJ+fr4C\nAwN7RdmMHj1av//973XLLbe4xj/44APl5OToyJEjPskTHx+v8vJyJScny2azqbKyUklJSa7xjz/+\nWGlpaWpsbPRJHqnzz0iSdu7cqU2bNumPf/yj+vfvr9mzZysnJ0fJyck+yTNo0CAdPHhQsbGxkr45\n3/f++++7fufq6+t144036tNPP/VJnqSkJJWWliotLU2S1NjYqMTERH366acKDQ3VyZMnNW7cOH32\n2Wc+ySNJ06dPl8ViUUlJifr3799prK2tTYsWLdKpU6e0detWn2Xy+zsIxMTEqKSkRA0NDRf92rZt\nm0/ztLe3f6f4nn76aWVnZ2v69On6+9//7tM8khQYGOj6b//+/Tu9hBUeHq4zZ874NM+PfvQj1dTU\n6OOPP9Ztt92m48eP+3T7/+vbv6/29vaL3nLp888/91mWyZMn68UXX5Qkpaen64033ug0XllZqeHD\nh/ssz8VMnDhRmzZtUl1dnR5++GHt2rXLp+f9rFar6yjBbrfrwoULnX6vjh07poEDB/osT2Zmph56\n6CFt27ZN1dXVWrhwoW6++WaFhoa6MsbExPgsjyR9+OGHWrZs2XeKRpL69++vpUuX6sMPP/RpJr//\npM7Ro0fr8OHDysrKuuh4QECAOjp8d/AWHx+vQ4cOfef/0AsKCuR0OjV//nyfZZGk2NhYHT9+3HWI\nv2PHjk4nvP/1r3/1yF0errzySm3cuFGbNm1ynSfpKZmZmQoKCtKZM2dkt9s7nY9oaGjQ1Vdf7bMs\nTzzxhKZMmaJp06YpJSVFxcXF2rt3r+uczQcffKCXXnrJZ3m6MnDgQC1evFiLFy/Wrl27fLbdO+64\nQ/fff7+mTp2qXbt26aGHHlJ+fr5OnTqlwMBAPffcc5d8PjAhPz9fTU1N+ulPf6oLFy4oNTVVxcXF\nrvHAwEA9/vjjPssjSZGRkfrHP/5xyVcKjh8/7roYx1f8vmx+9atfqbW19ZLjw4YN89nJZumbw9eK\nigrNmzfvO2OFhYW6cOGC1q9f77M8CxYsUHt7u+vx/57Y3bFjR6dzJ76Wk5Ojm2++WQcOHNDgwYN9\nvv3/vSowPDy80+Nt27bppptu8lkeq9Wq9957T2vWrNHbb7+tjo4Offjhh2poaNCNN96op556SmPG\nePoh2pcnNjbW7aW76enpPkrzzcvS3171tXDhQi1ZskQjR47U448/rnPnzmnq1Kn6zW9+47M84eHh\n2rhxo9ra2vSf//znO/+GfHnU962f/exnWrRokex2u2699dZO52yqq6v13HPPadGiRT7N5PfnbAAA\n3/Xcc8/phRdeUFNTk+ul4o6ODlmtVuXm5mrx4sU+zUPZAEAf9sknn3S69Pnbl9R9jbIBgP9neuLN\n7n5/NRoA4PJ8+eWXbt+j6G1+f4EAAKCz7rzZ3dd4GQ0A+pje9mZ3iSMbAOhzYmJitHr16ku+3+jw\n4cM+ux/itzhnAwB9zLdvdr8UX7/ZXeLIBgD6nN72ZneJczYAAB/gZTQAgHGUDQDAOMoGAGAcZQMA\nMO7/ANcS17jm+PEOAAAAAElFTkSuQmCC\n",
            "text/plain": [
              "<Figure size 432x288 with 1 Axes>"
            ]
          },
          "metadata": {
            "tags": []
          }
        }
      ]
    },
    {
      "cell_type": "code",
      "metadata": {
        "colab_type": "code",
        "id": "KZ0VLOV8OyRr",
        "colab": {
          "base_uri": "https://localhost:8080/",
          "height": 287
        },
        "outputId": "80cd1b5f-ee2d-4da2-ed52-55fe270c52c7"
      },
      "source": [
        "fake2 = pd.Series(\n",
        "    [1, 1, 1, 1, 1, 1, 1, 1, 1, 1, 1, 1, 1, 1, 1, 1, 1, 1, 1, 1, 1, 1, 1, 1,1, 1, 1, 1, 1,\n",
        "     2, 2, 2, \n",
        "     3, 3, 3,\n",
        "     4, 4,\n",
        "     5, 5, 5,\n",
        "     6, 6, 6, 6,\n",
        "     7, 7, 7, 7, 7,\n",
        "     8, 8, 8, 8,\n",
        "     9, 9, 9, 9, \n",
        "     10, 10, 10, 10, 10, 10, 10, 10, 10, 10, 10, 10, 10, 10, 10, 10, 10, 10, 10, 10, 10, 10])\n",
        "\n",
        "fake2.value_counts().sort_index().plot.bar(color='C1', width=0.9);"
      ],
      "execution_count": 39,
      "outputs": [
        {
          "output_type": "display_data",
          "data": {
            "image/png": "iVBORw0KGgoAAAANSUhEUgAAAZsAAAEOCAYAAABfM7oIAAAABHNCSVQICAgIfAhkiAAAAAlwSFlz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\nAMA4ygYAYBxlAwAw7r8d+x7QJRmh8QAAAABJRU5ErkJggg==\n",
            "text/plain": [
              "<Figure size 432x288 with 1 Axes>"
            ]
          },
          "metadata": {
            "tags": []
          }
        }
      ]
    },
    {
      "cell_type": "markdown",
      "metadata": {
        "colab_type": "text",
        "id": "mZb3UZWO-q05"
      },
      "source": [
        "## Annotate with text"
      ]
    },
    {
      "cell_type": "code",
      "metadata": {
        "id": "IATFa6Nr72Ci",
        "colab_type": "code",
        "colab": {
          "base_uri": "https://localhost:8080/",
          "height": 355
        },
        "outputId": "c3a144d6-f590-41e1-9169-b4a64fa0202b"
      },
      "source": [
        "display(example)"
      ],
      "execution_count": 40,
      "outputs": [
        {
          "output_type": "display_data",
          "data": {
            "text/html": [
              "<img src=\"https://fivethirtyeight.com/wp-content/uploads/2017/09/mehtahickey-inconvenient-0830-1.png\" width=\"400\"/>"
            ],
            "text/plain": [
              "<IPython.core.display.Image object>"
            ]
          },
          "metadata": {
            "tags": []
          }
        }
      ]
    },
    {
      "cell_type": "code",
      "metadata": {
        "colab_type": "code",
        "id": "f6U1vswr_uWp",
        "colab": {
          "base_uri": "https://localhost:8080/",
          "height": 370
        },
        "outputId": "2ca2d453-567e-450c-ea7f-c8ca16ffe425"
      },
      "source": [
        "import matplotlib.pyplot as plt\n",
        "\n",
        "plt.style.use('fivethirtyeight')\n",
        "fig, ax = plt.subplots(facecolor='white')\n",
        "\n",
        "fake.plot.bar(color='C1', width=0.9)\n",
        "plt.text(x=-1.5, y=50, fontsize=16, fontweight='bold',\n",
        "         s = \"'An Inconvenient Sequel: Truth to Power' is divisive\")\n",
        "plt.text(x=-1.5, y=46, fontsize=12,\n",
        "         s = \"IMDb ratings for the film as of Aug. 29\")\n",
        "plt.yticks([0, 10, 20, 30, 40])\n",
        "plt.xlabel('Rating', fontsize=10, fontweight='bold')\n",
        "plt.ylabel('Percent of Total Votes', fontsize=10, fontweight='bold');"
      ],
      "execution_count": 55,
      "outputs": [
        {
          "output_type": "display_data",
          "data": {
            "image/png": "iVBORw0KGgoAAAANSUhEUgAAAegAAAFhCAYAAAC77zkcAAAABHNCSVQICAgIfAhkiAAAAAlwSFlz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\nAElFTkSuQmCC\n",
            "text/plain": [
              "<Figure size 432x288 with 1 Axes>"
            ]
          },
          "metadata": {
            "tags": []
          }
        }
      ]
    },
    {
      "cell_type": "markdown",
      "metadata": {
        "colab_type": "text",
        "id": "x8jRZkpB_MJ6"
      },
      "source": [
        "## Reproduce with real data"
      ]
    },
    {
      "cell_type": "code",
      "metadata": {
        "colab_type": "code",
        "id": "3SOHJckDUPI8",
        "colab": {
          "base_uri": "https://localhost:8080/",
          "height": 316
        },
        "outputId": "7d215eb3-7e9a-473b-a991-d8b554d3baed"
      },
      "source": [
        "df = pd.read_csv('https://raw.githubusercontent.com/fivethirtyeight/data/master/inconvenient-sequel/ratings.csv')\n",
        "print(df.shape)\n",
        "df.head()"
      ],
      "execution_count": 78,
      "outputs": [
        {
          "output_type": "stream",
          "text": [
            "(80053, 27)\n"
          ],
          "name": "stdout"
        },
        {
          "output_type": "execute_result",
          "data": {
            "text/html": [
              "<div>\n",
              "<style scoped>\n",
              "    .dataframe tbody tr th:only-of-type {\n",
              "        vertical-align: middle;\n",
              "    }\n",
              "\n",
              "    .dataframe tbody tr th {\n",
              "        vertical-align: top;\n",
              "    }\n",
              "\n",
              "    .dataframe thead th {\n",
              "        text-align: right;\n",
              "    }\n",
              "</style>\n",
              "<table border=\"1\" class=\"dataframe\">\n",
              "  <thead>\n",
              "    <tr style=\"text-align: right;\">\n",
              "      <th></th>\n",
              "      <th>timestamp</th>\n",
              "      <th>respondents</th>\n",
              "      <th>category</th>\n",
              "      <th>link</th>\n",
              "      <th>average</th>\n",
              "      <th>mean</th>\n",
              "      <th>median</th>\n",
              "      <th>1_votes</th>\n",
              "      <th>2_votes</th>\n",
              "      <th>3_votes</th>\n",
              "      <th>4_votes</th>\n",
              "      <th>5_votes</th>\n",
              "      <th>6_votes</th>\n",
              "      <th>7_votes</th>\n",
              "      <th>8_votes</th>\n",
              "      <th>9_votes</th>\n",
              "      <th>10_votes</th>\n",
              "      <th>1_pct</th>\n",
              "      <th>2_pct</th>\n",
              "      <th>3_pct</th>\n",
              "      <th>4_pct</th>\n",
              "      <th>5_pct</th>\n",
              "      <th>6_pct</th>\n",
              "      <th>7_pct</th>\n",
              "      <th>8_pct</th>\n",
              "      <th>9_pct</th>\n",
              "      <th>10_pct</th>\n",
              "    </tr>\n",
              "  </thead>\n",
              "  <tbody>\n",
              "    <tr>\n",
              "      <th>0</th>\n",
              "      <td>2017-07-17 12:28:32.785639</td>\n",
              "      <td>402</td>\n",
              "      <td>Males</td>\n",
              "      <td>http://www.imdb.com/title/tt6322922/ratings-male</td>\n",
              "      <td>4.6</td>\n",
              "      <td>5.0</td>\n",
              "      <td>2</td>\n",
              "      <td>197</td>\n",
              "      <td>7</td>\n",
              "      <td>7</td>\n",
              "      <td>3</td>\n",
              "      <td>7</td>\n",
              "      <td>7</td>\n",
              "      <td>11</td>\n",
              "      <td>8</td>\n",
              "      <td>20</td>\n",
              "      <td>135</td>\n",
              "      <td>49.0</td>\n",
              "      <td>1.7</td>\n",
              "      <td>1.7</td>\n",
              "      <td>0.7</td>\n",
              "      <td>1.7</td>\n",
              "      <td>1.7</td>\n",
              "      <td>2.7</td>\n",
              "      <td>2.0</td>\n",
              "      <td>5.0</td>\n",
              "      <td>33.6</td>\n",
              "    </tr>\n",
              "    <tr>\n",
              "      <th>1</th>\n",
              "      <td>2017-07-17 12:28:33.025600</td>\n",
              "      <td>78</td>\n",
              "      <td>Females</td>\n",
              "      <td>http://www.imdb.com/title/tt6322922/ratings-fe...</td>\n",
              "      <td>6.9</td>\n",
              "      <td>7.7</td>\n",
              "      <td>10</td>\n",
              "      <td>16</td>\n",
              "      <td>1</td>\n",
              "      <td>0</td>\n",
              "      <td>1</td>\n",
              "      <td>1</td>\n",
              "      <td>0</td>\n",
              "      <td>3</td>\n",
              "      <td>4</td>\n",
              "      <td>3</td>\n",
              "      <td>49</td>\n",
              "      <td>20.5</td>\n",
              "      <td>1.3</td>\n",
              "      <td>0.0</td>\n",
              "      <td>1.3</td>\n",
              "      <td>1.3</td>\n",
              "      <td>0.0</td>\n",
              "      <td>3.8</td>\n",
              "      <td>5.1</td>\n",
              "      <td>3.8</td>\n",
              "      <td>62.8</td>\n",
              "    </tr>\n",
              "    <tr>\n",
              "      <th>2</th>\n",
              "      <td>2017-07-17 12:28:33.273919</td>\n",
              "      <td>4</td>\n",
              "      <td>Aged under 18</td>\n",
              "      <td>http://www.imdb.com/title/tt6322922/ratings-age_1</td>\n",
              "      <td>4.2</td>\n",
              "      <td>4.2</td>\n",
              "      <td>3</td>\n",
              "      <td>2</td>\n",
              "      <td>0</td>\n",
              "      <td>0</td>\n",
              "      <td>0</td>\n",
              "      <td>1</td>\n",
              "      <td>0</td>\n",
              "      <td>0</td>\n",
              "      <td>0</td>\n",
              "      <td>0</td>\n",
              "      <td>1</td>\n",
              "      <td>50.0</td>\n",
              "      <td>0.0</td>\n",
              "      <td>0.0</td>\n",
              "      <td>0.0</td>\n",
              "      <td>25.0</td>\n",
              "      <td>0.0</td>\n",
              "      <td>0.0</td>\n",
              "      <td>0.0</td>\n",
              "      <td>0.0</td>\n",
              "      <td>25.0</td>\n",
              "    </tr>\n",
              "    <tr>\n",
              "      <th>3</th>\n",
              "      <td>2017-07-17 12:28:33.495325</td>\n",
              "      <td>4</td>\n",
              "      <td>Males under 18</td>\n",
              "      <td>http://www.imdb.com/title/tt6322922/ratings-ma...</td>\n",
              "      <td>4.2</td>\n",
              "      <td>4.2</td>\n",
              "      <td>3</td>\n",
              "      <td>2</td>\n",
              "      <td>0</td>\n",
              "      <td>0</td>\n",
              "      <td>0</td>\n",
              "      <td>1</td>\n",
              "      <td>0</td>\n",
              "      <td>0</td>\n",
              "      <td>0</td>\n",
              "      <td>0</td>\n",
              "      <td>1</td>\n",
              "      <td>50.0</td>\n",
              "      <td>0.0</td>\n",
              "      <td>0.0</td>\n",
              "      <td>0.0</td>\n",
              "      <td>25.0</td>\n",
              "      <td>0.0</td>\n",
              "      <td>0.0</td>\n",
              "      <td>0.0</td>\n",
              "      <td>0.0</td>\n",
              "      <td>25.0</td>\n",
              "    </tr>\n",
              "    <tr>\n",
              "      <th>4</th>\n",
              "      <td>2017-07-17 12:28:33.722849</td>\n",
              "      <td>130</td>\n",
              "      <td>Aged 18-29</td>\n",
              "      <td>http://www.imdb.com/title/tt6322922/ratings-age_2</td>\n",
              "      <td>6.3</td>\n",
              "      <td>6.5</td>\n",
              "      <td>9</td>\n",
              "      <td>41</td>\n",
              "      <td>0</td>\n",
              "      <td>3</td>\n",
              "      <td>1</td>\n",
              "      <td>2</td>\n",
              "      <td>3</td>\n",
              "      <td>6</td>\n",
              "      <td>4</td>\n",
              "      <td>6</td>\n",
              "      <td>64</td>\n",
              "      <td>31.5</td>\n",
              "      <td>0.0</td>\n",
              "      <td>2.3</td>\n",
              "      <td>0.8</td>\n",
              "      <td>1.5</td>\n",
              "      <td>2.3</td>\n",
              "      <td>4.6</td>\n",
              "      <td>3.1</td>\n",
              "      <td>4.6</td>\n",
              "      <td>49.2</td>\n",
              "    </tr>\n",
              "  </tbody>\n",
              "</table>\n",
              "</div>"
            ],
            "text/plain": [
              "                    timestamp  respondents  ... 9_pct 10_pct\n",
              "0  2017-07-17 12:28:32.785639          402  ...   5.0   33.6\n",
              "1  2017-07-17 12:28:33.025600           78  ...   3.8   62.8\n",
              "2  2017-07-17 12:28:33.273919            4  ...   0.0   25.0\n",
              "3  2017-07-17 12:28:33.495325            4  ...   0.0   25.0\n",
              "4  2017-07-17 12:28:33.722849          130  ...   4.6   49.2\n",
              "\n",
              "[5 rows x 27 columns]"
            ]
          },
          "metadata": {
            "tags": []
          },
          "execution_count": 78
        }
      ]
    },
    {
      "cell_type": "code",
      "metadata": {
        "id": "VzYMfegc-euY",
        "colab_type": "code",
        "colab": {
          "base_uri": "https://localhost:8080/",
          "height": 353
        },
        "outputId": "bee75782-012f-4999-8bdb-c5a82c7acd26"
      },
      "source": [
        "df.category.value_counts()"
      ],
      "execution_count": 57,
      "outputs": [
        {
          "output_type": "execute_result",
          "data": {
            "text/plain": [
              "Males Aged 18-29      4216\n",
              "US users              4216\n",
              "IMDb staff            4216\n",
              "Non-US users          4216\n",
              "Females Aged 45+      4216\n",
              "Top 1000 voters       4216\n",
              "Females Aged 30-44    4216\n",
              "Aged under 18         4216\n",
              "Aged 30-44            4216\n",
              "Aged 18-29            4216\n",
              "Males under 18        4216\n",
              "Males                 4216\n",
              "Males Aged 45+        4216\n",
              "Females Aged 18-29    4216\n",
              "Females               4216\n",
              "Males Aged 30-44      4216\n",
              "Aged 45+              4216\n",
              "IMDb users            4216\n",
              "Females under 18      4165\n",
              "Name: category, dtype: int64"
            ]
          },
          "metadata": {
            "tags": []
          },
          "execution_count": 57
        }
      ]
    },
    {
      "cell_type": "code",
      "metadata": {
        "colab_type": "code",
        "id": "cDltXxhC_yG-",
        "colab": {
          "base_uri": "https://localhost:8080/",
          "height": 487
        },
        "outputId": "b2c9aaf1-e35c-4163-9ba3-b43f71250fa0"
      },
      "source": [
        "df.dtypes"
      ],
      "execution_count": 58,
      "outputs": [
        {
          "output_type": "execute_result",
          "data": {
            "text/plain": [
              "timestamp       object\n",
              "respondents      int64\n",
              "category        object\n",
              "link            object\n",
              "average        float64\n",
              "mean           float64\n",
              "median           int64\n",
              "1_votes          int64\n",
              "2_votes          int64\n",
              "3_votes          int64\n",
              "4_votes          int64\n",
              "5_votes          int64\n",
              "6_votes          int64\n",
              "7_votes          int64\n",
              "8_votes          int64\n",
              "9_votes          int64\n",
              "10_votes         int64\n",
              "1_pct          float64\n",
              "2_pct          float64\n",
              "3_pct          float64\n",
              "4_pct          float64\n",
              "5_pct          float64\n",
              "6_pct          float64\n",
              "7_pct          float64\n",
              "8_pct          float64\n",
              "9_pct          float64\n",
              "10_pct         float64\n",
              "dtype: object"
            ]
          },
          "metadata": {
            "tags": []
          },
          "execution_count": 58
        }
      ]
    },
    {
      "cell_type": "code",
      "metadata": {
        "id": "NUBbWVrv_ROZ",
        "colab_type": "code",
        "colab": {
          "base_uri": "https://localhost:8080/",
          "height": 134
        },
        "outputId": "29b26bbf-812a-4159-9d98-aa7462835c75"
      },
      "source": [
        "df['timestamp'] = pd.to_datetime(df['timestamp'])\n",
        "df.timestamp.describe()"
      ],
      "execution_count": 59,
      "outputs": [
        {
          "output_type": "execute_result",
          "data": {
            "text/plain": [
              "count                          80053\n",
              "unique                         80053\n",
              "top       2017-07-24 23:00:02.760781\n",
              "freq                               1\n",
              "first     2017-07-17 12:28:32.785639\n",
              "last      2017-08-29 23:10:06.218251\n",
              "Name: timestamp, dtype: object"
            ]
          },
          "metadata": {
            "tags": []
          },
          "execution_count": 59
        }
      ]
    },
    {
      "cell_type": "code",
      "metadata": {
        "id": "f39Qp_Ge_rT-",
        "colab_type": "code",
        "colab": {
          "base_uri": "https://localhost:8080/",
          "height": 34
        },
        "outputId": "488d6c25-eb85-4489-c99c-27cd208aec4d"
      },
      "source": [
        "df_imdb = df[df.category == 'IMDb users']\n",
        "df_imdb.shape"
      ],
      "execution_count": 61,
      "outputs": [
        {
          "output_type": "execute_result",
          "data": {
            "text/plain": [
              "(4216, 27)"
            ]
          },
          "metadata": {
            "tags": []
          },
          "execution_count": 61
        }
      ]
    },
    {
      "cell_type": "code",
      "metadata": {
        "id": "l1DNa1BB_4ph",
        "colab_type": "code",
        "colab": {
          "base_uri": "https://localhost:8080/",
          "height": 114
        },
        "outputId": "8f62c2e2-7bef-48dc-d82e-21aa0d491b84"
      },
      "source": [
        "final = df_imdb.tail(1)\n",
        "final"
      ],
      "execution_count": 62,
      "outputs": [
        {
          "output_type": "execute_result",
          "data": {
            "text/html": [
              "<div>\n",
              "<style scoped>\n",
              "    .dataframe tbody tr th:only-of-type {\n",
              "        vertical-align: middle;\n",
              "    }\n",
              "\n",
              "    .dataframe tbody tr th {\n",
              "        vertical-align: top;\n",
              "    }\n",
              "\n",
              "    .dataframe thead th {\n",
              "        text-align: right;\n",
              "    }\n",
              "</style>\n",
              "<table border=\"1\" class=\"dataframe\">\n",
              "  <thead>\n",
              "    <tr style=\"text-align: right;\">\n",
              "      <th></th>\n",
              "      <th>timestamp</th>\n",
              "      <th>respondents</th>\n",
              "      <th>category</th>\n",
              "      <th>link</th>\n",
              "      <th>average</th>\n",
              "      <th>mean</th>\n",
              "      <th>median</th>\n",
              "      <th>1_votes</th>\n",
              "      <th>2_votes</th>\n",
              "      <th>3_votes</th>\n",
              "      <th>4_votes</th>\n",
              "      <th>5_votes</th>\n",
              "      <th>6_votes</th>\n",
              "      <th>7_votes</th>\n",
              "      <th>8_votes</th>\n",
              "      <th>9_votes</th>\n",
              "      <th>10_votes</th>\n",
              "      <th>1_pct</th>\n",
              "      <th>2_pct</th>\n",
              "      <th>3_pct</th>\n",
              "      <th>4_pct</th>\n",
              "      <th>5_pct</th>\n",
              "      <th>6_pct</th>\n",
              "      <th>7_pct</th>\n",
              "      <th>8_pct</th>\n",
              "      <th>9_pct</th>\n",
              "      <th>10_pct</th>\n",
              "    </tr>\n",
              "  </thead>\n",
              "  <tbody>\n",
              "    <tr>\n",
              "      <th>80052</th>\n",
              "      <td>2017-08-29 23:10:06.218251</td>\n",
              "      <td>2662</td>\n",
              "      <td>IMDb users</td>\n",
              "      <td>http://www.imdb.com/title/tt6322922/ratings</td>\n",
              "      <td>5.4</td>\n",
              "      <td>5.6</td>\n",
              "      <td>7</td>\n",
              "      <td>1021</td>\n",
              "      <td>69</td>\n",
              "      <td>38</td>\n",
              "      <td>25</td>\n",
              "      <td>55</td>\n",
              "      <td>110</td>\n",
              "      <td>154</td>\n",
              "      <td>147</td>\n",
              "      <td>146</td>\n",
              "      <td>897</td>\n",
              "      <td>38.4</td>\n",
              "      <td>2.6</td>\n",
              "      <td>1.4</td>\n",
              "      <td>0.9</td>\n",
              "      <td>2.1</td>\n",
              "      <td>4.1</td>\n",
              "      <td>5.8</td>\n",
              "      <td>5.5</td>\n",
              "      <td>5.5</td>\n",
              "      <td>33.7</td>\n",
              "    </tr>\n",
              "  </tbody>\n",
              "</table>\n",
              "</div>"
            ],
            "text/plain": [
              "                        timestamp  respondents  ... 9_pct 10_pct\n",
              "80052  2017-08-29 23:10:06.218251         2662  ...   5.5   33.7\n",
              "\n",
              "[1 rows x 27 columns]"
            ]
          },
          "metadata": {
            "tags": []
          },
          "execution_count": 62
        }
      ]
    },
    {
      "cell_type": "code",
      "metadata": {
        "id": "hQGjzoAdAMH9",
        "colab_type": "code",
        "colab": {
          "base_uri": "https://localhost:8080/",
          "height": 185
        },
        "outputId": "6c7ed954-05d7-4ad3-81de-0c63dca8f946"
      },
      "source": [
        "#columns = ['{}_pct'.format(i) for i in range(1,11)]\n",
        "columns = [f'{i}_pct' for i in range(1,11)]\n",
        "columns"
      ],
      "execution_count": 65,
      "outputs": [
        {
          "output_type": "execute_result",
          "data": {
            "text/plain": [
              "['1_pct',\n",
              " '2_pct',\n",
              " '3_pct',\n",
              " '4_pct',\n",
              " '5_pct',\n",
              " '6_pct',\n",
              " '7_pct',\n",
              " '8_pct',\n",
              " '9_pct',\n",
              " '10_pct']"
            ]
          },
          "metadata": {
            "tags": []
          },
          "execution_count": 65
        }
      ]
    },
    {
      "cell_type": "code",
      "metadata": {
        "id": "Y5ZY6KznADnp",
        "colab_type": "code",
        "colab": {
          "base_uri": "https://localhost:8080/",
          "height": 343
        },
        "outputId": "26acad1f-f2e8-4ac8-a074-41e3c477b08c"
      },
      "source": [
        "data = final[columns]\n",
        "data = data.T\n",
        "data.index = range(1,11)\n",
        "data"
      ],
      "execution_count": 70,
      "outputs": [
        {
          "output_type": "execute_result",
          "data": {
            "text/html": [
              "<div>\n",
              "<style scoped>\n",
              "    .dataframe tbody tr th:only-of-type {\n",
              "        vertical-align: middle;\n",
              "    }\n",
              "\n",
              "    .dataframe tbody tr th {\n",
              "        vertical-align: top;\n",
              "    }\n",
              "\n",
              "    .dataframe thead th {\n",
              "        text-align: right;\n",
              "    }\n",
              "</style>\n",
              "<table border=\"1\" class=\"dataframe\">\n",
              "  <thead>\n",
              "    <tr style=\"text-align: right;\">\n",
              "      <th></th>\n",
              "      <th>80052</th>\n",
              "    </tr>\n",
              "  </thead>\n",
              "  <tbody>\n",
              "    <tr>\n",
              "      <th>1</th>\n",
              "      <td>38.4</td>\n",
              "    </tr>\n",
              "    <tr>\n",
              "      <th>2</th>\n",
              "      <td>2.6</td>\n",
              "    </tr>\n",
              "    <tr>\n",
              "      <th>3</th>\n",
              "      <td>1.4</td>\n",
              "    </tr>\n",
              "    <tr>\n",
              "      <th>4</th>\n",
              "      <td>0.9</td>\n",
              "    </tr>\n",
              "    <tr>\n",
              "      <th>5</th>\n",
              "      <td>2.1</td>\n",
              "    </tr>\n",
              "    <tr>\n",
              "      <th>6</th>\n",
              "      <td>4.1</td>\n",
              "    </tr>\n",
              "    <tr>\n",
              "      <th>7</th>\n",
              "      <td>5.8</td>\n",
              "    </tr>\n",
              "    <tr>\n",
              "      <th>8</th>\n",
              "      <td>5.5</td>\n",
              "    </tr>\n",
              "    <tr>\n",
              "      <th>9</th>\n",
              "      <td>5.5</td>\n",
              "    </tr>\n",
              "    <tr>\n",
              "      <th>10</th>\n",
              "      <td>33.7</td>\n",
              "    </tr>\n",
              "  </tbody>\n",
              "</table>\n",
              "</div>"
            ],
            "text/plain": [
              "    80052\n",
              "1    38.4\n",
              "2     2.6\n",
              "3     1.4\n",
              "4     0.9\n",
              "5     2.1\n",
              "6     4.1\n",
              "7     5.8\n",
              "8     5.5\n",
              "9     5.5\n",
              "10   33.7"
            ]
          },
          "metadata": {
            "tags": []
          },
          "execution_count": 70
        }
      ]
    },
    {
      "cell_type": "code",
      "metadata": {
        "id": "osY19JaDBUp-",
        "colab_type": "code",
        "colab": {
          "base_uri": "https://localhost:8080/",
          "height": 367
        },
        "outputId": "eaec51d8-b61a-4937-a8d2-4ba86d54f1fb"
      },
      "source": [
        "plt.style.use('fivethirtyeight')\n",
        "\n",
        "data.plot.bar(color='C1', width=0.9, legend=False)\n",
        "plt.text(x=-1.5, y=50, fontsize=16, fontweight='bold',\n",
        "         s = \"'An Inconvenient Sequel: Truth to Power' is divisive\")\n",
        "plt.text(x=-1.5, y=46, fontsize=12,\n",
        "         s = \"IMDb ratings for the film as of Aug. 29\")\n",
        "plt.yticks([0, 10, 20, 30, 40])\n",
        "plt.xlabel('Rating', fontsize=10, fontweight='bold')\n",
        "plt.ylabel('Percent of Total Votes', fontsize=10, fontweight='bold');"
      ],
      "execution_count": 73,
      "outputs": [
        {
          "output_type": "display_data",
          "data": {
            "image/png": "iVBORw0KGgoAAAANSUhEUgAAAegAAAFeCAYAAABOw4xkAAAABHNCSVQICAgIfAhkiAAAAAlwSFlz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\n",
            "text/plain": [
              "<Figure size 432x288 with 1 Axes>"
            ]
          },
          "metadata": {
            "tags": []
          }
        }
      ]
    },
    {
      "cell_type": "markdown",
      "metadata": {
        "id": "vRz19ZKpF404",
        "colab_type": "text"
      },
      "source": [
        "## Quick Introduction to Altair Plotting Package"
      ]
    },
    {
      "cell_type": "code",
      "metadata": {
        "id": "x090KL0YDOdU",
        "colab_type": "code",
        "colab": {
          "base_uri": "https://localhost:8080/",
          "height": 195
        },
        "outputId": "ccc8059d-6ce5-424f-f361-3f3094d60f79"
      },
      "source": [
        "import altair as alt\n",
        "from vega_datasets import data\n",
        "\n",
        "source = data.cars()\n",
        "source.head()"
      ],
      "execution_count": 74,
      "outputs": [
        {
          "output_type": "execute_result",
          "data": {
            "text/html": [
              "<div>\n",
              "<style scoped>\n",
              "    .dataframe tbody tr th:only-of-type {\n",
              "        vertical-align: middle;\n",
              "    }\n",
              "\n",
              "    .dataframe tbody tr th {\n",
              "        vertical-align: top;\n",
              "    }\n",
              "\n",
              "    .dataframe thead th {\n",
              "        text-align: right;\n",
              "    }\n",
              "</style>\n",
              "<table border=\"1\" class=\"dataframe\">\n",
              "  <thead>\n",
              "    <tr style=\"text-align: right;\">\n",
              "      <th></th>\n",
              "      <th>Acceleration</th>\n",
              "      <th>Cylinders</th>\n",
              "      <th>Displacement</th>\n",
              "      <th>Horsepower</th>\n",
              "      <th>Miles_per_Gallon</th>\n",
              "      <th>Name</th>\n",
              "      <th>Origin</th>\n",
              "      <th>Weight_in_lbs</th>\n",
              "      <th>Year</th>\n",
              "    </tr>\n",
              "  </thead>\n",
              "  <tbody>\n",
              "    <tr>\n",
              "      <th>0</th>\n",
              "      <td>12.0</td>\n",
              "      <td>8</td>\n",
              "      <td>307.0</td>\n",
              "      <td>130.0</td>\n",
              "      <td>18.0</td>\n",
              "      <td>chevrolet chevelle malibu</td>\n",
              "      <td>USA</td>\n",
              "      <td>3504</td>\n",
              "      <td>1970-01-01</td>\n",
              "    </tr>\n",
              "    <tr>\n",
              "      <th>1</th>\n",
              "      <td>11.5</td>\n",
              "      <td>8</td>\n",
              "      <td>350.0</td>\n",
              "      <td>165.0</td>\n",
              "      <td>15.0</td>\n",
              "      <td>buick skylark 320</td>\n",
              "      <td>USA</td>\n",
              "      <td>3693</td>\n",
              "      <td>1970-01-01</td>\n",
              "    </tr>\n",
              "    <tr>\n",
              "      <th>2</th>\n",
              "      <td>11.0</td>\n",
              "      <td>8</td>\n",
              "      <td>318.0</td>\n",
              "      <td>150.0</td>\n",
              "      <td>18.0</td>\n",
              "      <td>plymouth satellite</td>\n",
              "      <td>USA</td>\n",
              "      <td>3436</td>\n",
              "      <td>1970-01-01</td>\n",
              "    </tr>\n",
              "    <tr>\n",
              "      <th>3</th>\n",
              "      <td>12.0</td>\n",
              "      <td>8</td>\n",
              "      <td>304.0</td>\n",
              "      <td>150.0</td>\n",
              "      <td>16.0</td>\n",
              "      <td>amc rebel sst</td>\n",
              "      <td>USA</td>\n",
              "      <td>3433</td>\n",
              "      <td>1970-01-01</td>\n",
              "    </tr>\n",
              "    <tr>\n",
              "      <th>4</th>\n",
              "      <td>10.5</td>\n",
              "      <td>8</td>\n",
              "      <td>302.0</td>\n",
              "      <td>140.0</td>\n",
              "      <td>17.0</td>\n",
              "      <td>ford torino</td>\n",
              "      <td>USA</td>\n",
              "      <td>3449</td>\n",
              "      <td>1970-01-01</td>\n",
              "    </tr>\n",
              "  </tbody>\n",
              "</table>\n",
              "</div>"
            ],
            "text/plain": [
              "   Acceleration  Cylinders  Displacement  ...  Origin  Weight_in_lbs       Year\n",
              "0          12.0          8         307.0  ...     USA           3504 1970-01-01\n",
              "1          11.5          8         350.0  ...     USA           3693 1970-01-01\n",
              "2          11.0          8         318.0  ...     USA           3436 1970-01-01\n",
              "3          12.0          8         304.0  ...     USA           3433 1970-01-01\n",
              "4          10.5          8         302.0  ...     USA           3449 1970-01-01\n",
              "\n",
              "[5 rows x 9 columns]"
            ]
          },
          "metadata": {
            "tags": []
          },
          "execution_count": 74
        }
      ]
    },
    {
      "cell_type": "code",
      "metadata": {
        "id": "3cvNtIQpDWFz",
        "colab_type": "code",
        "colab": {
          "base_uri": "https://localhost:8080/",
          "height": 420
        },
        "outputId": "2e023dd5-4e1a-4e97-d39d-7affc01d92a7"
      },
      "source": [
        "brush = alt.selection(type='interval', resolve='global')\n",
        "\n",
        "base = alt.Chart(source).mark_point().encode(\n",
        "    y='Miles_per_Gallon',\n",
        "    color=alt.condition(brush, 'Origin', alt.ColorValue('gray')),\n",
        "    tooltip=['Name','Origin','Weight_in_lbs'],\n",
        ").add_selection(\n",
        "    brush\n",
        ").properties(\n",
        "    width=350,\n",
        "    height=350\n",
        ")\n",
        "\n",
        "base.encode(x='Horsepower') | base.encode(x='Acceleration') | base.encode(x='Weight_in_lbs')"
      ],
      "execution_count": 77,
      "outputs": [
        {
          "output_type": "execute_result",
          "data": {
            "text/plain": [
              "HConcatChart({\n",
              "  data:      Acceleration  Cylinders  Displacement  ...  Origin  Weight_in_lbs       Year\n",
              "  0            12.0          8         307.0  ...     USA           3504 1970-01-01\n",
              "  1            11.5          8         350.0  ...     USA           3693 1970-01-01\n",
              "  2            11.0          8         318.0  ...     USA           3436 1970-01-01\n",
              "  3            12.0          8         304.0  ...     USA           3433 1970-01-01\n",
              "  4            10.5          8         302.0  ...     USA           3449 1970-01-01\n",
              "  5            10.0          8         429.0  ...     USA           4341 1970-01-01\n",
              "  6             9.0          8         454.0  ...     USA           4354 1970-01-01\n",
              "  7             8.5          8         440.0  ...     USA           4312 1970-01-01\n",
              "  8            10.0          8         455.0  ...     USA           4425 1970-01-01\n",
              "  9             8.5          8         390.0  ...     USA           3850 1970-01-01\n",
              "  10           17.5          4         133.0  ...  Europe           3090 1970-01-01\n",
              "  11           11.5          8         350.0  ...     USA           4142 1970-01-01\n",
              "  12           11.0          8         351.0  ...     USA           4034 1970-01-01\n",
              "  13           10.5          8         383.0  ...     USA           4166 1970-01-01\n",
              "  14           11.0          8         360.0  ...     USA           3850 1970-01-01\n",
              "  15           10.0          8         383.0  ...     USA           3563 1970-01-01\n",
              "  16            8.0          8         340.0  ...     USA           3609 1970-01-01\n",
              "  17            8.0          8         302.0  ...     USA           3353 1970-01-01\n",
              "  18            9.5          8         400.0  ...     USA           3761 1970-01-01\n",
              "  19           10.0          8         455.0  ...     USA           3086 1970-01-01\n",
              "  20           15.0          4         113.0  ...   Japan           2372 1970-01-01\n",
              "  21           15.5          6         198.0  ...     USA           2833 1970-01-01\n",
              "  22           15.5          6         199.0  ...     USA           2774 1970-01-01\n",
              "  23           16.0          6         200.0  ...     USA           2587 1970-01-01\n",
              "  24           14.5          4          97.0  ...   Japan           2130 1970-01-01\n",
              "  25           20.5          4          97.0  ...  Europe           1835 1970-01-01\n",
              "  26           17.5          4         110.0  ...  Europe           2672 1970-01-01\n",
              "  27           14.5          4         107.0  ...  Europe           2430 1970-01-01\n",
              "  28           17.5          4         104.0  ...  Europe           2375 1970-01-01\n",
              "  29           12.5          4         121.0  ...  Europe           2234 1970-01-01\n",
              "  ..            ...        ...           ...  ...     ...            ...        ...\n",
              "  376          18.6          4         112.0  ...     USA           2640 1982-01-01\n",
              "  377          18.0          4         112.0  ...     USA           2395 1982-01-01\n",
              "  378          16.2          4         112.0  ...     USA           2575 1982-01-01\n",
              "  379          16.0          4         135.0  ...     USA           2525 1982-01-01\n",
              "  380          18.0          4         151.0  ...     USA           2735 1982-01-01\n",
              "  381          16.4          4         140.0  ...     USA           2865 1982-01-01\n",
              "  382          20.5          4         151.0  ...     USA           3035 1982-01-01\n",
              "  383          15.3          4         105.0  ...  Europe           1980 1982-01-01\n",
              "  384          18.2          4          91.0  ...   Japan           2025 1982-01-01\n",
              "  385          17.6          4          91.0  ...   Japan           1970 1982-01-01\n",
              "  386          14.7          4         105.0  ...     USA           2125 1982-01-01\n",
              "  387          17.3          4          98.0  ...     USA           2125 1982-01-01\n",
              "  388          14.5          4         120.0  ...   Japan           2160 1982-01-01\n",
              "  389          14.5          4         107.0  ...   Japan           2205 1982-01-01\n",
              "  390          16.9          4         108.0  ...   Japan           2245 1982-01-01\n",
              "  391          15.0          4          91.0  ...   Japan           1965 1982-01-01\n",
              "  392          15.7          4          91.0  ...   Japan           1965 1982-01-01\n",
              "  393          16.2          4          91.0  ...   Japan           1995 1982-01-01\n",
              "  394          16.4          6         181.0  ...     USA           2945 1982-01-01\n",
              "  395          17.0          6         262.0  ...     USA           3015 1982-01-01\n",
              "  396          14.5          4         156.0  ...     USA           2585 1982-01-01\n",
              "  397          14.7          6         232.0  ...     USA           2835 1982-01-01\n",
              "  398          13.9          4         144.0  ...   Japan           2665 1982-01-01\n",
              "  399          13.0          4         135.0  ...     USA           2370 1982-01-01\n",
              "  400          17.3          4         151.0  ...     USA           2950 1982-01-01\n",
              "  401          15.6          4         140.0  ...     USA           2790 1982-01-01\n",
              "  402          24.6          4          97.0  ...  Europe           2130 1982-01-01\n",
              "  403          11.6          4         135.0  ...     USA           2295 1982-01-01\n",
              "  404          18.6          4         120.0  ...     USA           2625 1982-01-01\n",
              "  405          19.4          4         119.0  ...     USA           2720 1982-01-01\n",
              "  \n",
              "  [406 rows x 9 columns],\n",
              "  hconcat: [Chart({\n",
              "    encoding: FacetedEncoding({\n",
              "      color: ColorValue({\n",
              "        condition: Color({\n",
              "          field: 'Origin',\n",
              "          selection: 'selector003',\n",
              "          type: 'nominal'\n",
              "        }),\n",
              "        value: 'gray'\n",
              "      }),\n",
              "      tooltip: [Tooltip({\n",
              "        field: 'Name',\n",
              "        type: 'nominal'\n",
              "      }), Tooltip({\n",
              "        field: 'Origin',\n",
              "        type: 'nominal'\n",
              "      }), Tooltip({\n",
              "        field: 'Weight_in_lbs',\n",
              "        type: 'quantitative'\n",
              "      })],\n",
              "      x: X({\n",
              "        field: 'Horsepower',\n",
              "        type: 'quantitative'\n",
              "      }),\n",
              "      y: Y({\n",
              "        field: 'Miles_per_Gallon',\n",
              "        type: 'quantitative'\n",
              "      })\n",
              "    }),\n",
              "    height: 350,\n",
              "    mark: 'point',\n",
              "    selection: {'selector003': SelectionDef({\n",
              "      resolve: 'global',\n",
              "      type: 'interval'\n",
              "    })},\n",
              "    width: 350\n",
              "  }), Chart({\n",
              "    encoding: FacetedEncoding({\n",
              "      color: ColorValue({\n",
              "        condition: Color({\n",
              "          field: 'Origin',\n",
              "          selection: 'selector003',\n",
              "          type: 'nominal'\n",
              "        }),\n",
              "        value: 'gray'\n",
              "      }),\n",
              "      tooltip: [Tooltip({\n",
              "        field: 'Name',\n",
              "        type: 'nominal'\n",
              "      }), Tooltip({\n",
              "        field: 'Origin',\n",
              "        type: 'nominal'\n",
              "      }), Tooltip({\n",
              "        field: 'Weight_in_lbs',\n",
              "        type: 'quantitative'\n",
              "      })],\n",
              "      x: X({\n",
              "        field: 'Acceleration',\n",
              "        type: 'quantitative'\n",
              "      }),\n",
              "      y: Y({\n",
              "        field: 'Miles_per_Gallon',\n",
              "        type: 'quantitative'\n",
              "      })\n",
              "    }),\n",
              "    height: 350,\n",
              "    mark: 'point',\n",
              "    selection: {'selector003': SelectionDef({\n",
              "      resolve: 'global',\n",
              "      type: 'interval'\n",
              "    })},\n",
              "    width: 350\n",
              "  }), Chart({\n",
              "    encoding: FacetedEncoding({\n",
              "      color: ColorValue({\n",
              "        condition: Color({\n",
              "          field: 'Origin',\n",
              "          selection: 'selector003',\n",
              "          type: 'nominal'\n",
              "        }),\n",
              "        value: 'gray'\n",
              "      }),\n",
              "      tooltip: [Tooltip({\n",
              "        field: 'Name',\n",
              "        type: 'nominal'\n",
              "      }), Tooltip({\n",
              "        field: 'Origin',\n",
              "        type: 'nominal'\n",
              "      }), Tooltip({\n",
              "        field: 'Weight_in_lbs',\n",
              "        type: 'quantitative'\n",
              "      })],\n",
              "      x: X({\n",
              "        field: 'Weight_in_lbs',\n",
              "        type: 'quantitative'\n",
              "      }),\n",
              "      y: Y({\n",
              "        field: 'Miles_per_Gallon',\n",
              "        type: 'quantitative'\n",
              "      })\n",
              "    }),\n",
              "    height: 350,\n",
              "    mark: 'point',\n",
              "    selection: {'selector003': SelectionDef({\n",
              "      resolve: 'global',\n",
              "      type: 'interval'\n",
              "    })},\n",
              "    width: 350\n",
              "  })]\n",
              "})"
            ],
            "text/html": [
              "<!DOCTYPE html>\n",
              "<html>\n",
              "<head>\n",
              "  <style>\n",
              "    .vega-actions a {\n",
              "        margin-right: 12px;\n",
              "        color: #757575;\n",
              "        font-weight: normal;\n",
              "        font-size: 13px;\n",
              "    }\n",
              "    .error {\n",
              "        color: red;\n",
              "    }\n",
              "  </style>\n",
              "  <script type=\"text/javascript\" src=\"https://cdn.jsdelivr.net/npm//vega@5\"></script>\n",
              "  <script type=\"text/javascript\" src=\"https://cdn.jsdelivr.net/npm//vega-lite@3.3.0\"></script>\n",
              "  <script type=\"text/javascript\" src=\"https://cdn.jsdelivr.net/npm//vega-embed@4\"></script>\n",
              "</head>\n",
              "<body>\n",
              "  <div id=\"altair-viz\"></div>\n",
              "  <script>\n",
              "      var spec = {\"config\": {\"view\": {\"width\": 400, \"height\": 300}, \"mark\": {\"tooltip\": null}}, \"hconcat\": [{\"mark\": \"point\", \"encoding\": {\"color\": {\"value\": \"gray\", \"condition\": {\"type\": \"nominal\", \"field\": \"Origin\", \"selection\": \"selector003\"}}, \"tooltip\": [{\"type\": \"nominal\", \"field\": \"Name\"}, {\"type\": \"nominal\", \"field\": \"Origin\"}, {\"type\": \"quantitative\", \"field\": \"Weight_in_lbs\"}], \"x\": {\"type\": \"quantitative\", \"field\": \"Horsepower\"}, \"y\": {\"type\": \"quantitative\", \"field\": \"Miles_per_Gallon\"}}, \"height\": 350, \"selection\": {\"selector003\": {\"type\": \"interval\", \"resolve\": \"global\"}}, \"width\": 350}, {\"mark\": \"point\", \"encoding\": {\"color\": {\"value\": \"gray\", \"condition\": {\"type\": \"nominal\", \"field\": \"Origin\", \"selection\": \"selector003\"}}, \"tooltip\": [{\"type\": \"nominal\", \"field\": \"Name\"}, {\"type\": \"nominal\", \"field\": \"Origin\"}, {\"type\": \"quantitative\", \"field\": \"Weight_in_lbs\"}], \"x\": {\"type\": \"quantitative\", \"field\": \"Acceleration\"}, \"y\": {\"type\": \"quantitative\", \"field\": \"Miles_per_Gallon\"}}, \"height\": 350, \"selection\": {\"selector003\": {\"type\": \"interval\", \"resolve\": \"global\"}}, \"width\": 350}, {\"mark\": \"point\", \"encoding\": {\"color\": {\"value\": \"gray\", \"condition\": {\"type\": \"nominal\", \"field\": \"Origin\", \"selection\": \"selector003\"}}, \"tooltip\": [{\"type\": \"nominal\", \"field\": \"Name\"}, {\"type\": \"nominal\", \"field\": \"Origin\"}, {\"type\": \"quantitative\", \"field\": \"Weight_in_lbs\"}], \"x\": {\"type\": \"quantitative\", \"field\": \"Weight_in_lbs\"}, \"y\": {\"type\": \"quantitative\", \"field\": \"Miles_per_Gallon\"}}, \"height\": 350, \"selection\": {\"selector003\": {\"type\": \"interval\", \"resolve\": \"global\"}}, \"width\": 350}], \"data\": {\"name\": \"data-f02450ab61490a1363517a0190416235\"}, \"$schema\": \"https://vega.github.io/schema/vega-lite/v3.3.0.json\", \"datasets\": {\"data-f02450ab61490a1363517a0190416235\": [{\"Acceleration\": 12.0, \"Cylinders\": 8, \"Displacement\": 307.0, \"Horsepower\": 130.0, \"Miles_per_Gallon\": 18.0, \"Name\": \"chevrolet chevelle malibu\", \"Origin\": \"USA\", \"Weight_in_lbs\": 3504, \"Year\": \"1970-01-01T00:00:00\"}, {\"Acceleration\": 11.5, \"Cylinders\": 8, \"Displacement\": 350.0, \"Horsepower\": 165.0, \"Miles_per_Gallon\": 15.0, \"Name\": \"buick skylark 320\", \"Origin\": \"USA\", \"Weight_in_lbs\": 3693, \"Year\": \"1970-01-01T00:00:00\"}, {\"Acceleration\": 11.0, \"Cylinders\": 8, \"Displacement\": 318.0, \"Horsepower\": 150.0, \"Miles_per_Gallon\": 18.0, \"Name\": \"plymouth satellite\", \"Origin\": \"USA\", \"Weight_in_lbs\": 3436, \"Year\": \"1970-01-01T00:00:00\"}, {\"Acceleration\": 12.0, \"Cylinders\": 8, \"Displacement\": 304.0, \"Horsepower\": 150.0, \"Miles_per_Gallon\": 16.0, \"Name\": \"amc rebel sst\", \"Origin\": \"USA\", \"Weight_in_lbs\": 3433, \"Year\": \"1970-01-01T00:00:00\"}, {\"Acceleration\": 10.5, \"Cylinders\": 8, \"Displacement\": 302.0, \"Horsepower\": 140.0, \"Miles_per_Gallon\": 17.0, \"Name\": \"ford torino\", \"Origin\": \"USA\", \"Weight_in_lbs\": 3449, \"Year\": \"1970-01-01T00:00:00\"}, {\"Acceleration\": 10.0, \"Cylinders\": 8, \"Displacement\": 429.0, \"Horsepower\": 198.0, \"Miles_per_Gallon\": 15.0, \"Name\": \"ford galaxie 500\", \"Origin\": \"USA\", \"Weight_in_lbs\": 4341, \"Year\": \"1970-01-01T00:00:00\"}, {\"Acceleration\": 9.0, \"Cylinders\": 8, \"Displacement\": 454.0, \"Horsepower\": 220.0, \"Miles_per_Gallon\": 14.0, \"Name\": \"chevrolet impala\", \"Origin\": \"USA\", \"Weight_in_lbs\": 4354, \"Year\": \"1970-01-01T00:00:00\"}, {\"Acceleration\": 8.5, \"Cylinders\": 8, \"Displacement\": 440.0, \"Horsepower\": 215.0, \"Miles_per_Gallon\": 14.0, \"Name\": \"plymouth fury iii\", \"Origin\": \"USA\", \"Weight_in_lbs\": 4312, \"Year\": \"1970-01-01T00:00:00\"}, {\"Acceleration\": 10.0, \"Cylinders\": 8, \"Displacement\": 455.0, \"Horsepower\": 225.0, \"Miles_per_Gallon\": 14.0, \"Name\": \"pontiac catalina\", \"Origin\": \"USA\", \"Weight_in_lbs\": 4425, \"Year\": \"1970-01-01T00:00:00\"}, {\"Acceleration\": 8.5, \"Cylinders\": 8, \"Displacement\": 390.0, \"Horsepower\": 190.0, \"Miles_per_Gallon\": 15.0, \"Name\": \"amc ambassador dpl\", \"Origin\": \"USA\", \"Weight_in_lbs\": 3850, \"Year\": \"1970-01-01T00:00:00\"}, {\"Acceleration\": 17.5, \"Cylinders\": 4, \"Displacement\": 133.0, \"Horsepower\": 115.0, \"Miles_per_Gallon\": null, \"Name\": \"citroen ds-21 pallas\", \"Origin\": \"Europe\", \"Weight_in_lbs\": 3090, \"Year\": \"1970-01-01T00:00:00\"}, {\"Acceleration\": 11.5, \"Cylinders\": 8, \"Displacement\": 350.0, \"Horsepower\": 165.0, \"Miles_per_Gallon\": null, \"Name\": \"chevrolet chevelle concours (sw)\", \"Origin\": \"USA\", \"Weight_in_lbs\": 4142, \"Year\": \"1970-01-01T00:00:00\"}, {\"Acceleration\": 11.0, \"Cylinders\": 8, \"Displacement\": 351.0, \"Horsepower\": 153.0, \"Miles_per_Gallon\": null, \"Name\": \"ford torino (sw)\", \"Origin\": \"USA\", \"Weight_in_lbs\": 4034, \"Year\": \"1970-01-01T00:00:00\"}, {\"Acceleration\": 10.5, \"Cylinders\": 8, \"Displacement\": 383.0, \"Horsepower\": 175.0, \"Miles_per_Gallon\": null, \"Name\": \"plymouth satellite (sw)\", \"Origin\": \"USA\", \"Weight_in_lbs\": 4166, \"Year\": \"1970-01-01T00:00:00\"}, {\"Acceleration\": 11.0, \"Cylinders\": 8, \"Displacement\": 360.0, \"Horsepower\": 175.0, \"Miles_per_Gallon\": null, \"Name\": \"amc rebel sst (sw)\", \"Origin\": \"USA\", \"Weight_in_lbs\": 3850, \"Year\": \"1970-01-01T00:00:00\"}, {\"Acceleration\": 10.0, \"Cylinders\": 8, \"Displacement\": 383.0, \"Horsepower\": 170.0, \"Miles_per_Gallon\": 15.0, \"Name\": \"dodge challenger se\", \"Origin\": \"USA\", \"Weight_in_lbs\": 3563, \"Year\": \"1970-01-01T00:00:00\"}, {\"Acceleration\": 8.0, \"Cylinders\": 8, \"Displacement\": 340.0, \"Horsepower\": 160.0, \"Miles_per_Gallon\": 14.0, \"Name\": \"plymouth 'cuda 340\", \"Origin\": \"USA\", \"Weight_in_lbs\": 3609, \"Year\": \"1970-01-01T00:00:00\"}, {\"Acceleration\": 8.0, \"Cylinders\": 8, \"Displacement\": 302.0, \"Horsepower\": 140.0, \"Miles_per_Gallon\": null, \"Name\": \"ford mustang boss 302\", \"Origin\": \"USA\", \"Weight_in_lbs\": 3353, \"Year\": \"1970-01-01T00:00:00\"}, {\"Acceleration\": 9.5, \"Cylinders\": 8, \"Displacement\": 400.0, \"Horsepower\": 150.0, \"Miles_per_Gallon\": 15.0, \"Name\": \"chevrolet monte carlo\", \"Origin\": \"USA\", \"Weight_in_lbs\": 3761, \"Year\": \"1970-01-01T00:00:00\"}, {\"Acceleration\": 10.0, \"Cylinders\": 8, \"Displacement\": 455.0, \"Horsepower\": 225.0, \"Miles_per_Gallon\": 14.0, \"Name\": \"buick estate wagon (sw)\", \"Origin\": \"USA\", \"Weight_in_lbs\": 3086, \"Year\": \"1970-01-01T00:00:00\"}, {\"Acceleration\": 15.0, \"Cylinders\": 4, \"Displacement\": 113.0, \"Horsepower\": 95.0, \"Miles_per_Gallon\": 24.0, \"Name\": \"toyota corona mark ii\", \"Origin\": \"Japan\", \"Weight_in_lbs\": 2372, \"Year\": \"1970-01-01T00:00:00\"}, {\"Acceleration\": 15.5, \"Cylinders\": 6, \"Displacement\": 198.0, \"Horsepower\": 95.0, \"Miles_per_Gallon\": 22.0, \"Name\": \"plymouth duster\", \"Origin\": \"USA\", \"Weight_in_lbs\": 2833, \"Year\": \"1970-01-01T00:00:00\"}, {\"Acceleration\": 15.5, \"Cylinders\": 6, \"Displacement\": 199.0, \"Horsepower\": 97.0, \"Miles_per_Gallon\": 18.0, \"Name\": \"amc hornet\", \"Origin\": \"USA\", \"Weight_in_lbs\": 2774, \"Year\": \"1970-01-01T00:00:00\"}, {\"Acceleration\": 16.0, \"Cylinders\": 6, \"Displacement\": 200.0, \"Horsepower\": 85.0, \"Miles_per_Gallon\": 21.0, \"Name\": \"ford maverick\", \"Origin\": \"USA\", \"Weight_in_lbs\": 2587, \"Year\": \"1970-01-01T00:00:00\"}, {\"Acceleration\": 14.5, \"Cylinders\": 4, \"Displacement\": 97.0, \"Horsepower\": 88.0, \"Miles_per_Gallon\": 27.0, \"Name\": \"datsun pl510\", \"Origin\": \"Japan\", \"Weight_in_lbs\": 2130, \"Year\": \"1970-01-01T00:00:00\"}, {\"Acceleration\": 20.5, \"Cylinders\": 4, \"Displacement\": 97.0, \"Horsepower\": 46.0, \"Miles_per_Gallon\": 26.0, \"Name\": \"volkswagen 1131 deluxe sedan\", \"Origin\": \"Europe\", \"Weight_in_lbs\": 1835, \"Year\": \"1970-01-01T00:00:00\"}, {\"Acceleration\": 17.5, \"Cylinders\": 4, \"Displacement\": 110.0, \"Horsepower\": 87.0, \"Miles_per_Gallon\": 25.0, \"Name\": \"peugeot 504\", \"Origin\": \"Europe\", \"Weight_in_lbs\": 2672, \"Year\": \"1970-01-01T00:00:00\"}, {\"Acceleration\": 14.5, \"Cylinders\": 4, \"Displacement\": 107.0, \"Horsepower\": 90.0, \"Miles_per_Gallon\": 24.0, \"Name\": \"audi 100 ls\", \"Origin\": \"Europe\", \"Weight_in_lbs\": 2430, \"Year\": \"1970-01-01T00:00:00\"}, {\"Acceleration\": 17.5, \"Cylinders\": 4, \"Displacement\": 104.0, \"Horsepower\": 95.0, \"Miles_per_Gallon\": 25.0, \"Name\": \"saab 99e\", \"Origin\": \"Europe\", \"Weight_in_lbs\": 2375, \"Year\": \"1970-01-01T00:00:00\"}, {\"Acceleration\": 12.5, \"Cylinders\": 4, \"Displacement\": 121.0, \"Horsepower\": 113.0, \"Miles_per_Gallon\": 26.0, \"Name\": \"bmw 2002\", \"Origin\": \"Europe\", \"Weight_in_lbs\": 2234, \"Year\": \"1970-01-01T00:00:00\"}, {\"Acceleration\": 15.0, \"Cylinders\": 6, \"Displacement\": 199.0, \"Horsepower\": 90.0, \"Miles_per_Gallon\": 21.0, \"Name\": \"amc gremlin\", \"Origin\": \"USA\", \"Weight_in_lbs\": 2648, \"Year\": \"1970-01-01T00:00:00\"}, {\"Acceleration\": 14.0, \"Cylinders\": 8, \"Displacement\": 360.0, \"Horsepower\": 215.0, \"Miles_per_Gallon\": 10.0, \"Name\": \"ford f250\", \"Origin\": \"USA\", \"Weight_in_lbs\": 4615, \"Year\": \"1970-01-01T00:00:00\"}, {\"Acceleration\": 15.0, \"Cylinders\": 8, \"Displacement\": 307.0, \"Horsepower\": 200.0, \"Miles_per_Gallon\": 10.0, \"Name\": \"chevy c20\", \"Origin\": \"USA\", \"Weight_in_lbs\": 4376, \"Year\": \"1970-01-01T00:00:00\"}, {\"Acceleration\": 13.5, \"Cylinders\": 8, \"Displacement\": 318.0, \"Horsepower\": 210.0, \"Miles_per_Gallon\": 11.0, \"Name\": \"dodge d200\", \"Origin\": \"USA\", \"Weight_in_lbs\": 4382, \"Year\": \"1970-01-01T00:00:00\"}, {\"Acceleration\": 18.5, \"Cylinders\": 8, \"Displacement\": 304.0, \"Horsepower\": 193.0, \"Miles_per_Gallon\": 9.0, \"Name\": \"hi 1200d\", \"Origin\": \"USA\", \"Weight_in_lbs\": 4732, \"Year\": \"1970-01-01T00:00:00\"}, {\"Acceleration\": 14.5, \"Cylinders\": 4, \"Displacement\": 97.0, \"Horsepower\": 88.0, \"Miles_per_Gallon\": 27.0, \"Name\": \"datsun pl510\", \"Origin\": \"Japan\", \"Weight_in_lbs\": 2130, \"Year\": \"1971-01-01T00:00:00\"}, {\"Acceleration\": 15.5, \"Cylinders\": 4, \"Displacement\": 140.0, \"Horsepower\": 90.0, \"Miles_per_Gallon\": 28.0, \"Name\": \"chevrolet vega 2300\", \"Origin\": \"USA\", \"Weight_in_lbs\": 2264, \"Year\": \"1971-01-01T00:00:00\"}, {\"Acceleration\": 14.0, \"Cylinders\": 4, \"Displacement\": 113.0, \"Horsepower\": 95.0, \"Miles_per_Gallon\": 25.0, \"Name\": \"toyota corona\", \"Origin\": \"Japan\", \"Weight_in_lbs\": 2228, \"Year\": \"1971-01-01T00:00:00\"}, {\"Acceleration\": 19.0, \"Cylinders\": 4, \"Displacement\": 98.0, \"Horsepower\": null, \"Miles_per_Gallon\": 25.0, \"Name\": \"ford pinto\", \"Origin\": \"USA\", \"Weight_in_lbs\": 2046, \"Year\": \"1971-01-01T00:00:00\"}, {\"Acceleration\": 20.0, \"Cylinders\": 4, \"Displacement\": 97.0, \"Horsepower\": 48.0, \"Miles_per_Gallon\": null, \"Name\": \"volkswagen super beetle 117\", \"Origin\": \"Europe\", \"Weight_in_lbs\": 1978, \"Year\": \"1971-01-01T00:00:00\"}, {\"Acceleration\": 13.0, \"Cylinders\": 6, \"Displacement\": 232.0, \"Horsepower\": 100.0, \"Miles_per_Gallon\": 19.0, \"Name\": \"amc gremlin\", \"Origin\": \"USA\", \"Weight_in_lbs\": 2634, \"Year\": \"1971-01-01T00:00:00\"}, {\"Acceleration\": 15.5, \"Cylinders\": 6, \"Displacement\": 225.0, \"Horsepower\": 105.0, \"Miles_per_Gallon\": 16.0, \"Name\": \"plymouth satellite custom\", \"Origin\": \"USA\", \"Weight_in_lbs\": 3439, \"Year\": \"1971-01-01T00:00:00\"}, {\"Acceleration\": 15.5, \"Cylinders\": 6, \"Displacement\": 250.0, \"Horsepower\": 100.0, \"Miles_per_Gallon\": 17.0, \"Name\": \"chevrolet chevelle malibu\", \"Origin\": \"USA\", \"Weight_in_lbs\": 3329, \"Year\": \"1971-01-01T00:00:00\"}, {\"Acceleration\": 15.5, \"Cylinders\": 6, \"Displacement\": 250.0, \"Horsepower\": 88.0, \"Miles_per_Gallon\": 19.0, \"Name\": \"ford torino 500\", \"Origin\": \"USA\", \"Weight_in_lbs\": 3302, \"Year\": \"1971-01-01T00:00:00\"}, {\"Acceleration\": 15.5, \"Cylinders\": 6, \"Displacement\": 232.0, \"Horsepower\": 100.0, \"Miles_per_Gallon\": 18.0, \"Name\": \"amc matador\", \"Origin\": \"USA\", \"Weight_in_lbs\": 3288, \"Year\": \"1971-01-01T00:00:00\"}, {\"Acceleration\": 12.0, \"Cylinders\": 8, \"Displacement\": 350.0, \"Horsepower\": 165.0, \"Miles_per_Gallon\": 14.0, \"Name\": \"chevrolet impala\", \"Origin\": \"USA\", \"Weight_in_lbs\": 4209, \"Year\": \"1971-01-01T00:00:00\"}, {\"Acceleration\": 11.5, \"Cylinders\": 8, \"Displacement\": 400.0, \"Horsepower\": 175.0, \"Miles_per_Gallon\": 14.0, \"Name\": \"pontiac catalina brougham\", \"Origin\": \"USA\", \"Weight_in_lbs\": 4464, \"Year\": \"1971-01-01T00:00:00\"}, {\"Acceleration\": 13.5, \"Cylinders\": 8, \"Displacement\": 351.0, \"Horsepower\": 153.0, \"Miles_per_Gallon\": 14.0, \"Name\": \"ford galaxie 500\", \"Origin\": \"USA\", \"Weight_in_lbs\": 4154, \"Year\": \"1971-01-01T00:00:00\"}, {\"Acceleration\": 13.0, \"Cylinders\": 8, \"Displacement\": 318.0, \"Horsepower\": 150.0, \"Miles_per_Gallon\": 14.0, \"Name\": \"plymouth fury iii\", \"Origin\": \"USA\", \"Weight_in_lbs\": 4096, \"Year\": \"1971-01-01T00:00:00\"}, {\"Acceleration\": 11.5, \"Cylinders\": 8, \"Displacement\": 383.0, \"Horsepower\": 180.0, \"Miles_per_Gallon\": 12.0, \"Name\": \"dodge monaco (sw)\", \"Origin\": \"USA\", \"Weight_in_lbs\": 4955, \"Year\": \"1971-01-01T00:00:00\"}, {\"Acceleration\": 12.0, \"Cylinders\": 8, \"Displacement\": 400.0, \"Horsepower\": 170.0, \"Miles_per_Gallon\": 13.0, \"Name\": \"ford country squire (sw)\", \"Origin\": \"USA\", \"Weight_in_lbs\": 4746, \"Year\": \"1971-01-01T00:00:00\"}, {\"Acceleration\": 12.0, \"Cylinders\": 8, \"Displacement\": 400.0, \"Horsepower\": 175.0, \"Miles_per_Gallon\": 13.0, \"Name\": \"pontiac safari (sw)\", \"Origin\": \"USA\", \"Weight_in_lbs\": 5140, \"Year\": \"1971-01-01T00:00:00\"}, {\"Acceleration\": 13.5, \"Cylinders\": 6, \"Displacement\": 258.0, \"Horsepower\": 110.0, \"Miles_per_Gallon\": 18.0, \"Name\": \"amc hornet sportabout (sw)\", \"Origin\": \"USA\", \"Weight_in_lbs\": 2962, \"Year\": \"1971-01-01T00:00:00\"}, {\"Acceleration\": 19.0, \"Cylinders\": 4, \"Displacement\": 140.0, \"Horsepower\": 72.0, \"Miles_per_Gallon\": 22.0, \"Name\": \"chevrolet vega (sw)\", \"Origin\": \"USA\", \"Weight_in_lbs\": 2408, \"Year\": \"1971-01-01T00:00:00\"}, {\"Acceleration\": 15.0, \"Cylinders\": 6, \"Displacement\": 250.0, \"Horsepower\": 100.0, \"Miles_per_Gallon\": 19.0, \"Name\": \"pontiac firebird\", \"Origin\": \"USA\", \"Weight_in_lbs\": 3282, \"Year\": \"1971-01-01T00:00:00\"}, {\"Acceleration\": 14.5, \"Cylinders\": 6, \"Displacement\": 250.0, \"Horsepower\": 88.0, \"Miles_per_Gallon\": 18.0, \"Name\": \"ford mustang\", \"Origin\": \"USA\", \"Weight_in_lbs\": 3139, \"Year\": \"1971-01-01T00:00:00\"}, {\"Acceleration\": 14.0, \"Cylinders\": 4, \"Displacement\": 122.0, \"Horsepower\": 86.0, \"Miles_per_Gallon\": 23.0, \"Name\": \"mercury capri 2000\", \"Origin\": \"USA\", \"Weight_in_lbs\": 2220, \"Year\": \"1971-01-01T00:00:00\"}, {\"Acceleration\": 14.0, \"Cylinders\": 4, \"Displacement\": 116.0, \"Horsepower\": 90.0, \"Miles_per_Gallon\": 28.0, \"Name\": \"opel 1900\", \"Origin\": \"Europe\", \"Weight_in_lbs\": 2123, \"Year\": \"1971-01-01T00:00:00\"}, {\"Acceleration\": 19.5, \"Cylinders\": 4, \"Displacement\": 79.0, \"Horsepower\": 70.0, \"Miles_per_Gallon\": 30.0, \"Name\": \"peugeot 304\", \"Origin\": \"Europe\", \"Weight_in_lbs\": 2074, \"Year\": \"1971-01-01T00:00:00\"}, {\"Acceleration\": 14.5, \"Cylinders\": 4, \"Displacement\": 88.0, \"Horsepower\": 76.0, \"Miles_per_Gallon\": 30.0, \"Name\": \"fiat 124b\", \"Origin\": \"Europe\", \"Weight_in_lbs\": 2065, \"Year\": \"1971-01-01T00:00:00\"}, {\"Acceleration\": 19.0, \"Cylinders\": 4, \"Displacement\": 71.0, \"Horsepower\": 65.0, \"Miles_per_Gallon\": 31.0, \"Name\": \"toyota corolla 1200\", \"Origin\": \"Japan\", \"Weight_in_lbs\": 1773, \"Year\": \"1971-01-01T00:00:00\"}, {\"Acceleration\": 18.0, \"Cylinders\": 4, \"Displacement\": 72.0, \"Horsepower\": 69.0, \"Miles_per_Gallon\": 35.0, \"Name\": \"datsun 1200\", \"Origin\": \"Japan\", \"Weight_in_lbs\": 1613, \"Year\": \"1971-01-01T00:00:00\"}, {\"Acceleration\": 19.0, \"Cylinders\": 4, \"Displacement\": 97.0, \"Horsepower\": 60.0, \"Miles_per_Gallon\": 27.0, \"Name\": \"volkswagen model 111\", \"Origin\": \"Europe\", \"Weight_in_lbs\": 1834, \"Year\": \"1971-01-01T00:00:00\"}, {\"Acceleration\": 20.5, \"Cylinders\": 4, \"Displacement\": 91.0, \"Horsepower\": 70.0, \"Miles_per_Gallon\": 26.0, \"Name\": \"plymouth cricket\", \"Origin\": \"USA\", \"Weight_in_lbs\": 1955, \"Year\": \"1971-01-01T00:00:00\"}, {\"Acceleration\": 15.5, \"Cylinders\": 4, \"Displacement\": 113.0, \"Horsepower\": 95.0, \"Miles_per_Gallon\": 24.0, \"Name\": \"toyota corona hardtop\", \"Origin\": \"Japan\", \"Weight_in_lbs\": 2278, \"Year\": \"1972-01-01T00:00:00\"}, {\"Acceleration\": 17.0, \"Cylinders\": 4, \"Displacement\": 97.5, \"Horsepower\": 80.0, \"Miles_per_Gallon\": 25.0, \"Name\": \"dodge colt hardtop\", \"Origin\": \"USA\", \"Weight_in_lbs\": 2126, \"Year\": \"1972-01-01T00:00:00\"}, {\"Acceleration\": 23.5, \"Cylinders\": 4, \"Displacement\": 97.0, \"Horsepower\": 54.0, \"Miles_per_Gallon\": 23.0, \"Name\": \"volkswagen type 3\", \"Origin\": \"Europe\", \"Weight_in_lbs\": 2254, \"Year\": \"1972-01-01T00:00:00\"}, {\"Acceleration\": 19.5, \"Cylinders\": 4, \"Displacement\": 140.0, \"Horsepower\": 90.0, \"Miles_per_Gallon\": 20.0, \"Name\": \"chevrolet vega\", \"Origin\": \"USA\", \"Weight_in_lbs\": 2408, \"Year\": \"1972-01-01T00:00:00\"}, {\"Acceleration\": 16.5, \"Cylinders\": 4, \"Displacement\": 122.0, \"Horsepower\": 86.0, \"Miles_per_Gallon\": 21.0, \"Name\": \"ford pinto runabout\", \"Origin\": \"USA\", \"Weight_in_lbs\": 2226, \"Year\": \"1972-01-01T00:00:00\"}, {\"Acceleration\": 12.0, \"Cylinders\": 8, \"Displacement\": 350.0, \"Horsepower\": 165.0, \"Miles_per_Gallon\": 13.0, \"Name\": \"chevrolet impala\", \"Origin\": \"USA\", \"Weight_in_lbs\": 4274, \"Year\": \"1972-01-01T00:00:00\"}, {\"Acceleration\": 12.0, \"Cylinders\": 8, \"Displacement\": 400.0, \"Horsepower\": 175.0, \"Miles_per_Gallon\": 14.0, \"Name\": \"pontiac catalina\", \"Origin\": \"USA\", \"Weight_in_lbs\": 4385, \"Year\": \"1972-01-01T00:00:00\"}, {\"Acceleration\": 13.5, \"Cylinders\": 8, \"Displacement\": 318.0, \"Horsepower\": 150.0, \"Miles_per_Gallon\": 15.0, \"Name\": \"plymouth fury iii\", \"Origin\": \"USA\", \"Weight_in_lbs\": 4135, \"Year\": \"1972-01-01T00:00:00\"}, {\"Acceleration\": 13.0, \"Cylinders\": 8, \"Displacement\": 351.0, \"Horsepower\": 153.0, \"Miles_per_Gallon\": 14.0, \"Name\": \"ford galaxie 500\", \"Origin\": \"USA\", \"Weight_in_lbs\": 4129, \"Year\": \"1972-01-01T00:00:00\"}, {\"Acceleration\": 11.5, \"Cylinders\": 8, \"Displacement\": 304.0, \"Horsepower\": 150.0, \"Miles_per_Gallon\": 17.0, \"Name\": \"amc ambassador sst\", \"Origin\": \"USA\", \"Weight_in_lbs\": 3672, \"Year\": \"1972-01-01T00:00:00\"}, {\"Acceleration\": 11.0, \"Cylinders\": 8, \"Displacement\": 429.0, \"Horsepower\": 208.0, \"Miles_per_Gallon\": 11.0, \"Name\": \"mercury marquis\", \"Origin\": \"USA\", \"Weight_in_lbs\": 4633, \"Year\": \"1972-01-01T00:00:00\"}, {\"Acceleration\": 13.5, \"Cylinders\": 8, \"Displacement\": 350.0, \"Horsepower\": 155.0, \"Miles_per_Gallon\": 13.0, \"Name\": \"buick lesabre custom\", \"Origin\": \"USA\", \"Weight_in_lbs\": 4502, \"Year\": \"1972-01-01T00:00:00\"}, {\"Acceleration\": 13.5, \"Cylinders\": 8, \"Displacement\": 350.0, \"Horsepower\": 160.0, \"Miles_per_Gallon\": 12.0, \"Name\": \"oldsmobile delta 88 royale\", \"Origin\": \"USA\", \"Weight_in_lbs\": 4456, \"Year\": \"1972-01-01T00:00:00\"}, {\"Acceleration\": 12.5, \"Cylinders\": 8, \"Displacement\": 400.0, \"Horsepower\": 190.0, \"Miles_per_Gallon\": 13.0, \"Name\": \"chrysler newport royal\", \"Origin\": \"USA\", \"Weight_in_lbs\": 4422, \"Year\": \"1972-01-01T00:00:00\"}, {\"Acceleration\": 13.5, \"Cylinders\": 3, \"Displacement\": 70.0, \"Horsepower\": 97.0, \"Miles_per_Gallon\": 19.0, \"Name\": \"mazda rx2 coupe\", \"Origin\": \"Japan\", \"Weight_in_lbs\": 2330, \"Year\": \"1972-01-01T00:00:00\"}, {\"Acceleration\": 12.5, \"Cylinders\": 8, \"Displacement\": 304.0, \"Horsepower\": 150.0, \"Miles_per_Gallon\": 15.0, \"Name\": \"amc matador (sw)\", \"Origin\": \"USA\", \"Weight_in_lbs\": 3892, \"Year\": \"1972-01-01T00:00:00\"}, {\"Acceleration\": 14.0, \"Cylinders\": 8, \"Displacement\": 307.0, \"Horsepower\": 130.0, \"Miles_per_Gallon\": 13.0, \"Name\": \"chevrolet chevelle concours (sw)\", \"Origin\": \"USA\", \"Weight_in_lbs\": 4098, \"Year\": \"1972-01-01T00:00:00\"}, {\"Acceleration\": 16.0, \"Cylinders\": 8, \"Displacement\": 302.0, \"Horsepower\": 140.0, \"Miles_per_Gallon\": 13.0, \"Name\": \"ford gran torino (sw)\", \"Origin\": \"USA\", \"Weight_in_lbs\": 4294, \"Year\": \"1972-01-01T00:00:00\"}, {\"Acceleration\": 14.0, \"Cylinders\": 8, \"Displacement\": 318.0, \"Horsepower\": 150.0, \"Miles_per_Gallon\": 14.0, \"Name\": \"plymouth satellite custom (sw)\", \"Origin\": \"USA\", \"Weight_in_lbs\": 4077, \"Year\": \"1972-01-01T00:00:00\"}, {\"Acceleration\": 14.5, \"Cylinders\": 4, \"Displacement\": 121.0, \"Horsepower\": 112.0, \"Miles_per_Gallon\": 18.0, \"Name\": \"volvo 145e (sw)\", \"Origin\": \"Europe\", \"Weight_in_lbs\": 2933, \"Year\": \"1972-01-01T00:00:00\"}, {\"Acceleration\": 18.0, \"Cylinders\": 4, \"Displacement\": 121.0, \"Horsepower\": 76.0, \"Miles_per_Gallon\": 22.0, \"Name\": \"volkswagen 411 (sw)\", \"Origin\": \"Europe\", \"Weight_in_lbs\": 2511, \"Year\": \"1972-01-01T00:00:00\"}, {\"Acceleration\": 19.5, \"Cylinders\": 4, \"Displacement\": 120.0, \"Horsepower\": 87.0, \"Miles_per_Gallon\": 21.0, \"Name\": \"peugeot 504 (sw)\", \"Origin\": \"Europe\", \"Weight_in_lbs\": 2979, \"Year\": \"1972-01-01T00:00:00\"}, {\"Acceleration\": 18.0, \"Cylinders\": 4, \"Displacement\": 96.0, \"Horsepower\": 69.0, \"Miles_per_Gallon\": 26.0, \"Name\": \"renault 12 (sw)\", \"Origin\": \"Europe\", \"Weight_in_lbs\": 2189, \"Year\": \"1972-01-01T00:00:00\"}, {\"Acceleration\": 16.0, \"Cylinders\": 4, \"Displacement\": 122.0, \"Horsepower\": 86.0, \"Miles_per_Gallon\": 22.0, \"Name\": \"ford pinto (sw)\", \"Origin\": \"USA\", \"Weight_in_lbs\": 2395, \"Year\": \"1972-01-01T00:00:00\"}, {\"Acceleration\": 17.0, \"Cylinders\": 4, \"Displacement\": 97.0, \"Horsepower\": 92.0, \"Miles_per_Gallon\": 28.0, \"Name\": \"datsun 510 (sw)\", \"Origin\": \"Japan\", \"Weight_in_lbs\": 2288, \"Year\": \"1972-01-01T00:00:00\"}, {\"Acceleration\": 14.5, \"Cylinders\": 4, \"Displacement\": 120.0, \"Horsepower\": 97.0, \"Miles_per_Gallon\": 23.0, \"Name\": \"toyouta corona mark ii (sw)\", \"Origin\": \"Japan\", \"Weight_in_lbs\": 2506, \"Year\": \"1972-01-01T00:00:00\"}, {\"Acceleration\": 15.0, \"Cylinders\": 4, \"Displacement\": 98.0, \"Horsepower\": 80.0, \"Miles_per_Gallon\": 28.0, \"Name\": \"dodge colt (sw)\", \"Origin\": \"USA\", \"Weight_in_lbs\": 2164, \"Year\": \"1972-01-01T00:00:00\"}, {\"Acceleration\": 16.5, \"Cylinders\": 4, \"Displacement\": 97.0, \"Horsepower\": 88.0, \"Miles_per_Gallon\": 27.0, \"Name\": \"toyota corolla 1600 (sw)\", \"Origin\": \"Japan\", \"Weight_in_lbs\": 2100, \"Year\": \"1972-01-01T00:00:00\"}, {\"Acceleration\": 13.0, \"Cylinders\": 8, \"Displacement\": 350.0, \"Horsepower\": 175.0, \"Miles_per_Gallon\": 13.0, \"Name\": \"buick century 350\", \"Origin\": \"USA\", \"Weight_in_lbs\": 4100, \"Year\": \"1973-01-01T00:00:00\"}, {\"Acceleration\": 11.5, \"Cylinders\": 8, \"Displacement\": 304.0, \"Horsepower\": 150.0, \"Miles_per_Gallon\": 14.0, \"Name\": \"amc matador\", \"Origin\": \"USA\", \"Weight_in_lbs\": 3672, \"Year\": \"1973-01-01T00:00:00\"}, {\"Acceleration\": 13.0, \"Cylinders\": 8, \"Displacement\": 350.0, \"Horsepower\": 145.0, \"Miles_per_Gallon\": 13.0, \"Name\": \"chevrolet malibu\", \"Origin\": \"USA\", \"Weight_in_lbs\": 3988, \"Year\": \"1973-01-01T00:00:00\"}, {\"Acceleration\": 14.5, \"Cylinders\": 8, \"Displacement\": 302.0, \"Horsepower\": 137.0, \"Miles_per_Gallon\": 14.0, \"Name\": \"ford gran torino\", \"Origin\": \"USA\", \"Weight_in_lbs\": 4042, \"Year\": \"1973-01-01T00:00:00\"}, {\"Acceleration\": 12.5, \"Cylinders\": 8, \"Displacement\": 318.0, \"Horsepower\": 150.0, \"Miles_per_Gallon\": 15.0, \"Name\": \"dodge coronet custom\", \"Origin\": \"USA\", \"Weight_in_lbs\": 3777, \"Year\": \"1973-01-01T00:00:00\"}, {\"Acceleration\": 11.5, \"Cylinders\": 8, \"Displacement\": 429.0, \"Horsepower\": 198.0, \"Miles_per_Gallon\": 12.0, \"Name\": \"mercury marquis brougham\", \"Origin\": \"USA\", \"Weight_in_lbs\": 4952, \"Year\": \"1973-01-01T00:00:00\"}, {\"Acceleration\": 12.0, \"Cylinders\": 8, \"Displacement\": 400.0, \"Horsepower\": 150.0, \"Miles_per_Gallon\": 13.0, \"Name\": \"chevrolet caprice classic\", \"Origin\": \"USA\", \"Weight_in_lbs\": 4464, \"Year\": \"1973-01-01T00:00:00\"}, {\"Acceleration\": 13.0, \"Cylinders\": 8, \"Displacement\": 351.0, \"Horsepower\": 158.0, \"Miles_per_Gallon\": 13.0, \"Name\": \"ford ltd\", \"Origin\": \"USA\", \"Weight_in_lbs\": 4363, \"Year\": \"1973-01-01T00:00:00\"}, {\"Acceleration\": 14.5, \"Cylinders\": 8, \"Displacement\": 318.0, \"Horsepower\": 150.0, \"Miles_per_Gallon\": 14.0, \"Name\": \"plymouth fury gran sedan\", \"Origin\": \"USA\", \"Weight_in_lbs\": 4237, \"Year\": \"1973-01-01T00:00:00\"}, {\"Acceleration\": 11.0, \"Cylinders\": 8, \"Displacement\": 440.0, \"Horsepower\": 215.0, \"Miles_per_Gallon\": 13.0, \"Name\": \"chrysler new yorker brougham\", \"Origin\": \"USA\", \"Weight_in_lbs\": 4735, \"Year\": \"1973-01-01T00:00:00\"}, {\"Acceleration\": 11.0, \"Cylinders\": 8, \"Displacement\": 455.0, \"Horsepower\": 225.0, \"Miles_per_Gallon\": 12.0, \"Name\": \"buick electra 225 custom\", \"Origin\": \"USA\", \"Weight_in_lbs\": 4951, \"Year\": \"1973-01-01T00:00:00\"}, {\"Acceleration\": 11.0, \"Cylinders\": 8, \"Displacement\": 360.0, \"Horsepower\": 175.0, \"Miles_per_Gallon\": 13.0, \"Name\": \"amc ambassador brougham\", \"Origin\": \"USA\", \"Weight_in_lbs\": 3821, \"Year\": \"1973-01-01T00:00:00\"}, {\"Acceleration\": 16.5, \"Cylinders\": 6, \"Displacement\": 225.0, \"Horsepower\": 105.0, \"Miles_per_Gallon\": 18.0, \"Name\": \"plymouth valiant\", \"Origin\": \"USA\", \"Weight_in_lbs\": 3121, \"Year\": \"1973-01-01T00:00:00\"}, {\"Acceleration\": 18.0, \"Cylinders\": 6, \"Displacement\": 250.0, \"Horsepower\": 100.0, \"Miles_per_Gallon\": 16.0, \"Name\": \"chevrolet nova custom\", \"Origin\": \"USA\", \"Weight_in_lbs\": 3278, \"Year\": \"1973-01-01T00:00:00\"}, {\"Acceleration\": 16.0, \"Cylinders\": 6, \"Displacement\": 232.0, \"Horsepower\": 100.0, \"Miles_per_Gallon\": 18.0, \"Name\": \"amc hornet\", \"Origin\": \"USA\", \"Weight_in_lbs\": 2945, \"Year\": \"1973-01-01T00:00:00\"}, {\"Acceleration\": 16.5, \"Cylinders\": 6, \"Displacement\": 250.0, \"Horsepower\": 88.0, \"Miles_per_Gallon\": 18.0, \"Name\": \"ford maverick\", \"Origin\": \"USA\", \"Weight_in_lbs\": 3021, \"Year\": \"1973-01-01T00:00:00\"}, {\"Acceleration\": 16.0, \"Cylinders\": 6, \"Displacement\": 198.0, \"Horsepower\": 95.0, \"Miles_per_Gallon\": 23.0, \"Name\": \"plymouth duster\", \"Origin\": \"USA\", \"Weight_in_lbs\": 2904, \"Year\": \"1973-01-01T00:00:00\"}, {\"Acceleration\": 21.0, \"Cylinders\": 4, \"Displacement\": 97.0, \"Horsepower\": 46.0, \"Miles_per_Gallon\": 26.0, \"Name\": \"volkswagen super beetle\", \"Origin\": \"Europe\", \"Weight_in_lbs\": 1950, \"Year\": \"1973-01-01T00:00:00\"}, {\"Acceleration\": 14.0, \"Cylinders\": 8, \"Displacement\": 400.0, \"Horsepower\": 150.0, \"Miles_per_Gallon\": 11.0, \"Name\": \"chevrolet impala\", \"Origin\": \"USA\", \"Weight_in_lbs\": 4997, \"Year\": \"1973-01-01T00:00:00\"}, {\"Acceleration\": 12.5, \"Cylinders\": 8, \"Displacement\": 400.0, \"Horsepower\": 167.0, \"Miles_per_Gallon\": 12.0, \"Name\": \"ford country\", \"Origin\": \"USA\", \"Weight_in_lbs\": 4906, \"Year\": \"1973-01-01T00:00:00\"}, {\"Acceleration\": 13.0, \"Cylinders\": 8, \"Displacement\": 360.0, \"Horsepower\": 170.0, \"Miles_per_Gallon\": 13.0, \"Name\": \"plymouth custom suburb\", \"Origin\": \"USA\", \"Weight_in_lbs\": 4654, \"Year\": \"1973-01-01T00:00:00\"}, {\"Acceleration\": 12.5, \"Cylinders\": 8, \"Displacement\": 350.0, \"Horsepower\": 180.0, \"Miles_per_Gallon\": 12.0, \"Name\": \"oldsmobile vista cruiser\", \"Origin\": \"USA\", \"Weight_in_lbs\": 4499, \"Year\": \"1973-01-01T00:00:00\"}, {\"Acceleration\": 15.0, \"Cylinders\": 6, \"Displacement\": 232.0, \"Horsepower\": 100.0, \"Miles_per_Gallon\": 18.0, \"Name\": \"amc gremlin\", \"Origin\": \"USA\", \"Weight_in_lbs\": 2789, \"Year\": \"1973-01-01T00:00:00\"}, {\"Acceleration\": 19.0, \"Cylinders\": 4, \"Displacement\": 97.0, \"Horsepower\": 88.0, \"Miles_per_Gallon\": 20.0, \"Name\": \"toyota carina\", \"Origin\": \"Japan\", \"Weight_in_lbs\": 2279, \"Year\": \"1973-01-01T00:00:00\"}, {\"Acceleration\": 19.5, \"Cylinders\": 4, \"Displacement\": 140.0, \"Horsepower\": 72.0, \"Miles_per_Gallon\": 21.0, \"Name\": \"chevrolet vega\", \"Origin\": \"USA\", \"Weight_in_lbs\": 2401, \"Year\": \"1973-01-01T00:00:00\"}, {\"Acceleration\": 16.5, \"Cylinders\": 4, \"Displacement\": 108.0, \"Horsepower\": 94.0, \"Miles_per_Gallon\": 22.0, \"Name\": \"datsun 610\", \"Origin\": \"Japan\", \"Weight_in_lbs\": 2379, \"Year\": \"1973-01-01T00:00:00\"}, {\"Acceleration\": 13.5, \"Cylinders\": 3, \"Displacement\": 70.0, \"Horsepower\": 90.0, \"Miles_per_Gallon\": 18.0, \"Name\": \"maxda rx3\", \"Origin\": \"Japan\", \"Weight_in_lbs\": 2124, \"Year\": \"1973-01-01T00:00:00\"}, {\"Acceleration\": 18.5, \"Cylinders\": 4, \"Displacement\": 122.0, \"Horsepower\": 85.0, \"Miles_per_Gallon\": 19.0, \"Name\": \"ford pinto\", \"Origin\": \"USA\", \"Weight_in_lbs\": 2310, \"Year\": \"1973-01-01T00:00:00\"}, {\"Acceleration\": 14.0, \"Cylinders\": 6, \"Displacement\": 155.0, \"Horsepower\": 107.0, \"Miles_per_Gallon\": 21.0, \"Name\": \"mercury capri v6\", \"Origin\": \"USA\", \"Weight_in_lbs\": 2472, \"Year\": \"1973-01-01T00:00:00\"}, {\"Acceleration\": 15.5, \"Cylinders\": 4, \"Displacement\": 98.0, \"Horsepower\": 90.0, \"Miles_per_Gallon\": 26.0, \"Name\": \"fiat 124 sport coupe\", \"Origin\": \"Europe\", \"Weight_in_lbs\": 2265, \"Year\": \"1973-01-01T00:00:00\"}, {\"Acceleration\": 13.0, \"Cylinders\": 8, \"Displacement\": 350.0, \"Horsepower\": 145.0, \"Miles_per_Gallon\": 15.0, \"Name\": \"chevrolet monte carlo s\", \"Origin\": \"USA\", \"Weight_in_lbs\": 4082, \"Year\": \"1973-01-01T00:00:00\"}, {\"Acceleration\": 9.5, \"Cylinders\": 8, \"Displacement\": 400.0, \"Horsepower\": 230.0, \"Miles_per_Gallon\": 16.0, \"Name\": \"pontiac grand prix\", \"Origin\": \"USA\", \"Weight_in_lbs\": 4278, \"Year\": \"1973-01-01T00:00:00\"}, {\"Acceleration\": 19.5, \"Cylinders\": 4, \"Displacement\": 68.0, \"Horsepower\": 49.0, \"Miles_per_Gallon\": 29.0, \"Name\": \"fiat 128\", \"Origin\": \"Europe\", \"Weight_in_lbs\": 1867, \"Year\": \"1973-01-01T00:00:00\"}, {\"Acceleration\": 15.5, \"Cylinders\": 4, \"Displacement\": 116.0, \"Horsepower\": 75.0, \"Miles_per_Gallon\": 24.0, \"Name\": \"opel manta\", \"Origin\": \"Europe\", \"Weight_in_lbs\": 2158, \"Year\": \"1973-01-01T00:00:00\"}, {\"Acceleration\": 14.0, \"Cylinders\": 4, \"Displacement\": 114.0, \"Horsepower\": 91.0, \"Miles_per_Gallon\": 20.0, \"Name\": \"audi 100ls\", \"Origin\": \"Europe\", \"Weight_in_lbs\": 2582, \"Year\": \"1973-01-01T00:00:00\"}, {\"Acceleration\": 15.5, \"Cylinders\": 4, \"Displacement\": 121.0, \"Horsepower\": 112.0, \"Miles_per_Gallon\": 19.0, \"Name\": \"volvo 144ea\", \"Origin\": \"Europe\", \"Weight_in_lbs\": 2868, \"Year\": \"1973-01-01T00:00:00\"}, {\"Acceleration\": 11.0, \"Cylinders\": 8, \"Displacement\": 318.0, \"Horsepower\": 150.0, \"Miles_per_Gallon\": 15.0, \"Name\": \"dodge dart custom\", \"Origin\": \"USA\", \"Weight_in_lbs\": 3399, \"Year\": \"1973-01-01T00:00:00\"}, {\"Acceleration\": 14.0, \"Cylinders\": 4, \"Displacement\": 121.0, \"Horsepower\": 110.0, \"Miles_per_Gallon\": 24.0, \"Name\": \"saab 99le\", \"Origin\": \"Europe\", \"Weight_in_lbs\": 2660, \"Year\": \"1973-01-01T00:00:00\"}, {\"Acceleration\": 13.5, \"Cylinders\": 6, \"Displacement\": 156.0, \"Horsepower\": 122.0, \"Miles_per_Gallon\": 20.0, \"Name\": \"toyota mark ii\", \"Origin\": \"Japan\", \"Weight_in_lbs\": 2807, \"Year\": \"1973-01-01T00:00:00\"}, {\"Acceleration\": 11.0, \"Cylinders\": 8, \"Displacement\": 350.0, \"Horsepower\": 180.0, \"Miles_per_Gallon\": 11.0, \"Name\": \"oldsmobile omega\", \"Origin\": \"USA\", \"Weight_in_lbs\": 3664, \"Year\": \"1973-01-01T00:00:00\"}, {\"Acceleration\": 16.5, \"Cylinders\": 6, \"Displacement\": 198.0, \"Horsepower\": 95.0, \"Miles_per_Gallon\": 20.0, \"Name\": \"plymouth duster\", \"Origin\": \"USA\", \"Weight_in_lbs\": 3102, \"Year\": \"1974-01-01T00:00:00\"}, {\"Acceleration\": 17.0, \"Cylinders\": 6, \"Displacement\": 200.0, \"Horsepower\": null, \"Miles_per_Gallon\": 21.0, \"Name\": \"ford maverick\", \"Origin\": \"USA\", \"Weight_in_lbs\": 2875, \"Year\": \"1974-01-01T00:00:00\"}, {\"Acceleration\": 16.0, \"Cylinders\": 6, \"Displacement\": 232.0, \"Horsepower\": 100.0, \"Miles_per_Gallon\": 19.0, \"Name\": \"amc hornet\", \"Origin\": \"USA\", \"Weight_in_lbs\": 2901, \"Year\": \"1974-01-01T00:00:00\"}, {\"Acceleration\": 17.0, \"Cylinders\": 6, \"Displacement\": 250.0, \"Horsepower\": 100.0, \"Miles_per_Gallon\": 15.0, \"Name\": \"chevrolet nova\", \"Origin\": \"USA\", \"Weight_in_lbs\": 3336, \"Year\": \"1974-01-01T00:00:00\"}, {\"Acceleration\": 19.0, \"Cylinders\": 4, \"Displacement\": 79.0, \"Horsepower\": 67.0, \"Miles_per_Gallon\": 31.0, \"Name\": \"datsun b210\", \"Origin\": \"Japan\", \"Weight_in_lbs\": 1950, \"Year\": \"1974-01-01T00:00:00\"}, {\"Acceleration\": 16.5, \"Cylinders\": 4, \"Displacement\": 122.0, \"Horsepower\": 80.0, \"Miles_per_Gallon\": 26.0, \"Name\": \"ford pinto\", \"Origin\": \"USA\", \"Weight_in_lbs\": 2451, \"Year\": \"1974-01-01T00:00:00\"}, {\"Acceleration\": 21.0, \"Cylinders\": 4, \"Displacement\": 71.0, \"Horsepower\": 65.0, \"Miles_per_Gallon\": 32.0, \"Name\": \"toyota corolla 1200\", \"Origin\": \"Japan\", \"Weight_in_lbs\": 1836, \"Year\": \"1974-01-01T00:00:00\"}, {\"Acceleration\": 17.0, \"Cylinders\": 4, \"Displacement\": 140.0, \"Horsepower\": 75.0, \"Miles_per_Gallon\": 25.0, \"Name\": \"chevrolet vega\", \"Origin\": \"USA\", \"Weight_in_lbs\": 2542, \"Year\": \"1974-01-01T00:00:00\"}, {\"Acceleration\": 17.0, \"Cylinders\": 6, \"Displacement\": 250.0, \"Horsepower\": 100.0, \"Miles_per_Gallon\": 16.0, \"Name\": \"chevrolet chevelle malibu classic\", \"Origin\": \"USA\", \"Weight_in_lbs\": 3781, \"Year\": \"1974-01-01T00:00:00\"}, {\"Acceleration\": 18.0, \"Cylinders\": 6, \"Displacement\": 258.0, \"Horsepower\": 110.0, \"Miles_per_Gallon\": 16.0, \"Name\": \"amc matador\", \"Origin\": \"USA\", \"Weight_in_lbs\": 3632, \"Year\": \"1974-01-01T00:00:00\"}, {\"Acceleration\": 16.5, \"Cylinders\": 6, \"Displacement\": 225.0, \"Horsepower\": 105.0, \"Miles_per_Gallon\": 18.0, \"Name\": \"plymouth satellite sebring\", \"Origin\": \"USA\", \"Weight_in_lbs\": 3613, \"Year\": \"1974-01-01T00:00:00\"}, {\"Acceleration\": 14.0, \"Cylinders\": 8, \"Displacement\": 302.0, \"Horsepower\": 140.0, \"Miles_per_Gallon\": 16.0, \"Name\": \"ford gran torino\", \"Origin\": \"USA\", \"Weight_in_lbs\": 4141, \"Year\": \"1974-01-01T00:00:00\"}, {\"Acceleration\": 14.5, \"Cylinders\": 8, \"Displacement\": 350.0, \"Horsepower\": 150.0, \"Miles_per_Gallon\": 13.0, \"Name\": \"buick century luxus (sw)\", \"Origin\": \"USA\", \"Weight_in_lbs\": 4699, \"Year\": \"1974-01-01T00:00:00\"}, {\"Acceleration\": 13.5, \"Cylinders\": 8, \"Displacement\": 318.0, \"Horsepower\": 150.0, \"Miles_per_Gallon\": 14.0, \"Name\": \"dodge coronet custom (sw)\", \"Origin\": \"USA\", \"Weight_in_lbs\": 4457, \"Year\": \"1974-01-01T00:00:00\"}, {\"Acceleration\": 16.0, \"Cylinders\": 8, \"Displacement\": 302.0, \"Horsepower\": 140.0, \"Miles_per_Gallon\": 14.0, \"Name\": \"ford gran torino (sw)\", \"Origin\": \"USA\", \"Weight_in_lbs\": 4638, \"Year\": \"1974-01-01T00:00:00\"}, {\"Acceleration\": 15.5, \"Cylinders\": 8, \"Displacement\": 304.0, \"Horsepower\": 150.0, \"Miles_per_Gallon\": 14.0, \"Name\": \"amc matador (sw)\", \"Origin\": \"USA\", \"Weight_in_lbs\": 4257, \"Year\": \"1974-01-01T00:00:00\"}, {\"Acceleration\": 16.5, \"Cylinders\": 4, \"Displacement\": 98.0, \"Horsepower\": 83.0, \"Miles_per_Gallon\": 29.0, \"Name\": \"audi fox\", \"Origin\": \"Europe\", \"Weight_in_lbs\": 2219, \"Year\": \"1974-01-01T00:00:00\"}, {\"Acceleration\": 15.5, \"Cylinders\": 4, \"Displacement\": 79.0, \"Horsepower\": 67.0, \"Miles_per_Gallon\": 26.0, \"Name\": \"volkswagen dasher\", \"Origin\": \"Europe\", \"Weight_in_lbs\": 1963, \"Year\": \"1974-01-01T00:00:00\"}, {\"Acceleration\": 14.5, \"Cylinders\": 4, \"Displacement\": 97.0, \"Horsepower\": 78.0, \"Miles_per_Gallon\": 26.0, \"Name\": \"opel manta\", \"Origin\": \"Europe\", \"Weight_in_lbs\": 2300, \"Year\": \"1974-01-01T00:00:00\"}, {\"Acceleration\": 16.5, \"Cylinders\": 4, \"Displacement\": 76.0, \"Horsepower\": 52.0, \"Miles_per_Gallon\": 31.0, \"Name\": \"toyota corona\", \"Origin\": \"Japan\", \"Weight_in_lbs\": 1649, \"Year\": \"1974-01-01T00:00:00\"}, {\"Acceleration\": 19.0, \"Cylinders\": 4, \"Displacement\": 83.0, \"Horsepower\": 61.0, \"Miles_per_Gallon\": 32.0, \"Name\": \"datsun 710\", \"Origin\": \"Japan\", \"Weight_in_lbs\": 2003, \"Year\": \"1974-01-01T00:00:00\"}, {\"Acceleration\": 14.5, \"Cylinders\": 4, \"Displacement\": 90.0, \"Horsepower\": 75.0, \"Miles_per_Gallon\": 28.0, \"Name\": \"dodge colt\", \"Origin\": \"USA\", \"Weight_in_lbs\": 2125, \"Year\": \"1974-01-01T00:00:00\"}, {\"Acceleration\": 15.5, \"Cylinders\": 4, \"Displacement\": 90.0, \"Horsepower\": 75.0, \"Miles_per_Gallon\": 24.0, \"Name\": \"fiat 128\", \"Origin\": \"Europe\", \"Weight_in_lbs\": 2108, \"Year\": \"1974-01-01T00:00:00\"}, {\"Acceleration\": 14.0, \"Cylinders\": 4, \"Displacement\": 116.0, \"Horsepower\": 75.0, \"Miles_per_Gallon\": 26.0, \"Name\": \"fiat 124 tc\", \"Origin\": \"Europe\", \"Weight_in_lbs\": 2246, \"Year\": \"1974-01-01T00:00:00\"}, {\"Acceleration\": 15.0, \"Cylinders\": 4, \"Displacement\": 120.0, \"Horsepower\": 97.0, \"Miles_per_Gallon\": 24.0, \"Name\": \"honda civic\", \"Origin\": \"Japan\", \"Weight_in_lbs\": 2489, \"Year\": \"1974-01-01T00:00:00\"}, {\"Acceleration\": 15.5, \"Cylinders\": 4, \"Displacement\": 108.0, \"Horsepower\": 93.0, \"Miles_per_Gallon\": 26.0, \"Name\": \"subaru\", \"Origin\": \"Japan\", \"Weight_in_lbs\": 2391, \"Year\": \"1974-01-01T00:00:00\"}, {\"Acceleration\": 16.0, \"Cylinders\": 4, \"Displacement\": 79.0, \"Horsepower\": 67.0, \"Miles_per_Gallon\": 31.0, \"Name\": \"fiat x1.9\", \"Origin\": \"Europe\", \"Weight_in_lbs\": 2000, \"Year\": \"1974-01-01T00:00:00\"}, {\"Acceleration\": 16.0, \"Cylinders\": 6, \"Displacement\": 225.0, \"Horsepower\": 95.0, \"Miles_per_Gallon\": 19.0, \"Name\": \"plymouth valiant custom\", \"Origin\": \"USA\", \"Weight_in_lbs\": 3264, \"Year\": \"1975-01-01T00:00:00\"}, {\"Acceleration\": 16.0, \"Cylinders\": 6, \"Displacement\": 250.0, \"Horsepower\": 105.0, \"Miles_per_Gallon\": 18.0, \"Name\": \"chevrolet nova\", \"Origin\": \"USA\", \"Weight_in_lbs\": 3459, \"Year\": \"1975-01-01T00:00:00\"}, {\"Acceleration\": 21.0, \"Cylinders\": 6, \"Displacement\": 250.0, \"Horsepower\": 72.0, \"Miles_per_Gallon\": 15.0, \"Name\": \"mercury monarch\", \"Origin\": \"USA\", \"Weight_in_lbs\": 3432, \"Year\": \"1975-01-01T00:00:00\"}, {\"Acceleration\": 19.5, \"Cylinders\": 6, \"Displacement\": 250.0, \"Horsepower\": 72.0, \"Miles_per_Gallon\": 15.0, \"Name\": \"ford maverick\", \"Origin\": \"USA\", \"Weight_in_lbs\": 3158, \"Year\": \"1975-01-01T00:00:00\"}, {\"Acceleration\": 11.5, \"Cylinders\": 8, \"Displacement\": 400.0, \"Horsepower\": 170.0, \"Miles_per_Gallon\": 16.0, \"Name\": \"pontiac catalina\", \"Origin\": \"USA\", \"Weight_in_lbs\": 4668, \"Year\": \"1975-01-01T00:00:00\"}, {\"Acceleration\": 14.0, \"Cylinders\": 8, \"Displacement\": 350.0, \"Horsepower\": 145.0, \"Miles_per_Gallon\": 15.0, \"Name\": \"chevrolet bel air\", \"Origin\": \"USA\", \"Weight_in_lbs\": 4440, \"Year\": \"1975-01-01T00:00:00\"}, {\"Acceleration\": 14.5, \"Cylinders\": 8, \"Displacement\": 318.0, \"Horsepower\": 150.0, \"Miles_per_Gallon\": 16.0, \"Name\": \"plymouth grand fury\", \"Origin\": \"USA\", \"Weight_in_lbs\": 4498, \"Year\": \"1975-01-01T00:00:00\"}, {\"Acceleration\": 13.5, \"Cylinders\": 8, \"Displacement\": 351.0, \"Horsepower\": 148.0, \"Miles_per_Gallon\": 14.0, \"Name\": \"ford ltd\", \"Origin\": \"USA\", \"Weight_in_lbs\": 4657, \"Year\": \"1975-01-01T00:00:00\"}, {\"Acceleration\": 21.0, \"Cylinders\": 6, \"Displacement\": 231.0, \"Horsepower\": 110.0, \"Miles_per_Gallon\": 17.0, \"Name\": \"buick century\", \"Origin\": \"USA\", \"Weight_in_lbs\": 3907, \"Year\": \"1975-01-01T00:00:00\"}, {\"Acceleration\": 18.5, \"Cylinders\": 6, \"Displacement\": 250.0, \"Horsepower\": 105.0, \"Miles_per_Gallon\": 16.0, \"Name\": \"chevroelt chevelle malibu\", \"Origin\": \"USA\", \"Weight_in_lbs\": 3897, \"Year\": \"1975-01-01T00:00:00\"}, {\"Acceleration\": 19.0, \"Cylinders\": 6, \"Displacement\": 258.0, \"Horsepower\": 110.0, \"Miles_per_Gallon\": 15.0, \"Name\": \"amc matador\", \"Origin\": \"USA\", \"Weight_in_lbs\": 3730, \"Year\": \"1975-01-01T00:00:00\"}, {\"Acceleration\": 19.0, \"Cylinders\": 6, \"Displacement\": 225.0, \"Horsepower\": 95.0, \"Miles_per_Gallon\": 18.0, \"Name\": \"plymouth fury\", \"Origin\": \"USA\", \"Weight_in_lbs\": 3785, \"Year\": \"1975-01-01T00:00:00\"}, {\"Acceleration\": 15.0, \"Cylinders\": 6, \"Displacement\": 231.0, \"Horsepower\": 110.0, \"Miles_per_Gallon\": 21.0, \"Name\": \"buick skyhawk\", \"Origin\": \"USA\", \"Weight_in_lbs\": 3039, \"Year\": \"1975-01-01T00:00:00\"}, {\"Acceleration\": 13.5, \"Cylinders\": 8, \"Displacement\": 262.0, \"Horsepower\": 110.0, \"Miles_per_Gallon\": 20.0, \"Name\": \"chevrolet monza 2+2\", \"Origin\": \"USA\", \"Weight_in_lbs\": 3221, \"Year\": \"1975-01-01T00:00:00\"}, {\"Acceleration\": 12.0, \"Cylinders\": 8, \"Displacement\": 302.0, \"Horsepower\": 129.0, \"Miles_per_Gallon\": 13.0, \"Name\": \"ford mustang ii\", \"Origin\": \"USA\", \"Weight_in_lbs\": 3169, \"Year\": \"1975-01-01T00:00:00\"}, {\"Acceleration\": 16.0, \"Cylinders\": 4, \"Displacement\": 97.0, \"Horsepower\": 75.0, \"Miles_per_Gallon\": 29.0, \"Name\": \"toyota corolla\", \"Origin\": \"Japan\", \"Weight_in_lbs\": 2171, \"Year\": \"1975-01-01T00:00:00\"}, {\"Acceleration\": 17.0, \"Cylinders\": 4, \"Displacement\": 140.0, \"Horsepower\": 83.0, \"Miles_per_Gallon\": 23.0, \"Name\": \"ford pinto\", \"Origin\": \"USA\", \"Weight_in_lbs\": 2639, \"Year\": \"1975-01-01T00:00:00\"}, {\"Acceleration\": 16.0, \"Cylinders\": 6, \"Displacement\": 232.0, \"Horsepower\": 100.0, \"Miles_per_Gallon\": 20.0, \"Name\": \"amc gremlin\", \"Origin\": \"USA\", \"Weight_in_lbs\": 2914, \"Year\": \"1975-01-01T00:00:00\"}, {\"Acceleration\": 18.5, \"Cylinders\": 4, \"Displacement\": 140.0, \"Horsepower\": 78.0, \"Miles_per_Gallon\": 23.0, \"Name\": \"pontiac astro\", \"Origin\": \"USA\", \"Weight_in_lbs\": 2592, \"Year\": \"1975-01-01T00:00:00\"}, {\"Acceleration\": 13.5, \"Cylinders\": 4, \"Displacement\": 134.0, \"Horsepower\": 96.0, \"Miles_per_Gallon\": 24.0, \"Name\": \"toyota corona\", \"Origin\": \"Japan\", \"Weight_in_lbs\": 2702, \"Year\": \"1975-01-01T00:00:00\"}, {\"Acceleration\": 16.5, \"Cylinders\": 4, \"Displacement\": 90.0, \"Horsepower\": 71.0, \"Miles_per_Gallon\": 25.0, \"Name\": \"volkswagen dasher\", \"Origin\": \"Europe\", \"Weight_in_lbs\": 2223, \"Year\": \"1975-01-01T00:00:00\"}, {\"Acceleration\": 17.0, \"Cylinders\": 4, \"Displacement\": 119.0, \"Horsepower\": 97.0, \"Miles_per_Gallon\": 24.0, \"Name\": \"datsun 710\", \"Origin\": \"Japan\", \"Weight_in_lbs\": 2545, \"Year\": \"1975-01-01T00:00:00\"}, {\"Acceleration\": 14.5, \"Cylinders\": 6, \"Displacement\": 171.0, \"Horsepower\": 97.0, \"Miles_per_Gallon\": 18.0, \"Name\": \"ford pinto\", \"Origin\": \"USA\", \"Weight_in_lbs\": 2984, \"Year\": \"1975-01-01T00:00:00\"}, {\"Acceleration\": 14.0, \"Cylinders\": 4, \"Displacement\": 90.0, \"Horsepower\": 70.0, \"Miles_per_Gallon\": 29.0, \"Name\": \"volkswagen rabbit\", \"Origin\": \"Europe\", \"Weight_in_lbs\": 1937, \"Year\": \"1975-01-01T00:00:00\"}, {\"Acceleration\": 17.0, \"Cylinders\": 6, \"Displacement\": 232.0, \"Horsepower\": 90.0, \"Miles_per_Gallon\": 19.0, \"Name\": \"amc pacer\", \"Origin\": \"USA\", \"Weight_in_lbs\": 3211, \"Year\": \"1975-01-01T00:00:00\"}, {\"Acceleration\": 15.0, \"Cylinders\": 4, \"Displacement\": 115.0, \"Horsepower\": 95.0, \"Miles_per_Gallon\": 23.0, \"Name\": \"audi 100ls\", \"Origin\": \"Europe\", \"Weight_in_lbs\": 2694, \"Year\": \"1975-01-01T00:00:00\"}, {\"Acceleration\": 17.0, \"Cylinders\": 4, \"Displacement\": 120.0, \"Horsepower\": 88.0, \"Miles_per_Gallon\": 23.0, \"Name\": \"peugeot 504\", \"Origin\": \"Europe\", \"Weight_in_lbs\": 2957, \"Year\": \"1975-01-01T00:00:00\"}, {\"Acceleration\": 14.5, \"Cylinders\": 4, \"Displacement\": 121.0, \"Horsepower\": 98.0, \"Miles_per_Gallon\": 22.0, \"Name\": \"volvo 244dl\", \"Origin\": \"Europe\", \"Weight_in_lbs\": 2945, \"Year\": \"1975-01-01T00:00:00\"}, {\"Acceleration\": 13.5, \"Cylinders\": 4, \"Displacement\": 121.0, \"Horsepower\": 115.0, \"Miles_per_Gallon\": 25.0, \"Name\": \"saab 99le\", \"Origin\": \"Europe\", \"Weight_in_lbs\": 2671, \"Year\": \"1975-01-01T00:00:00\"}, {\"Acceleration\": 17.5, \"Cylinders\": 4, \"Displacement\": 91.0, \"Horsepower\": 53.0, \"Miles_per_Gallon\": 33.0, \"Name\": \"honda civic cvcc\", \"Origin\": \"Japan\", \"Weight_in_lbs\": 1795, \"Year\": \"1975-01-01T00:00:00\"}, {\"Acceleration\": 15.5, \"Cylinders\": 4, \"Displacement\": 107.0, \"Horsepower\": 86.0, \"Miles_per_Gallon\": 28.0, \"Name\": \"fiat 131\", \"Origin\": \"Europe\", \"Weight_in_lbs\": 2464, \"Year\": \"1976-01-01T00:00:00\"}, {\"Acceleration\": 16.9, \"Cylinders\": 4, \"Displacement\": 116.0, \"Horsepower\": 81.0, \"Miles_per_Gallon\": 25.0, \"Name\": \"opel 1900\", \"Origin\": \"Europe\", \"Weight_in_lbs\": 2220, \"Year\": \"1976-01-01T00:00:00\"}, {\"Acceleration\": 14.9, \"Cylinders\": 4, \"Displacement\": 140.0, \"Horsepower\": 92.0, \"Miles_per_Gallon\": 25.0, \"Name\": \"capri ii\", \"Origin\": \"USA\", \"Weight_in_lbs\": 2572, \"Year\": \"1976-01-01T00:00:00\"}, {\"Acceleration\": 17.7, \"Cylinders\": 4, \"Displacement\": 98.0, \"Horsepower\": 79.0, \"Miles_per_Gallon\": 26.0, \"Name\": \"dodge colt\", \"Origin\": \"USA\", \"Weight_in_lbs\": 2255, \"Year\": \"1976-01-01T00:00:00\"}, {\"Acceleration\": 15.3, \"Cylinders\": 4, \"Displacement\": 101.0, \"Horsepower\": 83.0, \"Miles_per_Gallon\": 27.0, \"Name\": \"renault 12tl\", \"Origin\": \"Europe\", \"Weight_in_lbs\": 2202, \"Year\": \"1976-01-01T00:00:00\"}, {\"Acceleration\": 13.0, \"Cylinders\": 8, \"Displacement\": 305.0, \"Horsepower\": 140.0, \"Miles_per_Gallon\": 17.5, \"Name\": \"chevrolet chevelle malibu classic\", \"Origin\": \"USA\", \"Weight_in_lbs\": 4215, \"Year\": \"1976-01-01T00:00:00\"}, {\"Acceleration\": 13.0, \"Cylinders\": 8, \"Displacement\": 318.0, \"Horsepower\": 150.0, \"Miles_per_Gallon\": 16.0, \"Name\": \"dodge coronet brougham\", \"Origin\": \"USA\", \"Weight_in_lbs\": 4190, \"Year\": \"1976-01-01T00:00:00\"}, {\"Acceleration\": 13.9, \"Cylinders\": 8, \"Displacement\": 304.0, \"Horsepower\": 120.0, \"Miles_per_Gallon\": 15.5, \"Name\": \"amc matador\", \"Origin\": \"USA\", \"Weight_in_lbs\": 3962, \"Year\": \"1976-01-01T00:00:00\"}, {\"Acceleration\": 12.8, \"Cylinders\": 8, \"Displacement\": 351.0, \"Horsepower\": 152.0, \"Miles_per_Gallon\": 14.5, \"Name\": \"ford gran torino\", \"Origin\": \"USA\", \"Weight_in_lbs\": 4215, \"Year\": \"1976-01-01T00:00:00\"}, {\"Acceleration\": 15.4, \"Cylinders\": 6, \"Displacement\": 225.0, \"Horsepower\": 100.0, \"Miles_per_Gallon\": 22.0, \"Name\": \"plymouth valiant\", \"Origin\": \"USA\", \"Weight_in_lbs\": 3233, \"Year\": \"1976-01-01T00:00:00\"}, {\"Acceleration\": 14.5, \"Cylinders\": 6, \"Displacement\": 250.0, \"Horsepower\": 105.0, \"Miles_per_Gallon\": 22.0, \"Name\": \"chevrolet nova\", \"Origin\": \"USA\", \"Weight_in_lbs\": 3353, \"Year\": \"1976-01-01T00:00:00\"}, {\"Acceleration\": 17.6, \"Cylinders\": 6, \"Displacement\": 200.0, \"Horsepower\": 81.0, \"Miles_per_Gallon\": 24.0, \"Name\": \"ford maverick\", \"Origin\": \"USA\", \"Weight_in_lbs\": 3012, \"Year\": \"1976-01-01T00:00:00\"}, {\"Acceleration\": 17.6, \"Cylinders\": 6, \"Displacement\": 232.0, \"Horsepower\": 90.0, \"Miles_per_Gallon\": 22.5, \"Name\": \"amc hornet\", \"Origin\": \"USA\", \"Weight_in_lbs\": 3085, \"Year\": \"1976-01-01T00:00:00\"}, {\"Acceleration\": 22.2, \"Cylinders\": 4, \"Displacement\": 85.0, \"Horsepower\": 52.0, \"Miles_per_Gallon\": 29.0, \"Name\": \"chevrolet chevette\", \"Origin\": \"USA\", \"Weight_in_lbs\": 2035, \"Year\": \"1976-01-01T00:00:00\"}, {\"Acceleration\": 22.1, \"Cylinders\": 4, \"Displacement\": 98.0, \"Horsepower\": 60.0, \"Miles_per_Gallon\": 24.5, \"Name\": \"chevrolet woody\", \"Origin\": \"USA\", \"Weight_in_lbs\": 2164, \"Year\": \"1976-01-01T00:00:00\"}, {\"Acceleration\": 14.2, \"Cylinders\": 4, \"Displacement\": 90.0, \"Horsepower\": 70.0, \"Miles_per_Gallon\": 29.0, \"Name\": \"vw rabbit\", \"Origin\": \"Europe\", \"Weight_in_lbs\": 1937, \"Year\": \"1976-01-01T00:00:00\"}, {\"Acceleration\": 17.4, \"Cylinders\": 4, \"Displacement\": 91.0, \"Horsepower\": 53.0, \"Miles_per_Gallon\": 33.0, \"Name\": \"honda civic\", \"Origin\": \"Japan\", \"Weight_in_lbs\": 1795, \"Year\": \"1976-01-01T00:00:00\"}, {\"Acceleration\": 17.7, \"Cylinders\": 6, \"Displacement\": 225.0, \"Horsepower\": 100.0, \"Miles_per_Gallon\": 20.0, \"Name\": \"dodge aspen se\", \"Origin\": \"USA\", \"Weight_in_lbs\": 3651, \"Year\": \"1976-01-01T00:00:00\"}, {\"Acceleration\": 21.0, \"Cylinders\": 6, \"Displacement\": 250.0, \"Horsepower\": 78.0, \"Miles_per_Gallon\": 18.0, \"Name\": \"ford granada ghia\", \"Origin\": \"USA\", \"Weight_in_lbs\": 3574, \"Year\": \"1976-01-01T00:00:00\"}, {\"Acceleration\": 16.2, \"Cylinders\": 6, \"Displacement\": 250.0, \"Horsepower\": 110.0, \"Miles_per_Gallon\": 18.5, \"Name\": \"pontiac ventura sj\", \"Origin\": \"USA\", \"Weight_in_lbs\": 3645, \"Year\": \"1976-01-01T00:00:00\"}, {\"Acceleration\": 17.8, \"Cylinders\": 6, \"Displacement\": 258.0, \"Horsepower\": 95.0, \"Miles_per_Gallon\": 17.5, \"Name\": \"amc pacer d/l\", \"Origin\": \"USA\", \"Weight_in_lbs\": 3193, \"Year\": \"1976-01-01T00:00:00\"}, {\"Acceleration\": 12.2, \"Cylinders\": 4, \"Displacement\": 97.0, \"Horsepower\": 71.0, \"Miles_per_Gallon\": 29.5, \"Name\": \"volkswagen rabbit\", \"Origin\": \"Europe\", \"Weight_in_lbs\": 1825, \"Year\": \"1976-01-01T00:00:00\"}, {\"Acceleration\": 17.0, \"Cylinders\": 4, \"Displacement\": 85.0, \"Horsepower\": 70.0, \"Miles_per_Gallon\": 32.0, \"Name\": \"datsun b-210\", \"Origin\": \"Japan\", \"Weight_in_lbs\": 1990, \"Year\": \"1976-01-01T00:00:00\"}, {\"Acceleration\": 16.4, \"Cylinders\": 4, \"Displacement\": 97.0, \"Horsepower\": 75.0, \"Miles_per_Gallon\": 28.0, \"Name\": \"toyota corolla\", \"Origin\": \"Japan\", \"Weight_in_lbs\": 2155, \"Year\": \"1976-01-01T00:00:00\"}, {\"Acceleration\": 13.6, \"Cylinders\": 4, \"Displacement\": 140.0, \"Horsepower\": 72.0, \"Miles_per_Gallon\": 26.5, \"Name\": \"ford pinto\", \"Origin\": \"USA\", \"Weight_in_lbs\": 2565, \"Year\": \"1976-01-01T00:00:00\"}, {\"Acceleration\": 15.7, \"Cylinders\": 4, \"Displacement\": 130.0, \"Horsepower\": 102.0, \"Miles_per_Gallon\": 20.0, \"Name\": \"volvo 245\", \"Origin\": \"Europe\", \"Weight_in_lbs\": 3150, \"Year\": \"1976-01-01T00:00:00\"}, {\"Acceleration\": 13.2, \"Cylinders\": 8, \"Displacement\": 318.0, \"Horsepower\": 150.0, \"Miles_per_Gallon\": 13.0, \"Name\": \"plymouth volare premier v8\", \"Origin\": \"USA\", \"Weight_in_lbs\": 3940, \"Year\": \"1976-01-01T00:00:00\"}, {\"Acceleration\": 21.9, \"Cylinders\": 4, \"Displacement\": 120.0, \"Horsepower\": 88.0, \"Miles_per_Gallon\": 19.0, \"Name\": \"peugeot 504\", \"Origin\": \"Europe\", \"Weight_in_lbs\": 3270, \"Year\": \"1976-01-01T00:00:00\"}, {\"Acceleration\": 15.5, \"Cylinders\": 6, \"Displacement\": 156.0, \"Horsepower\": 108.0, \"Miles_per_Gallon\": 19.0, \"Name\": \"toyota mark ii\", \"Origin\": \"Japan\", \"Weight_in_lbs\": 2930, \"Year\": \"1976-01-01T00:00:00\"}, {\"Acceleration\": 16.7, \"Cylinders\": 6, \"Displacement\": 168.0, \"Horsepower\": 120.0, \"Miles_per_Gallon\": 16.5, \"Name\": \"mercedes-benz 280s\", \"Origin\": \"Europe\", \"Weight_in_lbs\": 3820, \"Year\": \"1976-01-01T00:00:00\"}, {\"Acceleration\": 12.1, \"Cylinders\": 8, \"Displacement\": 350.0, \"Horsepower\": 180.0, \"Miles_per_Gallon\": 16.5, \"Name\": \"cadillac seville\", \"Origin\": \"USA\", \"Weight_in_lbs\": 4380, \"Year\": \"1976-01-01T00:00:00\"}, {\"Acceleration\": 12.0, \"Cylinders\": 8, \"Displacement\": 350.0, \"Horsepower\": 145.0, \"Miles_per_Gallon\": 13.0, \"Name\": \"chevy c10\", \"Origin\": \"USA\", \"Weight_in_lbs\": 4055, \"Year\": \"1976-01-01T00:00:00\"}, {\"Acceleration\": 15.0, \"Cylinders\": 8, \"Displacement\": 302.0, \"Horsepower\": 130.0, \"Miles_per_Gallon\": 13.0, \"Name\": \"ford f108\", \"Origin\": \"USA\", \"Weight_in_lbs\": 3870, \"Year\": \"1976-01-01T00:00:00\"}, {\"Acceleration\": 14.0, \"Cylinders\": 8, \"Displacement\": 318.0, \"Horsepower\": 150.0, \"Miles_per_Gallon\": 13.0, \"Name\": \"dodge d100\", \"Origin\": \"USA\", \"Weight_in_lbs\": 3755, \"Year\": \"1976-01-01T00:00:00\"}, {\"Acceleration\": 18.5, \"Cylinders\": 4, \"Displacement\": 98.0, \"Horsepower\": 68.0, \"Miles_per_Gallon\": 31.5, \"Name\": \"honda Accelerationord cvcc\", \"Origin\": \"Japan\", \"Weight_in_lbs\": 2045, \"Year\": \"1977-01-01T00:00:00\"}, {\"Acceleration\": 14.8, \"Cylinders\": 4, \"Displacement\": 111.0, \"Horsepower\": 80.0, \"Miles_per_Gallon\": 30.0, \"Name\": \"buick opel isuzu deluxe\", \"Origin\": \"USA\", \"Weight_in_lbs\": 2155, \"Year\": \"1977-01-01T00:00:00\"}, {\"Acceleration\": 18.6, \"Cylinders\": 4, \"Displacement\": 79.0, \"Horsepower\": 58.0, \"Miles_per_Gallon\": 36.0, \"Name\": \"renault 5 gtl\", \"Origin\": \"Europe\", \"Weight_in_lbs\": 1825, \"Year\": \"1977-01-01T00:00:00\"}, {\"Acceleration\": 15.5, \"Cylinders\": 4, \"Displacement\": 122.0, \"Horsepower\": 96.0, \"Miles_per_Gallon\": 25.5, \"Name\": \"plymouth arrow gs\", \"Origin\": \"USA\", \"Weight_in_lbs\": 2300, \"Year\": \"1977-01-01T00:00:00\"}, {\"Acceleration\": 16.8, \"Cylinders\": 4, \"Displacement\": 85.0, \"Horsepower\": 70.0, \"Miles_per_Gallon\": 33.5, \"Name\": \"datsun f-10 hatchback\", \"Origin\": \"Japan\", \"Weight_in_lbs\": 1945, \"Year\": \"1977-01-01T00:00:00\"}, {\"Acceleration\": 12.5, \"Cylinders\": 8, \"Displacement\": 305.0, \"Horsepower\": 145.0, \"Miles_per_Gallon\": 17.5, \"Name\": \"chevrolet caprice classic\", \"Origin\": \"USA\", \"Weight_in_lbs\": 3880, \"Year\": \"1977-01-01T00:00:00\"}, {\"Acceleration\": 19.0, \"Cylinders\": 8, \"Displacement\": 260.0, \"Horsepower\": 110.0, \"Miles_per_Gallon\": 17.0, \"Name\": \"oldsmobile cutlass supreme\", \"Origin\": \"USA\", \"Weight_in_lbs\": 4060, \"Year\": \"1977-01-01T00:00:00\"}, {\"Acceleration\": 13.7, \"Cylinders\": 8, \"Displacement\": 318.0, \"Horsepower\": 145.0, \"Miles_per_Gallon\": 15.5, \"Name\": \"dodge monaco brougham\", \"Origin\": \"USA\", \"Weight_in_lbs\": 4140, \"Year\": \"1977-01-01T00:00:00\"}, {\"Acceleration\": 14.9, \"Cylinders\": 8, \"Displacement\": 302.0, \"Horsepower\": 130.0, \"Miles_per_Gallon\": 15.0, \"Name\": \"mercury cougar brougham\", \"Origin\": \"USA\", \"Weight_in_lbs\": 4295, \"Year\": \"1977-01-01T00:00:00\"}, {\"Acceleration\": 16.4, \"Cylinders\": 6, \"Displacement\": 250.0, \"Horsepower\": 110.0, \"Miles_per_Gallon\": 17.5, \"Name\": \"chevrolet concours\", \"Origin\": \"USA\", \"Weight_in_lbs\": 3520, \"Year\": \"1977-01-01T00:00:00\"}, {\"Acceleration\": 16.9, \"Cylinders\": 6, \"Displacement\": 231.0, \"Horsepower\": 105.0, \"Miles_per_Gallon\": 20.5, \"Name\": \"buick skylark\", \"Origin\": \"USA\", \"Weight_in_lbs\": 3425, \"Year\": \"1977-01-01T00:00:00\"}, {\"Acceleration\": 17.7, \"Cylinders\": 6, \"Displacement\": 225.0, \"Horsepower\": 100.0, \"Miles_per_Gallon\": 19.0, \"Name\": \"plymouth volare custom\", \"Origin\": \"USA\", \"Weight_in_lbs\": 3630, \"Year\": \"1977-01-01T00:00:00\"}, {\"Acceleration\": 19.0, \"Cylinders\": 6, \"Displacement\": 250.0, \"Horsepower\": 98.0, \"Miles_per_Gallon\": 18.5, \"Name\": \"ford granada\", \"Origin\": \"USA\", \"Weight_in_lbs\": 3525, \"Year\": \"1977-01-01T00:00:00\"}, {\"Acceleration\": 11.1, \"Cylinders\": 8, \"Displacement\": 400.0, \"Horsepower\": 180.0, \"Miles_per_Gallon\": 16.0, \"Name\": \"pontiac grand prix lj\", \"Origin\": \"USA\", \"Weight_in_lbs\": 4220, \"Year\": \"1977-01-01T00:00:00\"}, {\"Acceleration\": 11.4, \"Cylinders\": 8, \"Displacement\": 350.0, \"Horsepower\": 170.0, \"Miles_per_Gallon\": 15.5, \"Name\": \"chevrolet monte carlo landau\", \"Origin\": \"USA\", \"Weight_in_lbs\": 4165, \"Year\": \"1977-01-01T00:00:00\"}, {\"Acceleration\": 12.2, \"Cylinders\": 8, \"Displacement\": 400.0, \"Horsepower\": 190.0, \"Miles_per_Gallon\": 15.5, \"Name\": \"chrysler cordoba\", \"Origin\": \"USA\", \"Weight_in_lbs\": 4325, \"Year\": \"1977-01-01T00:00:00\"}, {\"Acceleration\": 14.5, \"Cylinders\": 8, \"Displacement\": 351.0, \"Horsepower\": 149.0, \"Miles_per_Gallon\": 16.0, \"Name\": \"ford thunderbird\", \"Origin\": \"USA\", \"Weight_in_lbs\": 4335, \"Year\": \"1977-01-01T00:00:00\"}, {\"Acceleration\": 14.5, \"Cylinders\": 4, \"Displacement\": 97.0, \"Horsepower\": 78.0, \"Miles_per_Gallon\": 29.0, \"Name\": \"volkswagen rabbit custom\", \"Origin\": \"Europe\", \"Weight_in_lbs\": 1940, \"Year\": \"1977-01-01T00:00:00\"}, {\"Acceleration\": 16.0, \"Cylinders\": 4, \"Displacement\": 151.0, \"Horsepower\": 88.0, \"Miles_per_Gallon\": 24.5, \"Name\": \"pontiac sunbird coupe\", \"Origin\": \"USA\", \"Weight_in_lbs\": 2740, \"Year\": \"1977-01-01T00:00:00\"}, {\"Acceleration\": 18.2, \"Cylinders\": 4, \"Displacement\": 97.0, \"Horsepower\": 75.0, \"Miles_per_Gallon\": 26.0, \"Name\": \"toyota corolla liftback\", \"Origin\": \"Japan\", \"Weight_in_lbs\": 2265, \"Year\": \"1977-01-01T00:00:00\"}, {\"Acceleration\": 15.8, \"Cylinders\": 4, \"Displacement\": 140.0, \"Horsepower\": 89.0, \"Miles_per_Gallon\": 25.5, \"Name\": \"ford mustang ii 2+2\", \"Origin\": \"USA\", \"Weight_in_lbs\": 2755, \"Year\": \"1977-01-01T00:00:00\"}, {\"Acceleration\": 17.0, \"Cylinders\": 4, \"Displacement\": 98.0, \"Horsepower\": 63.0, \"Miles_per_Gallon\": 30.5, \"Name\": \"chevrolet chevette\", \"Origin\": \"USA\", \"Weight_in_lbs\": 2051, \"Year\": \"1977-01-01T00:00:00\"}, {\"Acceleration\": 15.9, \"Cylinders\": 4, \"Displacement\": 98.0, \"Horsepower\": 83.0, \"Miles_per_Gallon\": 33.5, \"Name\": \"dodge colt m/m\", \"Origin\": \"USA\", \"Weight_in_lbs\": 2075, \"Year\": \"1977-01-01T00:00:00\"}, {\"Acceleration\": 16.4, \"Cylinders\": 4, \"Displacement\": 97.0, \"Horsepower\": 67.0, \"Miles_per_Gallon\": 30.0, \"Name\": \"subaru dl\", \"Origin\": \"Japan\", \"Weight_in_lbs\": 1985, \"Year\": \"1977-01-01T00:00:00\"}, {\"Acceleration\": 14.1, \"Cylinders\": 4, \"Displacement\": 97.0, \"Horsepower\": 78.0, \"Miles_per_Gallon\": 30.5, \"Name\": \"volkswagen dasher\", \"Origin\": \"Europe\", \"Weight_in_lbs\": 2190, \"Year\": \"1977-01-01T00:00:00\"}, {\"Acceleration\": 14.5, \"Cylinders\": 6, \"Displacement\": 146.0, \"Horsepower\": 97.0, \"Miles_per_Gallon\": 22.0, \"Name\": \"datsun 810\", \"Origin\": \"Japan\", \"Weight_in_lbs\": 2815, \"Year\": \"1977-01-01T00:00:00\"}, {\"Acceleration\": 12.8, \"Cylinders\": 4, \"Displacement\": 121.0, \"Horsepower\": 110.0, \"Miles_per_Gallon\": 21.5, \"Name\": \"bmw 320i\", \"Origin\": \"Europe\", \"Weight_in_lbs\": 2600, \"Year\": \"1977-01-01T00:00:00\"}, {\"Acceleration\": 13.5, \"Cylinders\": 3, \"Displacement\": 80.0, \"Horsepower\": 110.0, \"Miles_per_Gallon\": 21.5, \"Name\": \"mazda rx-4\", \"Origin\": \"Japan\", \"Weight_in_lbs\": 2720, \"Year\": \"1977-01-01T00:00:00\"}, {\"Acceleration\": 21.5, \"Cylinders\": 4, \"Displacement\": 90.0, \"Horsepower\": 48.0, \"Miles_per_Gallon\": 43.1, \"Name\": \"volkswagen rabbit custom diesel\", \"Origin\": \"Europe\", \"Weight_in_lbs\": 1985, \"Year\": \"1978-01-01T00:00:00\"}, {\"Acceleration\": 14.4, \"Cylinders\": 4, \"Displacement\": 98.0, \"Horsepower\": 66.0, \"Miles_per_Gallon\": 36.1, \"Name\": \"ford fiesta\", \"Origin\": \"USA\", \"Weight_in_lbs\": 1800, \"Year\": \"1978-01-01T00:00:00\"}, {\"Acceleration\": 19.4, \"Cylinders\": 4, \"Displacement\": 78.0, \"Horsepower\": 52.0, \"Miles_per_Gallon\": 32.8, \"Name\": \"mazda glc deluxe\", \"Origin\": \"Japan\", \"Weight_in_lbs\": 1985, \"Year\": \"1978-01-01T00:00:00\"}, {\"Acceleration\": 18.6, \"Cylinders\": 4, \"Displacement\": 85.0, \"Horsepower\": 70.0, \"Miles_per_Gallon\": 39.4, \"Name\": \"datsun b210 gx\", \"Origin\": \"Japan\", \"Weight_in_lbs\": 2070, \"Year\": \"1978-01-01T00:00:00\"}, {\"Acceleration\": 16.4, \"Cylinders\": 4, \"Displacement\": 91.0, \"Horsepower\": 60.0, \"Miles_per_Gallon\": 36.1, \"Name\": \"honda civic cvcc\", \"Origin\": \"Japan\", \"Weight_in_lbs\": 1800, \"Year\": \"1978-01-01T00:00:00\"}, {\"Acceleration\": 15.5, \"Cylinders\": 8, \"Displacement\": 260.0, \"Horsepower\": 110.0, \"Miles_per_Gallon\": 19.9, \"Name\": \"oldsmobile cutlass salon brougham\", \"Origin\": \"USA\", \"Weight_in_lbs\": 3365, \"Year\": \"1978-01-01T00:00:00\"}, {\"Acceleration\": 13.2, \"Cylinders\": 8, \"Displacement\": 318.0, \"Horsepower\": 140.0, \"Miles_per_Gallon\": 19.4, \"Name\": \"dodge diplomat\", \"Origin\": \"USA\", \"Weight_in_lbs\": 3735, \"Year\": \"1978-01-01T00:00:00\"}, {\"Acceleration\": 12.8, \"Cylinders\": 8, \"Displacement\": 302.0, \"Horsepower\": 139.0, \"Miles_per_Gallon\": 20.2, \"Name\": \"mercury monarch ghia\", \"Origin\": \"USA\", \"Weight_in_lbs\": 3570, \"Year\": \"1978-01-01T00:00:00\"}, {\"Acceleration\": 19.2, \"Cylinders\": 6, \"Displacement\": 231.0, \"Horsepower\": 105.0, \"Miles_per_Gallon\": 19.2, \"Name\": \"pontiac phoenix lj\", \"Origin\": \"USA\", \"Weight_in_lbs\": 3535, \"Year\": \"1978-01-01T00:00:00\"}, {\"Acceleration\": 18.2, \"Cylinders\": 6, \"Displacement\": 200.0, \"Horsepower\": 95.0, \"Miles_per_Gallon\": 20.5, \"Name\": \"chevrolet malibu\", \"Origin\": \"USA\", \"Weight_in_lbs\": 3155, \"Year\": \"1978-01-01T00:00:00\"}, {\"Acceleration\": 15.8, \"Cylinders\": 6, \"Displacement\": 200.0, \"Horsepower\": 85.0, \"Miles_per_Gallon\": 20.2, \"Name\": \"ford fairmont (auto)\", \"Origin\": \"USA\", \"Weight_in_lbs\": 2965, \"Year\": \"1978-01-01T00:00:00\"}, {\"Acceleration\": 15.4, \"Cylinders\": 4, \"Displacement\": 140.0, \"Horsepower\": 88.0, \"Miles_per_Gallon\": 25.1, \"Name\": \"ford fairmont (man)\", \"Origin\": \"USA\", \"Weight_in_lbs\": 2720, \"Year\": \"1978-01-01T00:00:00\"}, {\"Acceleration\": 17.2, \"Cylinders\": 6, \"Displacement\": 225.0, \"Horsepower\": 100.0, \"Miles_per_Gallon\": 20.5, \"Name\": \"plymouth volare\", \"Origin\": \"USA\", \"Weight_in_lbs\": 3430, \"Year\": \"1978-01-01T00:00:00\"}, {\"Acceleration\": 17.2, \"Cylinders\": 6, \"Displacement\": 232.0, \"Horsepower\": 90.0, \"Miles_per_Gallon\": 19.4, \"Name\": \"amc concord\", \"Origin\": \"USA\", \"Weight_in_lbs\": 3210, \"Year\": \"1978-01-01T00:00:00\"}, {\"Acceleration\": 15.8, \"Cylinders\": 6, \"Displacement\": 231.0, \"Horsepower\": 105.0, \"Miles_per_Gallon\": 20.6, \"Name\": \"buick century special\", \"Origin\": \"USA\", \"Weight_in_lbs\": 3380, \"Year\": \"1978-01-01T00:00:00\"}, {\"Acceleration\": 16.7, \"Cylinders\": 6, \"Displacement\": 200.0, \"Horsepower\": 85.0, \"Miles_per_Gallon\": 20.8, \"Name\": \"mercury zephyr\", \"Origin\": \"USA\", \"Weight_in_lbs\": 3070, \"Year\": \"1978-01-01T00:00:00\"}, {\"Acceleration\": 18.7, \"Cylinders\": 6, \"Displacement\": 225.0, \"Horsepower\": 110.0, \"Miles_per_Gallon\": 18.6, \"Name\": \"dodge aspen\", \"Origin\": \"USA\", \"Weight_in_lbs\": 3620, \"Year\": \"1978-01-01T00:00:00\"}, {\"Acceleration\": 15.1, \"Cylinders\": 6, \"Displacement\": 258.0, \"Horsepower\": 120.0, \"Miles_per_Gallon\": 18.1, \"Name\": \"amc concord d/l\", \"Origin\": \"USA\", \"Weight_in_lbs\": 3410, \"Year\": \"1978-01-01T00:00:00\"}, {\"Acceleration\": 13.2, \"Cylinders\": 8, \"Displacement\": 305.0, \"Horsepower\": 145.0, \"Miles_per_Gallon\": 19.2, \"Name\": \"chevrolet monte carlo landau\", \"Origin\": \"USA\", \"Weight_in_lbs\": 3425, \"Year\": \"1978-01-01T00:00:00\"}, {\"Acceleration\": 13.4, \"Cylinders\": 6, \"Displacement\": 231.0, \"Horsepower\": 165.0, \"Miles_per_Gallon\": 17.7, \"Name\": \"buick regal sport coupe (turbo)\", \"Origin\": \"USA\", \"Weight_in_lbs\": 3445, \"Year\": \"1978-01-01T00:00:00\"}, {\"Acceleration\": 11.2, \"Cylinders\": 8, \"Displacement\": 302.0, \"Horsepower\": 139.0, \"Miles_per_Gallon\": 18.1, \"Name\": \"ford futura\", \"Origin\": \"USA\", \"Weight_in_lbs\": 3205, \"Year\": \"1978-01-01T00:00:00\"}, {\"Acceleration\": 13.7, \"Cylinders\": 8, \"Displacement\": 318.0, \"Horsepower\": 140.0, \"Miles_per_Gallon\": 17.5, \"Name\": \"dodge magnum xe\", \"Origin\": \"USA\", \"Weight_in_lbs\": 4080, \"Year\": \"1978-01-01T00:00:00\"}, {\"Acceleration\": 16.5, \"Cylinders\": 4, \"Displacement\": 98.0, \"Horsepower\": 68.0, \"Miles_per_Gallon\": 30.0, \"Name\": \"chevrolet chevette\", \"Origin\": \"USA\", \"Weight_in_lbs\": 2155, \"Year\": \"1978-01-01T00:00:00\"}, {\"Acceleration\": 14.2, \"Cylinders\": 4, \"Displacement\": 134.0, \"Horsepower\": 95.0, \"Miles_per_Gallon\": 27.5, \"Name\": \"toyota corona\", \"Origin\": \"Japan\", \"Weight_in_lbs\": 2560, \"Year\": \"1978-01-01T00:00:00\"}, {\"Acceleration\": 14.7, \"Cylinders\": 4, \"Displacement\": 119.0, \"Horsepower\": 97.0, \"Miles_per_Gallon\": 27.2, \"Name\": \"datsun 510\", \"Origin\": \"Japan\", \"Weight_in_lbs\": 2300, \"Year\": \"1978-01-01T00:00:00\"}, {\"Acceleration\": 14.5, \"Cylinders\": 4, \"Displacement\": 105.0, \"Horsepower\": 75.0, \"Miles_per_Gallon\": 30.9, \"Name\": \"dodge omni\", \"Origin\": \"USA\", \"Weight_in_lbs\": 2230, \"Year\": \"1978-01-01T00:00:00\"}, {\"Acceleration\": 14.8, \"Cylinders\": 4, \"Displacement\": 134.0, \"Horsepower\": 95.0, \"Miles_per_Gallon\": 21.1, \"Name\": \"toyota celica gt liftback\", \"Origin\": \"Japan\", \"Weight_in_lbs\": 2515, \"Year\": \"1978-01-01T00:00:00\"}, {\"Acceleration\": 16.7, \"Cylinders\": 4, \"Displacement\": 156.0, \"Horsepower\": 105.0, \"Miles_per_Gallon\": 23.2, \"Name\": \"plymouth sapporo\", \"Origin\": \"USA\", \"Weight_in_lbs\": 2745, \"Year\": \"1978-01-01T00:00:00\"}, {\"Acceleration\": 17.6, \"Cylinders\": 4, \"Displacement\": 151.0, \"Horsepower\": 85.0, \"Miles_per_Gallon\": 23.8, \"Name\": \"oldsmobile starfire sx\", \"Origin\": \"USA\", \"Weight_in_lbs\": 2855, \"Year\": \"1978-01-01T00:00:00\"}, {\"Acceleration\": 14.9, \"Cylinders\": 4, \"Displacement\": 119.0, \"Horsepower\": 97.0, \"Miles_per_Gallon\": 23.9, \"Name\": \"datsun 200-sx\", \"Origin\": \"Japan\", \"Weight_in_lbs\": 2405, \"Year\": \"1978-01-01T00:00:00\"}, {\"Acceleration\": 15.9, \"Cylinders\": 5, \"Displacement\": 131.0, \"Horsepower\": 103.0, \"Miles_per_Gallon\": 20.3, \"Name\": \"audi 5000\", \"Origin\": \"Europe\", \"Weight_in_lbs\": 2830, \"Year\": \"1978-01-01T00:00:00\"}, {\"Acceleration\": 13.6, \"Cylinders\": 6, \"Displacement\": 163.0, \"Horsepower\": 125.0, \"Miles_per_Gallon\": 17.0, \"Name\": \"volvo 264gl\", \"Origin\": \"Europe\", \"Weight_in_lbs\": 3140, \"Year\": \"1978-01-01T00:00:00\"}, {\"Acceleration\": 15.7, \"Cylinders\": 4, \"Displacement\": 121.0, \"Horsepower\": 115.0, \"Miles_per_Gallon\": 21.6, \"Name\": \"saab 99gle\", \"Origin\": \"Europe\", \"Weight_in_lbs\": 2795, \"Year\": \"1978-01-01T00:00:00\"}, {\"Acceleration\": 15.8, \"Cylinders\": 6, \"Displacement\": 163.0, \"Horsepower\": 133.0, \"Miles_per_Gallon\": 16.2, \"Name\": \"peugeot 604sl\", \"Origin\": \"Europe\", \"Weight_in_lbs\": 3410, \"Year\": \"1978-01-01T00:00:00\"}, {\"Acceleration\": 14.9, \"Cylinders\": 4, \"Displacement\": 89.0, \"Horsepower\": 71.0, \"Miles_per_Gallon\": 31.5, \"Name\": \"volkswagen scirocco\", \"Origin\": \"Europe\", \"Weight_in_lbs\": 1990, \"Year\": \"1978-01-01T00:00:00\"}, {\"Acceleration\": 16.6, \"Cylinders\": 4, \"Displacement\": 98.0, \"Horsepower\": 68.0, \"Miles_per_Gallon\": 29.5, \"Name\": \"honda Accelerationord lx\", \"Origin\": \"Japan\", \"Weight_in_lbs\": 2135, \"Year\": \"1978-01-01T00:00:00\"}, {\"Acceleration\": 15.4, \"Cylinders\": 6, \"Displacement\": 231.0, \"Horsepower\": 115.0, \"Miles_per_Gallon\": 21.5, \"Name\": \"pontiac lemans v6\", \"Origin\": \"USA\", \"Weight_in_lbs\": 3245, \"Year\": \"1979-01-01T00:00:00\"}, {\"Acceleration\": 18.2, \"Cylinders\": 6, \"Displacement\": 200.0, \"Horsepower\": 85.0, \"Miles_per_Gallon\": 19.8, \"Name\": \"mercury zephyr 6\", \"Origin\": \"USA\", \"Weight_in_lbs\": 2990, \"Year\": \"1979-01-01T00:00:00\"}, {\"Acceleration\": 17.3, \"Cylinders\": 4, \"Displacement\": 140.0, \"Horsepower\": 88.0, \"Miles_per_Gallon\": 22.3, \"Name\": \"ford fairmont 4\", \"Origin\": \"USA\", \"Weight_in_lbs\": 2890, \"Year\": \"1979-01-01T00:00:00\"}, {\"Acceleration\": 18.2, \"Cylinders\": 6, \"Displacement\": 232.0, \"Horsepower\": 90.0, \"Miles_per_Gallon\": 20.2, \"Name\": \"amc concord dl 6\", \"Origin\": \"USA\", \"Weight_in_lbs\": 3265, \"Year\": \"1979-01-01T00:00:00\"}, {\"Acceleration\": 16.6, \"Cylinders\": 6, \"Displacement\": 225.0, \"Horsepower\": 110.0, \"Miles_per_Gallon\": 20.6, \"Name\": \"dodge aspen 6\", \"Origin\": \"USA\", \"Weight_in_lbs\": 3360, \"Year\": \"1979-01-01T00:00:00\"}, {\"Acceleration\": 15.4, \"Cylinders\": 8, \"Displacement\": 305.0, \"Horsepower\": 130.0, \"Miles_per_Gallon\": 17.0, \"Name\": \"chevrolet caprice classic\", \"Origin\": \"USA\", \"Weight_in_lbs\": 3840, \"Year\": \"1979-01-01T00:00:00\"}, {\"Acceleration\": 13.4, \"Cylinders\": 8, \"Displacement\": 302.0, \"Horsepower\": 129.0, \"Miles_per_Gallon\": 17.6, \"Name\": \"ford ltd landau\", \"Origin\": \"USA\", \"Weight_in_lbs\": 3725, \"Year\": \"1979-01-01T00:00:00\"}, {\"Acceleration\": 13.2, \"Cylinders\": 8, \"Displacement\": 351.0, \"Horsepower\": 138.0, \"Miles_per_Gallon\": 16.5, \"Name\": \"mercury grand marquis\", \"Origin\": \"USA\", \"Weight_in_lbs\": 3955, \"Year\": \"1979-01-01T00:00:00\"}, {\"Acceleration\": 15.2, \"Cylinders\": 8, \"Displacement\": 318.0, \"Horsepower\": 135.0, \"Miles_per_Gallon\": 18.2, \"Name\": \"dodge st. regis\", \"Origin\": \"USA\", \"Weight_in_lbs\": 3830, \"Year\": \"1979-01-01T00:00:00\"}, {\"Acceleration\": 14.9, \"Cylinders\": 8, \"Displacement\": 350.0, \"Horsepower\": 155.0, \"Miles_per_Gallon\": 16.9, \"Name\": \"buick estate wagon (sw)\", \"Origin\": \"USA\", \"Weight_in_lbs\": 4360, \"Year\": \"1979-01-01T00:00:00\"}, {\"Acceleration\": 14.3, \"Cylinders\": 8, \"Displacement\": 351.0, \"Horsepower\": 142.0, \"Miles_per_Gallon\": 15.5, \"Name\": \"ford country squire (sw)\", \"Origin\": \"USA\", \"Weight_in_lbs\": 4054, \"Year\": \"1979-01-01T00:00:00\"}, {\"Acceleration\": 15.0, \"Cylinders\": 8, \"Displacement\": 267.0, \"Horsepower\": 125.0, \"Miles_per_Gallon\": 19.2, \"Name\": \"chevrolet malibu classic (sw)\", \"Origin\": \"USA\", \"Weight_in_lbs\": 3605, \"Year\": \"1979-01-01T00:00:00\"}, {\"Acceleration\": 13.0, \"Cylinders\": 8, \"Displacement\": 360.0, \"Horsepower\": 150.0, \"Miles_per_Gallon\": 18.5, \"Name\": \"chrysler lebaron town @ country (sw)\", \"Origin\": \"USA\", \"Weight_in_lbs\": 3940, \"Year\": \"1979-01-01T00:00:00\"}, {\"Acceleration\": 14.0, \"Cylinders\": 4, \"Displacement\": 89.0, \"Horsepower\": 71.0, \"Miles_per_Gallon\": 31.9, \"Name\": \"vw rabbit custom\", \"Origin\": \"Europe\", \"Weight_in_lbs\": 1925, \"Year\": \"1979-01-01T00:00:00\"}, {\"Acceleration\": 15.2, \"Cylinders\": 4, \"Displacement\": 86.0, \"Horsepower\": 65.0, \"Miles_per_Gallon\": 34.1, \"Name\": \"maxda glc deluxe\", \"Origin\": \"Japan\", \"Weight_in_lbs\": 1975, \"Year\": \"1979-01-01T00:00:00\"}, {\"Acceleration\": 14.4, \"Cylinders\": 4, \"Displacement\": 98.0, \"Horsepower\": 80.0, \"Miles_per_Gallon\": 35.7, \"Name\": \"dodge colt hatchback custom\", \"Origin\": \"USA\", \"Weight_in_lbs\": 1915, \"Year\": \"1979-01-01T00:00:00\"}, {\"Acceleration\": 15.0, \"Cylinders\": 4, \"Displacement\": 121.0, \"Horsepower\": 80.0, \"Miles_per_Gallon\": 27.4, \"Name\": \"amc spirit dl\", \"Origin\": \"USA\", \"Weight_in_lbs\": 2670, \"Year\": \"1979-01-01T00:00:00\"}, {\"Acceleration\": 20.1, \"Cylinders\": 5, \"Displacement\": 183.0, \"Horsepower\": 77.0, \"Miles_per_Gallon\": 25.4, \"Name\": \"mercedes benz 300d\", \"Origin\": \"Europe\", \"Weight_in_lbs\": 3530, \"Year\": \"1979-01-01T00:00:00\"}, {\"Acceleration\": 17.4, \"Cylinders\": 8, \"Displacement\": 350.0, \"Horsepower\": 125.0, \"Miles_per_Gallon\": 23.0, \"Name\": \"cadillac eldorado\", \"Origin\": \"USA\", \"Weight_in_lbs\": 3900, \"Year\": \"1979-01-01T00:00:00\"}, {\"Acceleration\": 24.8, \"Cylinders\": 4, \"Displacement\": 141.0, \"Horsepower\": 71.0, \"Miles_per_Gallon\": 27.2, \"Name\": \"peugeot 504\", \"Origin\": \"Europe\", \"Weight_in_lbs\": 3190, \"Year\": \"1979-01-01T00:00:00\"}, {\"Acceleration\": 22.2, \"Cylinders\": 8, \"Displacement\": 260.0, \"Horsepower\": 90.0, \"Miles_per_Gallon\": 23.9, \"Name\": \"oldsmobile cutlass salon brougham\", \"Origin\": \"USA\", \"Weight_in_lbs\": 3420, \"Year\": \"1979-01-01T00:00:00\"}, {\"Acceleration\": 13.2, \"Cylinders\": 4, \"Displacement\": 105.0, \"Horsepower\": 70.0, \"Miles_per_Gallon\": 34.2, \"Name\": \"plymouth horizon\", \"Origin\": \"USA\", \"Weight_in_lbs\": 2200, \"Year\": \"1979-01-01T00:00:00\"}, {\"Acceleration\": 14.9, \"Cylinders\": 4, \"Displacement\": 105.0, \"Horsepower\": 70.0, \"Miles_per_Gallon\": 34.5, \"Name\": \"plymouth horizon tc3\", \"Origin\": \"USA\", \"Weight_in_lbs\": 2150, \"Year\": \"1979-01-01T00:00:00\"}, {\"Acceleration\": 19.2, \"Cylinders\": 4, \"Displacement\": 85.0, \"Horsepower\": 65.0, \"Miles_per_Gallon\": 31.8, \"Name\": \"datsun 210\", \"Origin\": \"Japan\", \"Weight_in_lbs\": 2020, \"Year\": \"1979-01-01T00:00:00\"}, {\"Acceleration\": 14.7, \"Cylinders\": 4, \"Displacement\": 91.0, \"Horsepower\": 69.0, \"Miles_per_Gallon\": 37.3, \"Name\": \"fiat strada custom\", \"Origin\": \"Europe\", \"Weight_in_lbs\": 2130, \"Year\": \"1979-01-01T00:00:00\"}, {\"Acceleration\": 16.0, \"Cylinders\": 4, \"Displacement\": 151.0, \"Horsepower\": 90.0, \"Miles_per_Gallon\": 28.4, \"Name\": \"buick skylark limited\", \"Origin\": \"USA\", \"Weight_in_lbs\": 2670, \"Year\": \"1979-01-01T00:00:00\"}, {\"Acceleration\": 11.3, \"Cylinders\": 6, \"Displacement\": 173.0, \"Horsepower\": 115.0, \"Miles_per_Gallon\": 28.8, \"Name\": \"chevrolet citation\", \"Origin\": \"USA\", \"Weight_in_lbs\": 2595, \"Year\": \"1979-01-01T00:00:00\"}, {\"Acceleration\": 12.9, \"Cylinders\": 6, \"Displacement\": 173.0, \"Horsepower\": 115.0, \"Miles_per_Gallon\": 26.8, \"Name\": \"oldsmobile omega brougham\", \"Origin\": \"USA\", \"Weight_in_lbs\": 2700, \"Year\": \"1979-01-01T00:00:00\"}, {\"Acceleration\": 13.2, \"Cylinders\": 4, \"Displacement\": 151.0, \"Horsepower\": 90.0, \"Miles_per_Gallon\": 33.5, \"Name\": \"pontiac phoenix\", \"Origin\": \"USA\", \"Weight_in_lbs\": 2556, \"Year\": \"1979-01-01T00:00:00\"}, {\"Acceleration\": 14.7, \"Cylinders\": 4, \"Displacement\": 98.0, \"Horsepower\": 76.0, \"Miles_per_Gallon\": 41.5, \"Name\": \"vw rabbit\", \"Origin\": \"Europe\", \"Weight_in_lbs\": 2144, \"Year\": \"1980-01-01T00:00:00\"}, {\"Acceleration\": 18.8, \"Cylinders\": 4, \"Displacement\": 89.0, \"Horsepower\": 60.0, \"Miles_per_Gallon\": 38.1, \"Name\": \"toyota corolla tercel\", \"Origin\": \"Japan\", \"Weight_in_lbs\": 1968, \"Year\": \"1980-01-01T00:00:00\"}, {\"Acceleration\": 15.5, \"Cylinders\": 4, \"Displacement\": 98.0, \"Horsepower\": 70.0, \"Miles_per_Gallon\": 32.1, \"Name\": \"chevrolet chevette\", \"Origin\": \"USA\", \"Weight_in_lbs\": 2120, \"Year\": \"1980-01-01T00:00:00\"}, {\"Acceleration\": 16.4, \"Cylinders\": 4, \"Displacement\": 86.0, \"Horsepower\": 65.0, \"Miles_per_Gallon\": 37.2, \"Name\": \"datsun 310\", \"Origin\": \"Japan\", \"Weight_in_lbs\": 2019, \"Year\": \"1980-01-01T00:00:00\"}, {\"Acceleration\": 16.5, \"Cylinders\": 4, \"Displacement\": 151.0, \"Horsepower\": 90.0, \"Miles_per_Gallon\": 28.0, \"Name\": \"chevrolet citation\", \"Origin\": \"USA\", \"Weight_in_lbs\": 2678, \"Year\": \"1980-01-01T00:00:00\"}, {\"Acceleration\": 18.1, \"Cylinders\": 4, \"Displacement\": 140.0, \"Horsepower\": 88.0, \"Miles_per_Gallon\": 26.4, \"Name\": \"ford fairmont\", \"Origin\": \"USA\", \"Weight_in_lbs\": 2870, \"Year\": \"1980-01-01T00:00:00\"}, {\"Acceleration\": 20.1, \"Cylinders\": 4, \"Displacement\": 151.0, \"Horsepower\": 90.0, \"Miles_per_Gallon\": 24.3, \"Name\": \"amc concord\", \"Origin\": \"USA\", \"Weight_in_lbs\": 3003, \"Year\": \"1980-01-01T00:00:00\"}, {\"Acceleration\": 18.7, \"Cylinders\": 6, \"Displacement\": 225.0, \"Horsepower\": 90.0, \"Miles_per_Gallon\": 19.1, \"Name\": \"dodge aspen\", \"Origin\": \"USA\", \"Weight_in_lbs\": 3381, \"Year\": \"1980-01-01T00:00:00\"}, {\"Acceleration\": 15.8, \"Cylinders\": 4, \"Displacement\": 97.0, \"Horsepower\": 78.0, \"Miles_per_Gallon\": 34.3, \"Name\": \"audi 4000\", \"Origin\": \"Europe\", \"Weight_in_lbs\": 2188, \"Year\": \"1980-01-01T00:00:00\"}, {\"Acceleration\": 15.5, \"Cylinders\": 4, \"Displacement\": 134.0, \"Horsepower\": 90.0, \"Miles_per_Gallon\": 29.8, \"Name\": \"toyota corona liftback\", \"Origin\": \"Japan\", \"Weight_in_lbs\": 2711, \"Year\": \"1980-01-01T00:00:00\"}, {\"Acceleration\": 17.5, \"Cylinders\": 4, \"Displacement\": 120.0, \"Horsepower\": 75.0, \"Miles_per_Gallon\": 31.3, \"Name\": \"mazda 626\", \"Origin\": \"Japan\", \"Weight_in_lbs\": 2542, \"Year\": \"1980-01-01T00:00:00\"}, {\"Acceleration\": 15.0, \"Cylinders\": 4, \"Displacement\": 119.0, \"Horsepower\": 92.0, \"Miles_per_Gallon\": 37.0, \"Name\": \"datsun 510 hatchback\", \"Origin\": \"Japan\", \"Weight_in_lbs\": 2434, \"Year\": \"1980-01-01T00:00:00\"}, {\"Acceleration\": 15.2, \"Cylinders\": 4, \"Displacement\": 108.0, \"Horsepower\": 75.0, \"Miles_per_Gallon\": 32.2, \"Name\": \"toyota corolla\", \"Origin\": \"Japan\", \"Weight_in_lbs\": 2265, \"Year\": \"1980-01-01T00:00:00\"}, {\"Acceleration\": 17.9, \"Cylinders\": 4, \"Displacement\": 86.0, \"Horsepower\": 65.0, \"Miles_per_Gallon\": 46.6, \"Name\": \"mazda glc\", \"Origin\": \"Japan\", \"Weight_in_lbs\": 2110, \"Year\": \"1980-01-01T00:00:00\"}, {\"Acceleration\": 14.4, \"Cylinders\": 4, \"Displacement\": 156.0, \"Horsepower\": 105.0, \"Miles_per_Gallon\": 27.9, \"Name\": \"dodge colt\", \"Origin\": \"USA\", \"Weight_in_lbs\": 2800, \"Year\": \"1980-01-01T00:00:00\"}, {\"Acceleration\": 19.2, \"Cylinders\": 4, \"Displacement\": 85.0, \"Horsepower\": 65.0, \"Miles_per_Gallon\": 40.8, \"Name\": \"datsun 210\", \"Origin\": \"Japan\", \"Weight_in_lbs\": 2110, \"Year\": \"1980-01-01T00:00:00\"}, {\"Acceleration\": 21.7, \"Cylinders\": 4, \"Displacement\": 90.0, \"Horsepower\": 48.0, \"Miles_per_Gallon\": 44.3, \"Name\": \"vw rabbit c (diesel)\", \"Origin\": \"Europe\", \"Weight_in_lbs\": 2085, \"Year\": \"1980-01-01T00:00:00\"}, {\"Acceleration\": 23.7, \"Cylinders\": 4, \"Displacement\": 90.0, \"Horsepower\": 48.0, \"Miles_per_Gallon\": 43.4, \"Name\": \"vw dasher (diesel)\", \"Origin\": \"Europe\", \"Weight_in_lbs\": 2335, \"Year\": \"1980-01-01T00:00:00\"}, {\"Acceleration\": 19.9, \"Cylinders\": 5, \"Displacement\": 121.0, \"Horsepower\": 67.0, \"Miles_per_Gallon\": 36.4, \"Name\": \"audi 5000s (diesel)\", \"Origin\": \"Europe\", \"Weight_in_lbs\": 2950, \"Year\": \"1980-01-01T00:00:00\"}, {\"Acceleration\": 21.8, \"Cylinders\": 4, \"Displacement\": 146.0, \"Horsepower\": 67.0, \"Miles_per_Gallon\": 30.0, \"Name\": \"mercedes-benz 240d\", \"Origin\": \"Europe\", \"Weight_in_lbs\": 3250, \"Year\": \"1980-01-01T00:00:00\"}, {\"Acceleration\": 13.8, \"Cylinders\": 4, \"Displacement\": 91.0, \"Horsepower\": 67.0, \"Miles_per_Gallon\": 44.6, \"Name\": \"honda civic 1500 gl\", \"Origin\": \"Japan\", \"Weight_in_lbs\": 1850, \"Year\": \"1980-01-01T00:00:00\"}, {\"Acceleration\": 17.3, \"Cylinders\": 4, \"Displacement\": 85.0, \"Horsepower\": null, \"Miles_per_Gallon\": 40.9, \"Name\": \"renault lecar deluxe\", \"Origin\": \"Europe\", \"Weight_in_lbs\": 1835, \"Year\": \"1980-01-01T00:00:00\"}, {\"Acceleration\": 18.0, \"Cylinders\": 4, \"Displacement\": 97.0, \"Horsepower\": 67.0, \"Miles_per_Gallon\": 33.8, \"Name\": \"subaru dl\", \"Origin\": \"Japan\", \"Weight_in_lbs\": 2145, \"Year\": \"1980-01-01T00:00:00\"}, {\"Acceleration\": 15.3, \"Cylinders\": 4, \"Displacement\": 89.0, \"Horsepower\": 62.0, \"Miles_per_Gallon\": 29.8, \"Name\": \"vokswagen rabbit\", \"Origin\": \"Europe\", \"Weight_in_lbs\": 1845, \"Year\": \"1980-01-01T00:00:00\"}, {\"Acceleration\": 11.4, \"Cylinders\": 6, \"Displacement\": 168.0, \"Horsepower\": 132.0, \"Miles_per_Gallon\": 32.7, \"Name\": \"datsun 280-zx\", \"Origin\": \"Japan\", \"Weight_in_lbs\": 2910, \"Year\": \"1980-01-01T00:00:00\"}, {\"Acceleration\": 12.5, \"Cylinders\": 3, \"Displacement\": 70.0, \"Horsepower\": 100.0, \"Miles_per_Gallon\": 23.7, \"Name\": \"mazda rx-7 gs\", \"Origin\": \"Japan\", \"Weight_in_lbs\": 2420, \"Year\": \"1980-01-01T00:00:00\"}, {\"Acceleration\": 15.1, \"Cylinders\": 4, \"Displacement\": 122.0, \"Horsepower\": 88.0, \"Miles_per_Gallon\": 35.0, \"Name\": \"triumph tr7 coupe\", \"Origin\": \"Europe\", \"Weight_in_lbs\": 2500, \"Year\": \"1980-01-01T00:00:00\"}, {\"Acceleration\": 14.3, \"Cylinders\": 4, \"Displacement\": 140.0, \"Horsepower\": null, \"Miles_per_Gallon\": 23.6, \"Name\": \"ford mustang cobra\", \"Origin\": \"USA\", \"Weight_in_lbs\": 2905, \"Year\": \"1980-01-01T00:00:00\"}, {\"Acceleration\": 17.0, \"Cylinders\": 4, \"Displacement\": 107.0, \"Horsepower\": 72.0, \"Miles_per_Gallon\": 32.4, \"Name\": \"honda Accelerationord\", \"Origin\": \"Japan\", \"Weight_in_lbs\": 2290, \"Year\": \"1980-01-01T00:00:00\"}, {\"Acceleration\": 15.7, \"Cylinders\": 4, \"Displacement\": 135.0, \"Horsepower\": 84.0, \"Miles_per_Gallon\": 27.2, \"Name\": \"plymouth reliant\", \"Origin\": \"USA\", \"Weight_in_lbs\": 2490, \"Year\": \"1982-01-01T00:00:00\"}, {\"Acceleration\": 16.4, \"Cylinders\": 4, \"Displacement\": 151.0, \"Horsepower\": 84.0, \"Miles_per_Gallon\": 26.6, \"Name\": \"buick skylark\", \"Origin\": \"USA\", \"Weight_in_lbs\": 2635, \"Year\": \"1982-01-01T00:00:00\"}, {\"Acceleration\": 14.4, \"Cylinders\": 4, \"Displacement\": 156.0, \"Horsepower\": 92.0, \"Miles_per_Gallon\": 25.8, \"Name\": \"dodge aries wagon (sw)\", \"Origin\": \"USA\", \"Weight_in_lbs\": 2620, \"Year\": \"1982-01-01T00:00:00\"}, {\"Acceleration\": 12.6, \"Cylinders\": 6, \"Displacement\": 173.0, \"Horsepower\": 110.0, \"Miles_per_Gallon\": 23.5, \"Name\": \"chevrolet citation\", \"Origin\": \"USA\", \"Weight_in_lbs\": 2725, \"Year\": \"1982-01-01T00:00:00\"}, {\"Acceleration\": 12.9, \"Cylinders\": 4, \"Displacement\": 135.0, \"Horsepower\": 84.0, \"Miles_per_Gallon\": 30.0, \"Name\": \"plymouth reliant\", \"Origin\": \"USA\", \"Weight_in_lbs\": 2385, \"Year\": \"1982-01-01T00:00:00\"}, {\"Acceleration\": 16.9, \"Cylinders\": 4, \"Displacement\": 79.0, \"Horsepower\": 58.0, \"Miles_per_Gallon\": 39.1, \"Name\": \"toyota starlet\", \"Origin\": \"Japan\", \"Weight_in_lbs\": 1755, \"Year\": \"1982-01-01T00:00:00\"}, {\"Acceleration\": 16.4, \"Cylinders\": 4, \"Displacement\": 86.0, \"Horsepower\": 64.0, \"Miles_per_Gallon\": 39.0, \"Name\": \"plymouth champ\", \"Origin\": \"USA\", \"Weight_in_lbs\": 1875, \"Year\": \"1982-01-01T00:00:00\"}, {\"Acceleration\": 16.1, \"Cylinders\": 4, \"Displacement\": 81.0, \"Horsepower\": 60.0, \"Miles_per_Gallon\": 35.1, \"Name\": \"honda civic 1300\", \"Origin\": \"Japan\", \"Weight_in_lbs\": 1760, \"Year\": \"1982-01-01T00:00:00\"}, {\"Acceleration\": 17.8, \"Cylinders\": 4, \"Displacement\": 97.0, \"Horsepower\": 67.0, \"Miles_per_Gallon\": 32.3, \"Name\": \"subaru\", \"Origin\": \"Japan\", \"Weight_in_lbs\": 2065, \"Year\": \"1982-01-01T00:00:00\"}, {\"Acceleration\": 19.4, \"Cylinders\": 4, \"Displacement\": 85.0, \"Horsepower\": 65.0, \"Miles_per_Gallon\": 37.0, \"Name\": \"datsun 210\", \"Origin\": \"Japan\", \"Weight_in_lbs\": 1975, \"Year\": \"1982-01-01T00:00:00\"}, {\"Acceleration\": 17.3, \"Cylinders\": 4, \"Displacement\": 89.0, \"Horsepower\": 62.0, \"Miles_per_Gallon\": 37.7, \"Name\": \"toyota tercel\", \"Origin\": \"Japan\", \"Weight_in_lbs\": 2050, \"Year\": \"1982-01-01T00:00:00\"}, {\"Acceleration\": 16.0, \"Cylinders\": 4, \"Displacement\": 91.0, \"Horsepower\": 68.0, \"Miles_per_Gallon\": 34.1, \"Name\": \"mazda glc 4\", \"Origin\": \"Japan\", \"Weight_in_lbs\": 1985, \"Year\": \"1982-01-01T00:00:00\"}, {\"Acceleration\": 14.9, \"Cylinders\": 4, \"Displacement\": 105.0, \"Horsepower\": 63.0, \"Miles_per_Gallon\": 34.7, \"Name\": \"plymouth horizon 4\", \"Origin\": \"USA\", \"Weight_in_lbs\": 2215, \"Year\": \"1982-01-01T00:00:00\"}, {\"Acceleration\": 16.2, \"Cylinders\": 4, \"Displacement\": 98.0, \"Horsepower\": 65.0, \"Miles_per_Gallon\": 34.4, \"Name\": \"ford escort 4w\", \"Origin\": \"USA\", \"Weight_in_lbs\": 2045, \"Year\": \"1982-01-01T00:00:00\"}, {\"Acceleration\": 20.7, \"Cylinders\": 4, \"Displacement\": 98.0, \"Horsepower\": 65.0, \"Miles_per_Gallon\": 29.9, \"Name\": \"ford escort 2h\", \"Origin\": \"USA\", \"Weight_in_lbs\": 2380, \"Year\": \"1982-01-01T00:00:00\"}, {\"Acceleration\": 14.2, \"Cylinders\": 4, \"Displacement\": 105.0, \"Horsepower\": 74.0, \"Miles_per_Gallon\": 33.0, \"Name\": \"volkswagen jetta\", \"Origin\": \"Europe\", \"Weight_in_lbs\": 2190, \"Year\": \"1982-01-01T00:00:00\"}, {\"Acceleration\": 15.8, \"Cylinders\": 4, \"Displacement\": 100.0, \"Horsepower\": null, \"Miles_per_Gallon\": 34.5, \"Name\": \"renault 18i\", \"Origin\": \"Europe\", \"Weight_in_lbs\": 2320, \"Year\": \"1982-01-01T00:00:00\"}, {\"Acceleration\": 14.4, \"Cylinders\": 4, \"Displacement\": 107.0, \"Horsepower\": 75.0, \"Miles_per_Gallon\": 33.7, \"Name\": \"honda prelude\", \"Origin\": \"Japan\", \"Weight_in_lbs\": 2210, \"Year\": \"1982-01-01T00:00:00\"}, {\"Acceleration\": 16.8, \"Cylinders\": 4, \"Displacement\": 108.0, \"Horsepower\": 75.0, \"Miles_per_Gallon\": 32.4, \"Name\": \"toyota corolla\", \"Origin\": \"Japan\", \"Weight_in_lbs\": 2350, \"Year\": \"1982-01-01T00:00:00\"}, {\"Acceleration\": 14.8, \"Cylinders\": 4, \"Displacement\": 119.0, \"Horsepower\": 100.0, \"Miles_per_Gallon\": 32.9, \"Name\": \"datsun 200sx\", \"Origin\": \"Japan\", \"Weight_in_lbs\": 2615, \"Year\": \"1982-01-01T00:00:00\"}, {\"Acceleration\": 18.3, \"Cylinders\": 4, \"Displacement\": 120.0, \"Horsepower\": 74.0, \"Miles_per_Gallon\": 31.6, \"Name\": \"mazda 626\", \"Origin\": \"Japan\", \"Weight_in_lbs\": 2635, \"Year\": \"1982-01-01T00:00:00\"}, {\"Acceleration\": 20.4, \"Cylinders\": 4, \"Displacement\": 141.0, \"Horsepower\": 80.0, \"Miles_per_Gallon\": 28.1, \"Name\": \"peugeot 505s turbo diesel\", \"Origin\": \"Europe\", \"Weight_in_lbs\": 3230, \"Year\": \"1982-01-01T00:00:00\"}, {\"Acceleration\": 15.4, \"Cylinders\": 4, \"Displacement\": 121.0, \"Horsepower\": 110.0, \"Miles_per_Gallon\": null, \"Name\": \"saab 900s\", \"Origin\": \"Europe\", \"Weight_in_lbs\": 2800, \"Year\": \"1982-01-01T00:00:00\"}, {\"Acceleration\": 19.6, \"Cylinders\": 6, \"Displacement\": 145.0, \"Horsepower\": 76.0, \"Miles_per_Gallon\": 30.7, \"Name\": \"volvo diesel\", \"Origin\": \"Europe\", \"Weight_in_lbs\": 3160, \"Year\": \"1982-01-01T00:00:00\"}, {\"Acceleration\": 12.6, \"Cylinders\": 6, \"Displacement\": 168.0, \"Horsepower\": 116.0, \"Miles_per_Gallon\": 25.4, \"Name\": \"toyota cressida\", \"Origin\": \"Japan\", \"Weight_in_lbs\": 2900, \"Year\": \"1982-01-01T00:00:00\"}, {\"Acceleration\": 13.8, \"Cylinders\": 6, \"Displacement\": 146.0, \"Horsepower\": 120.0, \"Miles_per_Gallon\": 24.2, \"Name\": \"datsun 810 maxima\", \"Origin\": \"Japan\", \"Weight_in_lbs\": 2930, \"Year\": \"1982-01-01T00:00:00\"}, {\"Acceleration\": 15.8, \"Cylinders\": 6, \"Displacement\": 231.0, \"Horsepower\": 110.0, \"Miles_per_Gallon\": 22.4, \"Name\": \"buick century\", \"Origin\": \"USA\", \"Weight_in_lbs\": 3415, \"Year\": \"1982-01-01T00:00:00\"}, {\"Acceleration\": 19.0, \"Cylinders\": 8, \"Displacement\": 350.0, \"Horsepower\": 105.0, \"Miles_per_Gallon\": 26.6, \"Name\": \"oldsmobile cutlass ls\", \"Origin\": \"USA\", \"Weight_in_lbs\": 3725, \"Year\": \"1982-01-01T00:00:00\"}, {\"Acceleration\": 17.1, \"Cylinders\": 6, \"Displacement\": 200.0, \"Horsepower\": 88.0, \"Miles_per_Gallon\": 20.2, \"Name\": \"ford granada gl\", \"Origin\": \"USA\", \"Weight_in_lbs\": 3060, \"Year\": \"1982-01-01T00:00:00\"}, {\"Acceleration\": 16.6, \"Cylinders\": 6, \"Displacement\": 225.0, \"Horsepower\": 85.0, \"Miles_per_Gallon\": 17.6, \"Name\": \"chrysler lebaron salon\", \"Origin\": \"USA\", \"Weight_in_lbs\": 3465, \"Year\": \"1982-01-01T00:00:00\"}, {\"Acceleration\": 19.6, \"Cylinders\": 4, \"Displacement\": 112.0, \"Horsepower\": 88.0, \"Miles_per_Gallon\": 28.0, \"Name\": \"chevrolet cavalier\", \"Origin\": \"USA\", \"Weight_in_lbs\": 2605, \"Year\": \"1982-01-01T00:00:00\"}, {\"Acceleration\": 18.6, \"Cylinders\": 4, \"Displacement\": 112.0, \"Horsepower\": 88.0, \"Miles_per_Gallon\": 27.0, \"Name\": \"chevrolet cavalier wagon\", \"Origin\": \"USA\", \"Weight_in_lbs\": 2640, \"Year\": \"1982-01-01T00:00:00\"}, {\"Acceleration\": 18.0, \"Cylinders\": 4, \"Displacement\": 112.0, \"Horsepower\": 88.0, \"Miles_per_Gallon\": 34.0, \"Name\": \"chevrolet cavalier 2-door\", \"Origin\": \"USA\", \"Weight_in_lbs\": 2395, \"Year\": \"1982-01-01T00:00:00\"}, {\"Acceleration\": 16.2, \"Cylinders\": 4, \"Displacement\": 112.0, \"Horsepower\": 85.0, \"Miles_per_Gallon\": 31.0, \"Name\": \"pontiac j2000 se hatchback\", \"Origin\": \"USA\", \"Weight_in_lbs\": 2575, \"Year\": \"1982-01-01T00:00:00\"}, {\"Acceleration\": 16.0, \"Cylinders\": 4, \"Displacement\": 135.0, \"Horsepower\": 84.0, \"Miles_per_Gallon\": 29.0, \"Name\": \"dodge aries se\", \"Origin\": \"USA\", \"Weight_in_lbs\": 2525, \"Year\": \"1982-01-01T00:00:00\"}, {\"Acceleration\": 18.0, \"Cylinders\": 4, \"Displacement\": 151.0, \"Horsepower\": 90.0, \"Miles_per_Gallon\": 27.0, \"Name\": \"pontiac phoenix\", \"Origin\": \"USA\", \"Weight_in_lbs\": 2735, \"Year\": \"1982-01-01T00:00:00\"}, {\"Acceleration\": 16.4, \"Cylinders\": 4, \"Displacement\": 140.0, \"Horsepower\": 92.0, \"Miles_per_Gallon\": 24.0, \"Name\": \"ford fairmont futura\", \"Origin\": \"USA\", \"Weight_in_lbs\": 2865, \"Year\": \"1982-01-01T00:00:00\"}, {\"Acceleration\": 20.5, \"Cylinders\": 4, \"Displacement\": 151.0, \"Horsepower\": null, \"Miles_per_Gallon\": 23.0, \"Name\": \"amc concord dl\", \"Origin\": \"USA\", \"Weight_in_lbs\": 3035, \"Year\": \"1982-01-01T00:00:00\"}, {\"Acceleration\": 15.3, \"Cylinders\": 4, \"Displacement\": 105.0, \"Horsepower\": 74.0, \"Miles_per_Gallon\": 36.0, \"Name\": \"volkswagen rabbit l\", \"Origin\": \"Europe\", \"Weight_in_lbs\": 1980, \"Year\": \"1982-01-01T00:00:00\"}, {\"Acceleration\": 18.2, \"Cylinders\": 4, \"Displacement\": 91.0, \"Horsepower\": 68.0, \"Miles_per_Gallon\": 37.0, \"Name\": \"mazda glc custom l\", \"Origin\": \"Japan\", \"Weight_in_lbs\": 2025, \"Year\": \"1982-01-01T00:00:00\"}, {\"Acceleration\": 17.6, \"Cylinders\": 4, \"Displacement\": 91.0, \"Horsepower\": 68.0, \"Miles_per_Gallon\": 31.0, \"Name\": \"mazda glc custom\", \"Origin\": \"Japan\", \"Weight_in_lbs\": 1970, \"Year\": \"1982-01-01T00:00:00\"}, {\"Acceleration\": 14.7, \"Cylinders\": 4, \"Displacement\": 105.0, \"Horsepower\": 63.0, \"Miles_per_Gallon\": 38.0, \"Name\": \"plymouth horizon miser\", \"Origin\": \"USA\", \"Weight_in_lbs\": 2125, \"Year\": \"1982-01-01T00:00:00\"}, {\"Acceleration\": 17.3, \"Cylinders\": 4, \"Displacement\": 98.0, \"Horsepower\": 70.0, \"Miles_per_Gallon\": 36.0, \"Name\": \"mercury lynx l\", \"Origin\": \"USA\", \"Weight_in_lbs\": 2125, \"Year\": \"1982-01-01T00:00:00\"}, {\"Acceleration\": 14.5, \"Cylinders\": 4, \"Displacement\": 120.0, \"Horsepower\": 88.0, \"Miles_per_Gallon\": 36.0, \"Name\": \"nissan stanza xe\", \"Origin\": \"Japan\", \"Weight_in_lbs\": 2160, \"Year\": \"1982-01-01T00:00:00\"}, {\"Acceleration\": 14.5, \"Cylinders\": 4, \"Displacement\": 107.0, \"Horsepower\": 75.0, \"Miles_per_Gallon\": 36.0, \"Name\": \"honda Accelerationord\", \"Origin\": \"Japan\", \"Weight_in_lbs\": 2205, \"Year\": \"1982-01-01T00:00:00\"}, {\"Acceleration\": 16.9, \"Cylinders\": 4, \"Displacement\": 108.0, \"Horsepower\": 70.0, \"Miles_per_Gallon\": 34.0, \"Name\": \"toyota corolla\", \"Origin\": \"Japan\", \"Weight_in_lbs\": 2245, \"Year\": \"1982-01-01T00:00:00\"}, {\"Acceleration\": 15.0, \"Cylinders\": 4, \"Displacement\": 91.0, \"Horsepower\": 67.0, \"Miles_per_Gallon\": 38.0, \"Name\": \"honda civic\", \"Origin\": \"Japan\", \"Weight_in_lbs\": 1965, \"Year\": \"1982-01-01T00:00:00\"}, {\"Acceleration\": 15.7, \"Cylinders\": 4, \"Displacement\": 91.0, \"Horsepower\": 67.0, \"Miles_per_Gallon\": 32.0, \"Name\": \"honda civic (auto)\", \"Origin\": \"Japan\", \"Weight_in_lbs\": 1965, \"Year\": \"1982-01-01T00:00:00\"}, {\"Acceleration\": 16.2, \"Cylinders\": 4, \"Displacement\": 91.0, \"Horsepower\": 67.0, \"Miles_per_Gallon\": 38.0, \"Name\": \"datsun 310 gx\", \"Origin\": \"Japan\", \"Weight_in_lbs\": 1995, \"Year\": \"1982-01-01T00:00:00\"}, {\"Acceleration\": 16.4, \"Cylinders\": 6, \"Displacement\": 181.0, \"Horsepower\": 110.0, \"Miles_per_Gallon\": 25.0, \"Name\": \"buick century limited\", \"Origin\": \"USA\", \"Weight_in_lbs\": 2945, \"Year\": \"1982-01-01T00:00:00\"}, {\"Acceleration\": 17.0, \"Cylinders\": 6, \"Displacement\": 262.0, \"Horsepower\": 85.0, \"Miles_per_Gallon\": 38.0, \"Name\": \"oldsmobile cutlass ciera (diesel)\", \"Origin\": \"USA\", \"Weight_in_lbs\": 3015, \"Year\": \"1982-01-01T00:00:00\"}, {\"Acceleration\": 14.5, \"Cylinders\": 4, \"Displacement\": 156.0, \"Horsepower\": 92.0, \"Miles_per_Gallon\": 26.0, \"Name\": \"chrysler lebaron medallion\", \"Origin\": \"USA\", \"Weight_in_lbs\": 2585, \"Year\": \"1982-01-01T00:00:00\"}, {\"Acceleration\": 14.7, \"Cylinders\": 6, \"Displacement\": 232.0, \"Horsepower\": 112.0, \"Miles_per_Gallon\": 22.0, \"Name\": \"ford granada l\", \"Origin\": \"USA\", \"Weight_in_lbs\": 2835, \"Year\": \"1982-01-01T00:00:00\"}, {\"Acceleration\": 13.9, \"Cylinders\": 4, \"Displacement\": 144.0, \"Horsepower\": 96.0, \"Miles_per_Gallon\": 32.0, \"Name\": \"toyota celica gt\", \"Origin\": \"Japan\", \"Weight_in_lbs\": 2665, \"Year\": \"1982-01-01T00:00:00\"}, {\"Acceleration\": 13.0, \"Cylinders\": 4, \"Displacement\": 135.0, \"Horsepower\": 84.0, \"Miles_per_Gallon\": 36.0, \"Name\": \"dodge charger 2.2\", \"Origin\": \"USA\", \"Weight_in_lbs\": 2370, \"Year\": \"1982-01-01T00:00:00\"}, {\"Acceleration\": 17.3, \"Cylinders\": 4, \"Displacement\": 151.0, \"Horsepower\": 90.0, \"Miles_per_Gallon\": 27.0, \"Name\": \"chevrolet camaro\", \"Origin\": \"USA\", \"Weight_in_lbs\": 2950, \"Year\": \"1982-01-01T00:00:00\"}, {\"Acceleration\": 15.6, \"Cylinders\": 4, \"Displacement\": 140.0, \"Horsepower\": 86.0, \"Miles_per_Gallon\": 27.0, \"Name\": \"ford mustang gl\", \"Origin\": \"USA\", \"Weight_in_lbs\": 2790, \"Year\": \"1982-01-01T00:00:00\"}, {\"Acceleration\": 24.6, \"Cylinders\": 4, \"Displacement\": 97.0, \"Horsepower\": 52.0, \"Miles_per_Gallon\": 44.0, \"Name\": \"vw pickup\", \"Origin\": \"Europe\", \"Weight_in_lbs\": 2130, \"Year\": \"1982-01-01T00:00:00\"}, {\"Acceleration\": 11.6, \"Cylinders\": 4, \"Displacement\": 135.0, \"Horsepower\": 84.0, \"Miles_per_Gallon\": 32.0, \"Name\": \"dodge rampage\", \"Origin\": \"USA\", \"Weight_in_lbs\": 2295, \"Year\": \"1982-01-01T00:00:00\"}, {\"Acceleration\": 18.6, \"Cylinders\": 4, \"Displacement\": 120.0, \"Horsepower\": 79.0, \"Miles_per_Gallon\": 28.0, \"Name\": \"ford ranger\", \"Origin\": \"USA\", \"Weight_in_lbs\": 2625, \"Year\": \"1982-01-01T00:00:00\"}, {\"Acceleration\": 19.4, \"Cylinders\": 4, \"Displacement\": 119.0, \"Horsepower\": 82.0, \"Miles_per_Gallon\": 31.0, \"Name\": \"chevy s-10\", \"Origin\": \"USA\", \"Weight_in_lbs\": 2720, \"Year\": \"1982-01-01T00:00:00\"}]}};\n",
              "      var embedOpt = {\"mode\": \"vega-lite\"};\n",
              "\n",
              "      function showError(el, error){\n",
              "          el.innerHTML = ('<div class=\"error\" style=\"color:red;\">'\n",
              "                          + '<p>JavaScript Error: ' + error.message + '</p>'\n",
              "                          + \"<p>This usually means there's a typo in your chart specification. \"\n",
              "                          + \"See the javascript console for the full traceback.</p>\"\n",
              "                          + '</div>');\n",
              "          throw error;\n",
              "      }\n",
              "      const el = document.getElementById('altair-viz');\n",
              "      vegaEmbed(\"#altair-viz\", spec, embedOpt)\n",
              "        .catch(error => showError(el, error));\n",
              "\n",
              "  </script>\n",
              "</body>\n",
              "</html>"
            ]
          },
          "metadata": {
            "tags": []
          },
          "execution_count": 77
        }
      ]
    },
    {
      "cell_type": "markdown",
      "metadata": {
        "colab_type": "text",
        "id": "NMEswXWh9mqw"
      },
      "source": [
        "# ASSIGNMENT\n",
        "\n",
        "Replicate the lesson code. I recommend that you [do not copy-paste](https://docs.google.com/document/d/1ubOw9B3Hfip27hF2ZFnW3a3z9xAgrUDRReOEo-FHCVs/edit).\n",
        "\n",
        "# STRETCH OPTIONS\n",
        "\n",
        "#### Reproduce another example from [FiveThityEight's shared data repository](https://data.fivethirtyeight.com/).\n",
        "\n",
        "For example:\n",
        "- [thanksgiving-2015](https://fivethirtyeight.com/features/heres-what-your-part-of-america-eats-on-thanksgiving/) (try the [`altair`](https://altair-viz.github.io/gallery/index.html#maps) library)\n",
        "- [candy-power-ranking](https://fivethirtyeight.com/features/the-ultimate-halloween-candy-power-ranking/) (try the [`statsmodels`](https://www.statsmodels.org/stable/index.html) library)\n",
        "- or another example of your choice!\n",
        "\n",
        "#### Make more charts!\n",
        "\n",
        "Choose a chart you want to make, from [Visual Vocabulary - Vega Edition](http://ft.com/vocabulary).\n",
        "\n",
        "Find the chart in an example gallery of a Python data visualization library:\n",
        "- [Seaborn](http://seaborn.pydata.org/examples/index.html)\n",
        "- [Altair](https://altair-viz.github.io/gallery/index.html)\n",
        "- [Matplotlib](https://matplotlib.org/gallery.html)\n",
        "- [Pandas](https://pandas.pydata.org/pandas-docs/stable/visualization.html)\n",
        "\n",
        "Reproduce the chart. [Optionally, try the \"Ben Franklin Method.\"](https://docs.google.com/document/d/1ubOw9B3Hfip27hF2ZFnW3a3z9xAgrUDRReOEo-FHCVs/edit) If you want, experiment and make changes.\n",
        "\n",
        "Take notes. Consider sharing your work with your cohort!\n",
        "\n",
        "\n",
        "\n",
        "\n",
        "\n",
        "\n",
        "\n"
      ]
    }
  ]
}
