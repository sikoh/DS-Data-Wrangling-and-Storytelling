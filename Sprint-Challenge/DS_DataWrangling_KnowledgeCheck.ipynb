{
  "nbformat": 4,
  "nbformat_minor": 0,
  "metadata": {
    "colab": {
      "provenance": [],
      "include_colab_link": true
    },
    "kernelspec": {
      "name": "python3",
      "display_name": "Python 3"
    }
  },
  "cells": [
    {
      "cell_type": "markdown",
      "metadata": {
        "id": "view-in-github",
        "colab_type": "text"
      },
      "source": [
        "<a href=\"https://colab.research.google.com/github/sikoh/DS-Data-Wrangling-and-Storytelling/blob/main/Sprint-Challenge/DS_DataWrangling_KnowledgeCheck.ipynb\" target=\"_parent\"><img src=\"https://colab.research.google.com/assets/colab-badge.svg\" alt=\"Open In Colab\"/></a>"
      ]
    },
    {
      "cell_type": "markdown",
      "metadata": {
        "id": "Nd2OOOVXxXS1"
      },
      "source": [
        "This study guide should reinforce and provide practice for all of the concepts you have seen in Unit 1 Sprint 1. There are a mix of written questions and coding exercises, both are equally important to prepare you for the sprint challenge as well as to be able to speak on these topics comfortably in interviews and on the job.\n",
        "\n",
        "If you get stuck or are unsure of something remember the 20 minute rule. If that doesn't help, then research a solution with google and stackoverflow. Only once you have exausted these methods should you turn to your track team and mentor - they won't be there on your SC or during an interview. That being said, don't hesitate to ask for help if you truly are stuck.\n",
        "\n",
        "Have fun studying!"
      ]
    },
    {
      "cell_type": "markdown",
      "metadata": {
        "id": "fpvInKdXekFi"
      },
      "source": [
        "## Questions"
      ]
    },
    {
      "cell_type": "code",
      "metadata": {
        "id": "Q8aB5qieZG-k"
      },
      "source": [],
      "execution_count": null,
      "outputs": []
    },
    {
      "cell_type": "markdown",
      "metadata": {
        "id": "Q6bS8AhBZ86H"
      },
      "source": [
        "When completing this section, try to limit your answers to 2-3 sentences max and use plain english as much as possible. It's very easy to hide incomplete knowledge and undertanding behind fancy or technical words, so imagine you are explaining these things to a non-technical interviewer.\n",
        "\n",
        "1. What is a Data Frame?\n",
        "```\n",
        "A Data frame is a two-dimensional data structure.\n",
        "Data is aligned in a tabular fashion in rows and columns.\n",
        "Pandas DataFrame consists of three principal components,\n",
        "the data, rows, and columns.\n",
        "```\n",
        "\n",
        "2. What is Pandas?\n",
        "```\n",
        "Pandas is a software library written for\n",
        "the Python programming language for data manipulation and analysis.\n",
        "```\n",
        "\n",
        "3. How do you check for missing values?\n",
        "```\n",
        "# Count missing values in each column\n",
        "df.isna().sum()\n",
        "df.isnull().sum()\n",
        "\n",
        "# Count missing values in the entire DataFrame\n",
        "df.isna().sum().sum()\n",
        "df.isnull().sum().sum()\n",
        "```\n",
        "\n",
        "4. What is numpy?\n",
        "```\n",
        "NumPy (Numerical Python) is an open-source Python library.\n",
        "```\n",
        "\n",
        "5. Explain the difference between tidy and wide (summary) data.\n",
        "```\n",
        "In the tidy format, each column is a single variable, and each row is an observation.\n",
        "In wide(spreadsheet-like) format is organized with multiple variables in the same row, making it less flexible and harder to work with.\n",
        "\n",
        "```\n",
        "\n",
        "6. Explain the difference between categorical and quantitative data.\n",
        "```\n",
        "Categorical data consists of names or labels used to represent qualities or characteristics.(color, names, types)\n",
        "Quantitative data represents numerical values and can be measured and subjected to mathematical operations.(age,height, number of ...)\n",
        "```\n",
        "\n",
        "7. For categorical variables, explain the difference between an ordinal, nominal or identifier variable.\n",
        "```\n",
        "Nominal variables-unordered, categories which are mutually exclusive like male/female, smoker/non-smoker\n",
        "Ordinal variables - orderd, categories, which are mutually exclusive like IOTN 1/2/3/4/5 or minimal/moderate/severe/unberable pain\n",
        "```\n",
        "\n",
        "8. For quantitative variables, explain the difference between a discrete and a continuous variable.\n",
        "```\n",
        "Discrete - Whole numerical value/counts(number of ..visits to disney, cars, children, pets)\n",
        "Continuous - Can take any value within a range(hight, distance, time, salary)\n",
        "```\n",
        "\n",
        "9. Explain the differnece between an inner, outer, left and right merge.\n",
        "```\n",
        "Inner merge (inner join) combines data from two datasets based on a common key, including only the rows that have matching key values in both datasets. Filters out non-matching rows, resulting in a dataset with data ONLY where the keys match in both datasets.\n",
        "\n",
        "Outer merge (outer join) includes all rows from both datasets in the result, filling in missing values with NaN or other specified fill values where there are no matches. This merge type retains all data from both datasets, ensuring that no information is lost, even if there are non-matching key values.\n",
        "\n",
        "Left merge (left join) takes all the rows from the left (first) dataset and the matching rows from the right (second) dataset based on the common key. Non-matching rows from the left dataset are included, while non-matching rows from the right dataset are excluded.\n",
        "\n",
        "Right merge (right join) is the opposite of a left merge. It includes all rows from the right dataset and the matching rows from the left dataset. Non-matching rows from the right dataset are included, while non-matching rows from the left dataset are excluded.\n",
        "```\n",
        "\n",
        "10. Explain the differnece between merging and concatenating data.\n",
        "```\n",
        "Merging -  merge() is used for joining data frames based on a common column or key. Typically results in a new dataset with different structures.\n",
        "\n",
        "Concatenating - concat() is used for appending/combining/stacking data frames with the same structure either vertically or horizontally. Preserves the original structure without considering key values.\n",
        "```\n",
        "\n",
        "11. Explain the purpose of a function.\n",
        "```\n",
        "Modularity -  smaller, manageable components.\n",
        "Reusability - can be used multiple times.\n",
        "Readability - easier to read code.\n",
        "```\n",
        "\n",
        "12. Explain what .apply() does.\n",
        "```\n",
        ".apply() method is used to apply custom or build-in functions to a DataFrame.\n",
        "df.apply(custom function, axis=0, *args, **kwargs)\n",
        "#axis,args,kwargs are optional\n",
        "\n",
        "#example:\n",
        "import pandas as pd\n",
        "\n",
        "df = pd.DataFrame({'A': [1, 2, 3, 4], 'B': [5, 6, 7, 8]})\n",
        "\n",
        "# Define a custom function to square each element\n",
        "def square(x):\n",
        "    return x**2\n",
        "\n",
        "# Apply the function to each element of the DataFrame\n",
        "df_squared = df.apply(square)\n",
        "\n",
        "# Apply a lambda function to calculate the mean of each column\n",
        "column_mean = df.apply(lambda x: x.mean(), axis=0)\n",
        "\n",
        "```\n",
        "\n",
        "13. Explain what .strip() does.\n",
        "```\n",
        ".strip() removes leading and trailing whitespace. Any whitespaces in the middle of the string are preserved!\n",
        "#Example:\n",
        "text = \"   Keep   Middle   Unchanged   \"\n",
        "cleaned_text = text.strip()\n",
        "print(cleaned_text)  # Output: \"Keep   Middle   Unchanged\"\n",
        "\n",
        "```\n",
        "\n",
        "14. Explain what .strip('%') does.\n",
        "```\n",
        ".strip('%') method removes the percentage symbol (\"%\") from the beginning and end of a string.\n",
        "#Example\n",
        "percentage = \"25.00%\"\n",
        "cleaned_percentage = percentage.strip('%')\n",
        "print(cleaned_percentage)  # Output: \"25.00\"\n",
        "\n",
        "```\n",
        "\n",
        "15. Explain what .split('-') does.\n",
        "```\n",
        ".split('-') method is used to split a string into a list of substrings based on the hyphen (\"-\").\n",
        "#example:\n",
        "text = \"apple-orange-banana-grape\"\n",
        "split_text = text.split('-')\n",
        "print(split_text)  # Output: ['apple', 'orange', 'banana', 'grape']\n",
        "```\n",
        "\n",
        "16. Give an example of a misleading figure and how you would fix it.\n",
        "```\n",
        "Truncated Y-Axis\n",
        "\n",
        "Problem: The y-axis starts at a value greater than zero.\n",
        "Solution: Start the y-axis at zero to provide a more accurate representation of the data.\n",
        "```\n",
        "\n",
        "17. Describe the important fetures of the distribution of a quantitative variable.\n",
        "```\n",
        "The shape of the distribution, the presence of outliers, the center, and the spread(SOCS).\n",
        "```"
      ]
    },
    {
      "cell_type": "markdown",
      "metadata": {
        "id": "dUQaIwbceohq"
      },
      "source": [
        "## Coding problems"
      ]
    },
    {
      "cell_type": "markdown",
      "metadata": {
        "id": "4jnYgnFjP6eE"
      },
      "source": [
        "Import pandas, numpy, matplotlib, etc.\n"
      ]
    },
    {
      "cell_type": "code",
      "metadata": {
        "id": "S9hFYrmqQlLA"
      },
      "source": [],
      "execution_count": null,
      "outputs": []
    },
    {
      "cell_type": "markdown",
      "metadata": {
        "id": "bCbET5ioQlmQ"
      },
      "source": [
        "Import a dataset from a link\n"
      ]
    },
    {
      "cell_type": "code",
      "metadata": {
        "id": "lwNwPn5nQowi"
      },
      "source": [],
      "execution_count": null,
      "outputs": []
    },
    {
      "cell_type": "markdown",
      "metadata": {
        "id": "2hq-PhcTQph7"
      },
      "source": [
        "Import a dataset from a .csv file saved on your personal computer."
      ]
    },
    {
      "cell_type": "code",
      "metadata": {
        "id": "ZsWsuYwXRRP3"
      },
      "source": [],
      "execution_count": null,
      "outputs": []
    },
    {
      "cell_type": "markdown",
      "metadata": {
        "id": "jVqQYLgxld7M"
      },
      "source": [
        "Import matplotlib"
      ]
    },
    {
      "cell_type": "code",
      "metadata": {
        "id": "ScovMuwvRdtq"
      },
      "source": [],
      "execution_count": null,
      "outputs": []
    },
    {
      "cell_type": "markdown",
      "metadata": {
        "id": "uD5cTw9plh9c"
      },
      "source": [
        "Loading and viewing a Dataframe"
      ]
    },
    {
      "cell_type": "code",
      "metadata": {
        "id": "XlazD59ClhXi"
      },
      "source": [],
      "execution_count": null,
      "outputs": []
    },
    {
      "cell_type": "markdown",
      "metadata": {
        "id": "JyThYBHGlm60"
      },
      "source": [
        "Using the loaded DataFrame to create and display a plot or graph."
      ]
    },
    {
      "cell_type": "code",
      "metadata": {
        "id": "pr_vT8VSmK6J"
      },
      "source": [],
      "execution_count": null,
      "outputs": []
    },
    {
      "cell_type": "markdown",
      "metadata": {
        "id": "jsVSa5EXnS_o"
      },
      "source": [
        "Print the first five rows of a dataset\n"
      ]
    },
    {
      "cell_type": "code",
      "metadata": {
        "id": "mmdHcvXznVec"
      },
      "source": [],
      "execution_count": null,
      "outputs": []
    },
    {
      "cell_type": "markdown",
      "metadata": {
        "id": "gmYQEUVtnVrS"
      },
      "source": [
        "Print the last five rows of a dataset"
      ]
    },
    {
      "cell_type": "code",
      "metadata": {
        "id": "bs4t6foXnXyC"
      },
      "source": [],
      "execution_count": null,
      "outputs": []
    },
    {
      "cell_type": "markdown",
      "metadata": {
        "id": "Lk74FAh9nYHL"
      },
      "source": [
        "Print a single variable in a dataset"
      ]
    },
    {
      "cell_type": "code",
      "metadata": {
        "id": "abVBumEJnbTj"
      },
      "source": [],
      "execution_count": null,
      "outputs": []
    },
    {
      "cell_type": "markdown",
      "metadata": {
        "id": "yxvIfMg2nblq"
      },
      "source": [
        "Drop rows from a dataset"
      ]
    },
    {
      "cell_type": "code",
      "metadata": {
        "id": "lxpnqi1PnuS4"
      },
      "source": [],
      "execution_count": null,
      "outputs": []
    },
    {
      "cell_type": "markdown",
      "metadata": {
        "id": "3lMapML2nueU"
      },
      "source": [
        "Find the dimensions of a dataframe"
      ]
    },
    {
      "cell_type": "code",
      "metadata": {
        "id": "MO8vcOK3oAI3"
      },
      "source": [],
      "execution_count": null,
      "outputs": []
    },
    {
      "cell_type": "markdown",
      "metadata": {
        "id": "-TMBHELcoAUL"
      },
      "source": [
        "Identify the data types for each column in a dataframe"
      ]
    },
    {
      "cell_type": "code",
      "metadata": {
        "id": "VdHEuBNQoEdL"
      },
      "source": [],
      "execution_count": null,
      "outputs": []
    },
    {
      "cell_type": "markdown",
      "metadata": {
        "id": "c0LRaORtoPJj"
      },
      "source": [
        "Display summary statstics for a dataset."
      ]
    },
    {
      "cell_type": "code",
      "metadata": {
        "id": "PXP_Ir9noTY6"
      },
      "source": [],
      "execution_count": null,
      "outputs": []
    },
    {
      "cell_type": "markdown",
      "metadata": {
        "id": "DqzkGVSaoT0b"
      },
      "source": [
        "Create a new variable that is a linear combination of other variables."
      ]
    },
    {
      "cell_type": "code",
      "metadata": {
        "id": "wK8t9QrNosLv"
      },
      "source": [],
      "execution_count": null,
      "outputs": []
    },
    {
      "cell_type": "markdown",
      "metadata": {
        "id": "9wUphwc2ostv"
      },
      "source": [
        "Create a new variable using the .apply() function."
      ]
    },
    {
      "cell_type": "code",
      "metadata": {
        "id": "HbtajpAQpSsB"
      },
      "source": [],
      "execution_count": null,
      "outputs": []
    },
    {
      "cell_type": "markdown",
      "metadata": {
        "id": "uLQiD_pXpS4Q"
      },
      "source": [
        "Create a new variable using if-then statments with .loc"
      ]
    },
    {
      "cell_type": "code",
      "metadata": {
        "id": "gzaD7rkjpb-5"
      },
      "source": [],
      "execution_count": null,
      "outputs": []
    },
    {
      "cell_type": "markdown",
      "metadata": {
        "id": "jiI41_j_pcNT"
      },
      "source": [
        "Add and and or statements to your if-then statement with .loc"
      ]
    },
    {
      "cell_type": "code",
      "metadata": {
        "id": "jZUAwgcXpiIa"
      },
      "source": [],
      "execution_count": null,
      "outputs": []
    },
    {
      "cell_type": "markdown",
      "metadata": {
        "id": "TSzazmW1piUj"
      },
      "source": [
        "Convert a date to a datetime format."
      ]
    },
    {
      "cell_type": "code",
      "metadata": {
        "id": "bZu1fB6Qraqr"
      },
      "source": [],
      "execution_count": null,
      "outputs": []
    },
    {
      "cell_type": "markdown",
      "metadata": {
        "id": "wzarAGNkrGyh"
      },
      "source": [
        "Make a histogram"
      ]
    },
    {
      "cell_type": "code",
      "metadata": {
        "id": "fIPPUOP0rG97"
      },
      "source": [],
      "execution_count": null,
      "outputs": []
    },
    {
      "cell_type": "markdown",
      "metadata": {
        "id": "_q0dSVW3Nsms"
      },
      "source": [
        "Make a box plot"
      ]
    },
    {
      "cell_type": "code",
      "metadata": {
        "id": "f7QCHb6xNv4v"
      },
      "source": [],
      "execution_count": null,
      "outputs": []
    },
    {
      "cell_type": "markdown",
      "metadata": {
        "id": "5l623djktvYg"
      },
      "source": [
        "Make a bar plot"
      ]
    },
    {
      "cell_type": "code",
      "metadata": {
        "id": "bcdFHrFOtyzE"
      },
      "source": [],
      "execution_count": null,
      "outputs": []
    },
    {
      "cell_type": "markdown",
      "metadata": {
        "id": "ZunmkAzDty-Q"
      },
      "source": [
        "Make a line plot"
      ]
    },
    {
      "cell_type": "code",
      "metadata": {
        "id": "iUUR_m3LuHL2"
      },
      "source": [],
      "execution_count": null,
      "outputs": []
    },
    {
      "cell_type": "markdown",
      "metadata": {
        "id": "yrpxkNbRuHXd"
      },
      "source": [
        "Print axis and figure legends"
      ]
    },
    {
      "cell_type": "code",
      "metadata": {
        "id": "Aj5E84MAuR3Z"
      },
      "source": [],
      "execution_count": null,
      "outputs": []
    },
    {
      "cell_type": "markdown",
      "metadata": {
        "id": "e2zgIRceuSDg"
      },
      "source": [
        "Identify missing data in a dataframe."
      ]
    }
  ]
}